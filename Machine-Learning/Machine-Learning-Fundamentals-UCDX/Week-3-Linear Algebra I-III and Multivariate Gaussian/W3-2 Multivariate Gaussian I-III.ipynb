{
 "cells": [
  {
   "cell_type": "markdown",
   "id": "7d4fea8c-e951-4d70-9f1c-b024487fdd4b",
   "metadata": {},
   "source": [
    "# Multivariate Gaussian \n",
    "\n",
    "Topics:\n",
    "\n",
    "  1. Funcational form of the density\n",
    "  \n",
    "  2. Special case:\n",
    "  \n",
    "    i. diagonal Gaussian\n",
    "    ii. spherical Gaussian\n",
    "    \n",
    "  3. Fitting a Gaussian to data\n",
    "  \n",
    "<img src=\"images/gaussian1.png\" alt=\"dot product example\" style=\"width:700px\"> \n",
    "\n",
    "<img src=\"images/gaussian2.png\" alt=\"dot product example\" style=\"width:500px\"> \n",
    "\n",
    "- Mean, $\\mu$ is the center point over here. And it's the point of highest density.\n",
    "\n",
    "- The ellipses show the contour lines of the density and the reason that tilted upwards is because there is a positive correlation between the two features."
   ]
  },
  {
   "cell_type": "markdown",
   "id": "a5a045eb-9078-48f0-ad07-8ff53d71ca41",
   "metadata": {},
   "source": [
    "## $N(\\mu, \\Sigma): \\text{Gaussian in } {\\Bbb R}^d$\n",
    "\n",
    "Mean: $N(\\mu) \\in {\\Bbb R}^d$\n",
    "\n",
    "Covariance: $d \\times d \\text{ matrix } \\Sigma$ \n",
    "\n",
    "Generates points $X = (X_1, X_2, \\cdots X_d)$\n",
    "\n",
    "- $\\mu$ is the vector of coordinate-wise means:\n",
    "$$\\mu_1 = \\mathbb{E}(X_1), \\mu_2 = \\mathbb{E}(X_2), \\cdots, \\mu_d = \\mathbb{E}(X_d).$$\n",
    "\n",
    "- $\\Sigma$ is matrix containing all pairwise covariances:\n",
    "\n",
    "$$\\Sigma_{ij} = \\Sigma_{ji} \\text{  if } i \\ne j$$\n",
    "$$\\Sigma_{ii} = var(X_i)$$\n",
    "\n",
    "Density $p(x) = \\frac{1}{(2 \\pi)^{d/2}|\\Sigma|}exp(-\\frac{1}{2} (x-\\mu)^T \\Sigma^{-1} (x-\\mu))$\n",
    "\n",
    "Here:\n",
    "\n",
    "**$\\boxed{\\frac{1}{(2 \\pi)^{d/2}|\\Sigma|}}$ is the normalization term, making sure the expression integrates to $1$.**\n",
    "  \n",
    "  - $|\\Sigma|$: determinant of $\\Sigma$\n",
    "    \n",
    "    \n",
    "    \n",
    "**$\\boxed{exp(-\\frac{1}{2} (x-\\mu)^T \\Sigma^{-1} (x-\\mu))}$ only term that depends on $X$**\n",
    "  \n",
    "  - Suppose $\\mu = 0$, then $(x-\\mu)^T \\Sigma^{-1} (x-\\mu)$ becomes $(x-0)^T \\Sigma^{-1} (x-0))$\n",
    "    \n",
    "      - We can think of this as $x^TMx$ i.e. quadratic function\n",
    "      \n",
    "      - And indeed, an ellipsoid is a kind of quadratic."
   ]
  },
  {
   "cell_type": "markdown",
   "id": "7ce26bf8-aa37-4f2c-b039-d3aeadc2366a",
   "metadata": {},
   "source": [
    "<img src=\"images/gaussian3.png\" alt=\"dot product example\" style=\"width:500px\"> \n",
    "\n",
    "<img src=\"images/gaussian4.png\" alt=\"dot product example\" style=\"width:500px\"> \n",
    "\n",
    "\n",
    "**So how many parameters do you need for a diagonal Gaussian?**\n",
    "\n",
    "  - Well, the mean is the $d$ numbers because it's a $d-dimensional$ vector.\n",
    "\n",
    "**What about the covariance matrix?**\n",
    "\n",
    "  - Well, it's a diagonal matrix, so you only need $d$ numbers.\n",
    "\n",
    "$$\\boxed{\\text{So the total number of parameters is two d.}}$$\n",
    "This is a huge savings over the general Gaussian,\n",
    "which has a full covariance matrix, and therefore needs\n",
    "something on the order of d squared parameters.\n",
    "\n",
    "<img src=\"images/gaussian5.png\" alt=\"dot product example\" style=\"width:500px\"> \n",
    "\n",
    "- the density at point x depends only on the distance from $x$ to $\\mu$.\n",
    "  - It depends only on the distance to the center of the Gaussian.\n",
    "\n",
    "- So the points of equal density are points that lie on a sphere, centered at $\\mu$.\n",
    "\n",
    "- So as always, the density is highest at  $\\mu$, and as you move away from $\\mu$, the shells of equal density are these concentric spheres.\n",
    "\n",
    "\n",
    "<img src=\"images/gaussian6.png\" alt=\"gaussian6\" style=\"width:500px\">"
   ]
  },
  {
   "cell_type": "markdown",
   "id": "d9aac47e-05e6-47a5-86d5-bda4d1a8cd62",
   "metadata": {},
   "source": [
    "# Gaussian Generative Models I\n",
    "\n",
    "Topics:\n",
    "\n",
    "  1. Classification using multivariate Gaussian generative modeling.\n",
    "  \n",
    "  2. The form of the decission boundaries"
   ]
  },
  {
   "cell_type": "code",
   "execution_count": null,
   "id": "2c8b755f-0103-4b92-99d5-b0865bbe3399",
   "metadata": {},
   "outputs": [],
   "source": []
  }
 ],
 "metadata": {
  "kernelspec": {
   "display_name": "Python 3",
   "language": "python",
   "name": "python3"
  },
  "language_info": {
   "codemirror_mode": {
    "name": "ipython",
    "version": 3
   },
   "file_extension": ".py",
   "mimetype": "text/x-python",
   "name": "python",
   "nbconvert_exporter": "python",
   "pygments_lexer": "ipython3",
   "version": "3.8.10"
  }
 },
 "nbformat": 4,
 "nbformat_minor": 5
}
