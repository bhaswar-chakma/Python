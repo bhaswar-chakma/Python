{
 "cells": [
  {
   "cell_type": "markdown",
   "id": "2dd90a9d-64bd-4fa6-af47-6882cd863db6",
   "metadata": {},
   "source": [
    "# Linear Algebra I"
   ]
  },
  {
   "cell_type": "markdown",
   "id": "8884aeef-940d-4e89-9894-ecd8b3bbb6f4",
   "metadata": {},
   "source": [
    "Topics:\n",
    "\n",
    "  1. Representing data using vectors and matrices\n",
    "  2. Vector and matrix notation\n",
    "  3. Taking the transpose\n",
    "  4. Dot products, angles, and orthogonality"
   ]
  },
  {
   "cell_type": "markdown",
   "id": "d7927fec-85b0-416b-adf1-eaf3511a670a",
   "metadata": {},
   "source": [
    "## Matrix-vector notation\n",
    "\n",
    "Vector $x \\in {\\Bbb R}^d$:\n",
    "\n",
    "$$x = \\begin{bmatrix}\n",
    "x_1 \\\\\n",
    "x_2 \\\\\n",
    "\\vdots \\\\\n",
    "x_d\n",
    "\\end{bmatrix} $$\n",
    "\n",
    "Matrix $M \\in {\\Bbb R}^{r\\times d}$:\n",
    "\n",
    "$$M = \\begin{bmatrix}\n",
    "x_{11} & x_{12} & \\cdots & x_{1d} \\\\\n",
    "x_{21} & x_{22} & \\cdots & x_{2d} \\\\\n",
    "\\vdots & \\vdots & \\ddots & \\vdots\\\\\n",
    "x_{r1} & x_{r2} & \\cdots & x_{rd} \\\\\n",
    "\\end{bmatrix} $$\n",
    "\n",
    "$$M_{ij} = \\text{entry at row i, column j}$$"
   ]
  },
  {
   "cell_type": "markdown",
   "id": "a5bcb0c1-cecb-4164-82de-07a79d0348d0",
   "metadata": {},
   "source": [
    "## Transpose of vectors and matrices\n",
    "\n",
    "$ x = \\begin{bmatrix}\n",
    "1 \\\\\n",
    "2 \\\\\n",
    "3 \\\\\n",
    "4\n",
    "\\end{bmatrix}$ has **transpose** $x^T = \n",
    "\\begin{bmatrix} 1 & 2 & 3 & 4\n",
    "\\end{bmatrix}$\n",
    "\n",
    "$M = \\begin{bmatrix}\n",
    "1 & 2 & 0 & 4 \\\\\n",
    "3 & 9 & 1 & 6 \\\\\n",
    "8 & 7 & 0 & 2 \\\\\n",
    "\\end{bmatrix} $ has **transpose** $M^T =\n",
    "\\begin{bmatrix}\n",
    "1 & 3 & 4 \\\\\n",
    "2 & 9 & 7 \\\\\n",
    "0 & 1 & 0 \\\\\n",
    "4 & 6 & 2\n",
    "\\end{bmatrix} $\n",
    "\n",
    "- $(A^T)_{ij} = A_{ji}$\n",
    "\n",
    "- $(A^T)^T = A$"
   ]
  },
  {
   "cell_type": "markdown",
   "id": "2a2e98d4-18a9-4771-aacf-ae000f25a1f3",
   "metadata": {},
   "source": [
    "## Adding and subtracting vectors and matrices\n",
    "\n",
    "Component-wise:\n",
    "\n",
    "  - Vector addition\n",
    "\n",
    "$\\begin{bmatrix}\n",
    "1 \\\\\n",
    "2 \\\\\n",
    "3\n",
    "\\end{bmatrix} + \n",
    "\\begin{bmatrix}\n",
    "4 \\\\\n",
    "5 \\\\\n",
    "6\n",
    "\\end{bmatrix} =\n",
    "\\begin{bmatrix}\n",
    "5 \\\\\n",
    "7 \\\\\n",
    "9\n",
    "\\end{bmatrix}\n",
    "$\n",
    "\n",
    "  - Matrix addition\n",
    "\n",
    "$\\begin{bmatrix}\n",
    "2 & 1 \\\\\n",
    "0 & 2 \\\\\n",
    "\\end{bmatrix} + \n",
    "\\begin{bmatrix}\n",
    "1 & 2 \\\\\n",
    "3 & 4 \\\\\n",
    "\\end{bmatrix} =\n",
    "\\begin{bmatrix}\n",
    "3 & 3 \\\\\n",
    "3 & 6 \\\\\n",
    "\\end{bmatrix}\n",
    "$"
   ]
  },
  {
   "cell_type": "markdown",
   "id": "cff251c3-c8d8-4439-b9f5-a220dd7386a6",
   "metadata": {},
   "source": [
    "## Dot product of two vectors\n",
    "\n",
    "*Dot products of vectors $x, y \\in {\\Bbb R}^d $*:\n",
    "\n",
    "$$x\\cdot y = x_1y_1 + x_2y_2 + x_dy_d.$$"
   ]
  },
  {
   "cell_type": "markdown",
   "id": "e4348c92-faae-4042-b03b-73868dd6be42",
   "metadata": {},
   "source": [
    "<img src=\"images/dot01.png\" alt=\"dot product example\" style=\"width:500px\">\n",
    "\n",
    "<img src=\"images/dot02.png\" alt=\"dot product example2\" style=\"width:500px\">\n",
    "\n",
    "- $x$ is **orthogonal** (at right angles) to $y$ if and only if $x \\cdot y = 0$\n",
    "\n",
    "- When $x, y$ are *unit vectors (length 1): $cos\\theta = x \\cdot y$*\n",
    "\n",
    "    $$cos\\theta = \\frac{x \\cdot y}{\\|x\\| \\|y\\|} = \\frac{x \\cdot y}{1 \\cdot 1} = x \\cdot y$$\n",
    "    \n",
    "    \n",
    "- What is $x \\cdot x$ ?\n",
    "\n",
    "  - We can find it two ways:\n",
    "  \n",
    "    - Way 1: $x \\cdot x = x_1^2 + x_2^2 + \\cdot\\cdot\\cdot + {x_d}^2 = {\\|x\\|}^2$\n",
    "    \n",
    "    - Way 2: The angle between $x$ and $x$ is $0$.\n",
    "    \n",
    "    $$cos0 = \\frac{x \\cdot x}{\\|x\\| \\|x\\|}$$\n",
    "    \n",
    "    $$1 = \\frac{x \\cdot x}{\\|x\\| \\|x\\|}$$\n",
    "    \n",
    "    $$x \\cdot x = {\\|x\\|}^2$$"
   ]
  },
  {
   "cell_type": "markdown",
   "id": "930833c2-2a77-4f82-8d64-837460264eb4",
   "metadata": {},
   "source": [
    "## Linear Algebra II\n",
    "\n",
    "Topics:\n",
    "\n",
    "  1. Linear functions\n",
    "  2. Matrix-vector products\n",
    "  3. Matrix-matrix products\n"
   ]
  },
  {
   "cell_type": "markdown",
   "id": "38760d3d-c88f-4fb3-96aa-510b10396b6d",
   "metadata": {},
   "source": [
    "## Linear and quadratic functions\n",
    "\n",
    "In one dimension:\n",
    "\n",
    "  - Linear: $f(x) = 3x + 2$\n",
    "  \n",
    "  - Quadratic: $f(x) = 4x^2 - 2x + 6$\n",
    "  \n",
    "In higher dimension, e.g. $x = (x_1, x_2, x_3)$:\n",
    "\n",
    "  - Linear: $f(x) = 3x_1 - 2x_2 + x_3 + 4$\n",
    "  \n",
    "  - Quadratic: $f(x) = {x_1^2} - 2x_1x_3 + {6x_2}^2 + 9$\n"
   ]
  },
  {
   "cell_type": "markdown",
   "id": "35352107-2aee-47d5-aa5a-55de56819c66",
   "metadata": {},
   "source": [
    "### Linear Separtor\n",
    "\n",
    "<img src=\"images/linear-sep1.png\" alt=\"linear sep\" style=\"width:500px\">\n",
    "\n",
    "For $x = (x_1, x_2, \\cdot \\cdot \\cdot, x_d) \\in {\\Bbb R}^d$, linear separators are of the form:\n",
    "\n",
    "$$w_1x_1 + w_2x_2 + \\cdot \\cdot \\cdot+ w_dx_d = c$$\n",
    "\n",
    "  - can write as $w \\cdot x = c$ for $w = (w_1, w_2, \\cdot \\cdot \\cdot, w_d)$"
   ]
  },
  {
   "cell_type": "markdown",
   "id": "251b1231-ae8e-485d-9d46-da2981cdf777",
   "metadata": {},
   "source": [
    "### More general linear functions\n",
    "\n",
    "A linear function from ${\\Bbb R}^4$ to ${\\Bbb R}: f(x_1, x_2, x_3, x_4) = 3x_1 - 2x_3$\n",
    "\n",
    "A linear function from ${\\Bbb R}^4$ to ${\\Bbb R}^3: f(x_1, x_2, x_3, x_4) = (4x_1 - x_2, x_3, - x_1 + 6x_4)$\n",
    "\n",
    "<img src=\"images/linear-sep2.png\" alt=\"linear sep2\"\n",
    "     style=\"width:500px\">"
   ]
  },
  {
   "cell_type": "markdown",
   "id": "9fc92941-f1a6-4ebf-af4d-3b2af4a145e8",
   "metadata": {},
   "source": [
    "### Matrix-vector product\n",
    "\n",
    "Product of matrix $M \\in {\\Bbb R}^{r \\times d}$ and vector $x \\in {\\Bbb R}^{d}$\n",
    "\n",
    "<img src=\"images/matrix-vector-product1.png\" alt=\"matrix-vec-product1\"\n",
    "     style=\"width:400px\">"
   ]
  },
  {
   "cell_type": "markdown",
   "id": "ab88c0ef-6a91-4b15-ae25-324bf96925d2",
   "metadata": {},
   "source": [
    "### The identity matrix\n",
    "\n",
    "<img src=\"images/identity-matrix.png\" alt=\"identitymatrix\"\n",
    "     style=\"width:400px\">"
   ]
  },
  {
   "cell_type": "markdown",
   "id": "aeb8b1e7-461e-45d9-895b-e0fc66bdbe49",
   "metadata": {},
   "source": [
    "### Matrix-matrix product\n",
    "\n",
    "<img src=\"images/matrix-matrix1.png\" alt=\"identitymatrix\"\n",
    "     style=\"width:500px\">\n",
    "\n",
    "NOTE: \n",
    "  - $AB_{ij}$ is the dot product between row i of A and column j of B\n",
    "\n",
    "**Example**\n",
    "\n",
    "<img src=\"images/matrix-matrix2.png\" alt=\"examplematrix\"\n",
    "     style=\"width:500px\">\n",
    "     \n",
    "**Summary**\n",
    "\n",
    "<img src=\"images/matrix-matrix3.png\" alt=\"summary\"\n",
    "     style=\"width:500px\">"
   ]
  },
  {
   "cell_type": "markdown",
   "id": "0d3e763b-8505-446e-9728-6ff94e60816f",
   "metadata": {},
   "source": [
    "### Some special Cases"
   ]
  },
  {
   "cell_type": "markdown",
   "id": "31d7feb5-ffa2-4ce4-8251-17ad08d29892",
   "metadata": {},
   "source": [
    "<img src=\"images/matrix-matrix4.png\" alt=\"specialcase\"\n",
    "     style=\"width:500px\">\n",
    "     \n",
    "<img src=\"images/matrix-matrix5.png\" alt=\"specialcase\"\n",
    "     style=\"width:500px\">"
   ]
  },
  {
   "cell_type": "markdown",
   "id": "0915d3a1-edf0-45b0-927b-75976bb07352",
   "metadata": {},
   "source": [
    "# Linear Algebra III: Square Matrices as Quadratic Functions"
   ]
  },
  {
   "cell_type": "markdown",
   "id": "81f67c13-ad16-4139-a7dc-20a9622e978f",
   "metadata": {},
   "source": [
    "Topics:\n",
    "\n",
    "  1. Square matrices as quadratic functions\n",
    "  \n",
    "  2. Special cases of square matrices; symmetric and diagonal\n",
    "  \n",
    "  3. Determinant\n",
    "  \n",
    "  4. Inverse"
   ]
  },
  {
   "cell_type": "markdown",
   "id": "6f7b9d5a-c0a1-479a-ac21-3ece4e5a8ab7",
   "metadata": {},
   "source": [
    "## A special case\n",
    "\n",
    "Recall: For vector $x \\in {\\Bbb R}^{d}$, we have $x^Tx = \\|x\\|^2$.\n",
    "\n",
    "  - You can also think of it as $x^TIx$\n",
    "\n",
    "<span style=\"color:red\">*What about $x^TMx$, for arbitrary $d \\times d$ matrix $M$?*</span>\n",
    "\n",
    "\n",
    "$$\n",
    "\\underbrace{\\begin{bmatrix} x_1 & x_2 & \\cdots & x_d\n",
    "\\end{bmatrix}}_\\text{$1 \\times d$}\n",
    "\\underbrace{\\begin{bmatrix}\n",
    "&  &    &       &    \\\\\n",
    "&  &    &       &    \\\\\n",
    "&  &    M       &   \\\\\n",
    "&  &    &       &    \\\\\n",
    "&  &    &       &    \\\\\n",
    "\\end{bmatrix}} _\\text{$d \\times d$}\n",
    "\\underbrace{\\begin{bmatrix}\n",
    "x_1 \\\\\n",
    "x_2 \\\\\n",
    "\\vdots \\\\\n",
    "x_d\n",
    "\\end{bmatrix}}_\\text{$d \\times 1$}$$\n",
    "\n",
    "$$= \\sum_{i, j} M_{ij} x_i x_j$$\n",
    "\n",
    "**Example I**\n",
    "\n",
    "What is $x^TMx$ for $ M = \\begin{bmatrix}\n",
    "1 & 2 \\\\\n",
    "0 & 3 \\\\\n",
    "\\end{bmatrix}$?"
   ]
  },
  {
   "cell_type": "markdown",
   "id": "5b5d684c-e707-4e39-ab99-47080f5cb5ca",
   "metadata": {},
   "source": [
    "$\\begin{bmatrix}\n",
    "x_1 & x_2 \\\\\n",
    "\\end{bmatrix}\n",
    "\\begin{bmatrix}\n",
    "1 & 2 \\\\\n",
    "0 & 3 \\\\\n",
    "\\end{bmatrix}\n",
    "\\begin{bmatrix}\n",
    "x_1 \\\\\n",
    "x_2 \\\\\n",
    "\\end{bmatrix}\n",
    "$"
   ]
  },
  {
   "cell_type": "markdown",
   "id": "1cd1919f-f88b-4d67-85e1-7a7e8008b947",
   "metadata": {},
   "source": [
    "$= \\begin{bmatrix}\n",
    "x_1 & x_2 \\\\\n",
    "\\end{bmatrix}\n",
    "\\begin{bmatrix}\n",
    "x_1 + 2x_2 \\\\\n",
    "0 + 3x_2 \\\\\n",
    "\\end{bmatrix}\n",
    "$"
   ]
  },
  {
   "cell_type": "markdown",
   "id": "1d21280d-753e-4788-861b-a553e2c8f005",
   "metadata": {},
   "source": [
    "$=x_1^2 + 2x_1x_2 + 0 + 3x_2^2$\n",
    "\n",
    "$=x_1^2 + 2x_1x_2 + 3x_2^2$"
   ]
  },
  {
   "cell_type": "markdown",
   "id": "9671b613-5d42-4aa0-9d01-4fcce4c3d2e5",
   "metadata": {},
   "source": [
    "Equivalently,\n",
    "\n",
    "$\\sum_{i, j} M_{ij} x_i x_j$\n",
    "\n",
    "$= \n",
    "M_{11}x_1x_1 + \n",
    "M_{12}x_1x_2 +\n",
    "M_{21}x_2x_1 +\n",
    "M_{22}x_2x_2$\n",
    "\n",
    "$= x_1^2 + 2x_1x_2 + 3x_2^2$"
   ]
  },
  {
   "cell_type": "markdown",
   "id": "e88cf42f-d2fd-4bd6-92b0-1d27c0f11ed9",
   "metadata": {},
   "source": [
    "\n",
    "**Example II**\n",
    "<img src=\"images/quadratic-function1.png\" alt=\"identitymatrix\"\n",
    "     style=\"width:500px\">"
   ]
  },
  {
   "cell_type": "markdown",
   "id": "636398f4-b625-49f1-a366-ba5ecf99ee23",
   "metadata": {},
   "source": [
    "**Example III**\n",
    "<img src=\"images/quadratic-function2.png\" alt=\"identitymatrix\"\n",
    "     style=\"width:500px\">"
   ]
  },
  {
   "cell_type": "markdown",
   "id": "e9c9c5bf-0fa7-44d1-b804-48ca028bdb0c",
   "metadata": {},
   "source": [
    "### Special cases of square matrices\n",
    "<img src=\"images/quadratic-function3.png\" alt=\"identitymatrix\"\n",
    "     style=\"width:500px\">"
   ]
  },
  {
   "cell_type": "markdown",
   "id": "001838ee-5866-44be-8aff-a4d0f1932be6",
   "metadata": {},
   "source": [
    "### Determinant of a square matrix\n",
    "\n",
    "<img src=\"images/quadratic-function4.png\" alt=\"identitymatrix\"\n",
    "     style=\"width:400px\">\n",
    "     \n",
    "<img src=\"images/quadratic-function5.png\" alt=\"identitymatrix\"\n",
    "     style=\"width:400px\">"
   ]
  },
  {
   "cell_type": "markdown",
   "id": "25ee9ca8-aeb6-46ee-adf3-8f6ed925a80c",
   "metadata": {},
   "source": [
    "### Inverse of a square matrix\n",
    "\n",
    "<img src=\"images/inverse1.png\" alt=\"identitymatrix\"\n",
    "     style=\"width:500px\">\n",
    "     \n",
    "<img src=\"images/inverse2.png\" alt=\"identitymatrix\"\n",
    "     style=\"width:500px\">"
   ]
  },
  {
   "cell_type": "code",
   "execution_count": null,
   "id": "6af10e82-bc29-4de2-ada5-0d70ab10f437",
   "metadata": {},
   "outputs": [],
   "source": []
  }
 ],
 "metadata": {
  "kernelspec": {
   "display_name": "Python 3",
   "language": "python",
   "name": "python3"
  },
  "language_info": {
   "codemirror_mode": {
    "name": "ipython",
    "version": 3
   },
   "file_extension": ".py",
   "mimetype": "text/x-python",
   "name": "python",
   "nbconvert_exporter": "python",
   "pygments_lexer": "ipython3",
   "version": "3.8.10"
  }
 },
 "nbformat": 4,
 "nbformat_minor": 5
}
