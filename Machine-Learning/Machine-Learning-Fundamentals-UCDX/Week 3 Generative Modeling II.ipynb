{
 "cells": [
  {
   "cell_type": "markdown",
   "id": "2dd90a9d-64bd-4fa6-af47-6882cd863db6",
   "metadata": {},
   "source": [
    "# Linear Algebra I"
   ]
  },
  {
   "cell_type": "markdown",
   "id": "8884aeef-940d-4e89-9894-ecd8b3bbb6f4",
   "metadata": {},
   "source": [
    "Topics:\n",
    "\n",
    "  1. Representing data using vectors and matrices\n",
    "  2. Vector and matrix notation\n",
    "  3. Taking the transpose\n",
    "  4. Dot products, angles, and orthogonality"
   ]
  },
  {
   "cell_type": "markdown",
   "id": "d7927fec-85b0-416b-adf1-eaf3511a670a",
   "metadata": {},
   "source": [
    "## Matrix-vector notation\n",
    "\n",
    "Vector $x \\in {\\Bbb R}^d$:\n",
    "\n",
    "$$x = \\begin{bmatrix}\n",
    "x_1 \\\\\n",
    "x_2 \\\\\n",
    "\\vdots \\\\\n",
    "x_d\n",
    "\\end{bmatrix} $$\n",
    "\n",
    "Matrix $M \\in {\\Bbb R}^{r\\times d}$:\n",
    "\n",
    "$$M = \\begin{bmatrix}\n",
    "x_{11} & x_{12} & \\cdots & x_{1d} \\\\\n",
    "x_{21} & x_{22} & \\cdots & x_{2d} \\\\\n",
    "\\vdots & \\vdots & \\ddots & \\vdots\\\\\n",
    "x_{r1} & x_{r2} & \\cdots & x_{rd} \\\\\n",
    "\\end{bmatrix} $$\n",
    "\n",
    "$$M_{ij} = \\text{entry at row i, column j}$$"
   ]
  },
  {
   "cell_type": "markdown",
   "id": "a5bcb0c1-cecb-4164-82de-07a79d0348d0",
   "metadata": {},
   "source": [
    "## Transpose of vectors and matrices\n",
    "\n",
    "$ x = \\begin{bmatrix}\n",
    "1 \\\\\n",
    "2 \\\\\n",
    "3 \\\\\n",
    "4\n",
    "\\end{bmatrix}$ has **transpose** $x^T = \n",
    "\\begin{bmatrix} 1 & 2 & 3 & 4\n",
    "\\end{bmatrix}$\n",
    "\n",
    "$M = \\begin{bmatrix}\n",
    "1 & 2 & 0 & 4 \\\\\n",
    "3 & 9 & 1 & 6 \\\\\n",
    "8 & 7 & 0 & 2 \\\\\n",
    "\\end{bmatrix} $ has **transpose** $M^T =\n",
    "\\begin{bmatrix}\n",
    "1 & 3 & 4 \\\\\n",
    "2 & 9 & 7 \\\\\n",
    "0 & 1 & 0 \\\\\n",
    "4 & 6 & 2\n",
    "\\end{bmatrix} $\n",
    "\n",
    "- $(A^T)_{ij} = A_{ji}$\n",
    "\n",
    "- $(A^T)^T = A$"
   ]
  },
  {
   "cell_type": "markdown",
   "id": "2a2e98d4-18a9-4771-aacf-ae000f25a1f3",
   "metadata": {},
   "source": [
    "## Adding and subtracting vectors and matrices\n",
    "\n",
    "Component-wise:\n",
    "\n",
    "  - Vector addition\n",
    "\n",
    "$\\begin{bmatrix}\n",
    "1 \\\\\n",
    "2 \\\\\n",
    "3\n",
    "\\end{bmatrix} + \n",
    "\\begin{bmatrix}\n",
    "4 \\\\\n",
    "5 \\\\\n",
    "6\n",
    "\\end{bmatrix} =\n",
    "\\begin{bmatrix}\n",
    "5 \\\\\n",
    "7 \\\\\n",
    "9\n",
    "\\end{bmatrix}\n",
    "$\n",
    "\n",
    "  - Matrix addition\n",
    "\n",
    "$\\begin{bmatrix}\n",
    "2 & 1 \\\\\n",
    "0 & 2 \\\\\n",
    "\\end{bmatrix} + \n",
    "\\begin{bmatrix}\n",
    "1 & 2 \\\\\n",
    "3 & 4 \\\\\n",
    "\\end{bmatrix} =\n",
    "\\begin{bmatrix}\n",
    "3 & 3 \\\\\n",
    "3 & 6 \\\\\n",
    "\\end{bmatrix}\n",
    "$"
   ]
  },
  {
   "cell_type": "markdown",
   "id": "cff251c3-c8d8-4439-b9f5-a220dd7386a6",
   "metadata": {},
   "source": [
    "## Dot product of two vectors\n",
    "\n",
    "*Dot products of vectors $x, y \\in {\\Bbb R}^d $*:\n",
    "\n",
    "$$x\\cdot y = x_1y_1 + x_2y_2 + x_dy_d.$$"
   ]
  },
  {
   "cell_type": "markdown",
   "id": "e4348c92-faae-4042-b03b-73868dd6be42",
   "metadata": {},
   "source": [
    "<img src=\"images/dot01.png\" alt=\"dot product example\" style=\"width:500px\">\n",
    "\n",
    "<img src=\"images/dot02.png\" alt=\"dot product example2\" style=\"width:500px\">\n",
    "\n",
    "- $x$ is **orthogonal** (at right angles) to $y$ if and only if $x \\cdot y = 0$\n",
    "\n",
    "- When $x, y$ are *unit vectors (length 1): $cos\\theta = x \\cdot y$*\n",
    "\n",
    "    $$cos\\theta = \\frac{x \\cdot y}{\\|x\\| \\|y\\|} = \\frac{x \\cdot y}{1 \\cdot 1} = x \\cdot y$$\n",
    "    \n",
    "    \n",
    "- What is $x \\cdot x$ ?\n",
    "\n",
    "  - We can find it two ways:\n",
    "  \n",
    "    - Way 1: $x \\cdot x = x_1^2 + x_2^2 + \\cdot\\cdot\\cdot + {x_d}^2 = {\\|x\\|}^2$\n",
    "    \n",
    "    - Way 2: The angle between $x$ and $x$ is $0$.\n",
    "    \n",
    "    $$cos0 = \\frac{x \\cdot x}{\\|x\\| \\|x\\|}$$\n",
    "    \n",
    "    $$1 = \\frac{x \\cdot x}{\\|x\\| \\|x\\|}$$\n",
    "    \n",
    "    $$x \\cdot x = {\\|x\\|}^2$$"
   ]
  },
  {
   "cell_type": "markdown",
   "id": "930833c2-2a77-4f82-8d64-837460264eb4",
   "metadata": {},
   "source": [
    "## Linear Algebra II\n",
    "\n",
    "Topics:\n",
    "\n",
    "  1. Linear functions\n",
    "  2. Matrix-vector products\n",
    "  3. Matrix-matrix products\n"
   ]
  },
  {
   "cell_type": "markdown",
   "id": "38760d3d-c88f-4fb3-96aa-510b10396b6d",
   "metadata": {},
   "source": [
    "## Linear and quadratic functions\n",
    "\n",
    "In one dimension:\n",
    "\n",
    "  - Linear: $f(x) = 3x + 2$\n",
    "  \n",
    "  - Quadratic: $f(x) = 4x^2 - 2x + 6$\n",
    "  \n",
    "In higher dimension, e.g. $x = (x_1, x_2, x_3)$:\n",
    "\n",
    "  - Linear: $f(x) = 3x_1 - 2x_2 + x_3 + 4$\n",
    "  \n",
    "  - Quadratic: $f(x) = {x_1^2} - 2x_1x_3 + {6x_2}^2 + 9$\n"
   ]
  },
  {
   "cell_type": "markdown",
   "id": "35352107-2aee-47d5-aa5a-55de56819c66",
   "metadata": {},
   "source": [
    "### Linear Separtor\n",
    "\n",
    "<img src=\"images/linear-sep1.png\" alt=\"linear sep\" style=\"width:500px\">\n",
    "\n",
    "For $x = (x_1, x_2, \\cdot \\cdot \\cdot, x_d) \\in {\\Bbb R}^d$, linear separators are of the form:\n",
    "\n",
    "$$w_1x_1 + w_2x_2 + \\cdot \\cdot \\cdot+ w_dx_d = c$$\n",
    "\n",
    "  - can write as $w \\cdot x = c$ for $w = (w_1, w_2, \\cdot \\cdot \\cdot, w_d)$"
   ]
  },
  {
   "cell_type": "markdown",
   "id": "251b1231-ae8e-485d-9d46-da2981cdf777",
   "metadata": {},
   "source": [
    "### More general linear functions\n",
    "\n",
    "A linear function from ${\\Bbb R}^4$ to ${\\Bbb R}: f(x_1, x_2, x_3, x_4) = 3x_1 - 2x_3$\n",
    "\n",
    "A linear function from ${\\Bbb R}^4$ to ${\\Bbb R}^3: f(x_1, x_2, x_3, x_4) = (4x_1 - x_2, x_3, - x_1 + 6x_4)$\n",
    "\n",
    "<img src=\"images/linear-sep2.png\" alt=\"linear sep2\"\n",
    "     style=\"width:500px\">"
   ]
  },
  {
   "cell_type": "markdown",
   "id": "9fc92941-f1a6-4ebf-af4d-3b2af4a145e8",
   "metadata": {},
   "source": [
    "### Matrix-vector product\n",
    "\n",
    "Product of matrix $M \\in {\\Bbb R}^{r \\times d}$ and vector $x \\in {\\Bbb R}^{d}$\n",
    "\n",
    "<img src=\"images/matrix-vector-product1.png\" alt=\"matrix-vec-product1\"\n",
    "     style=\"width:400px\">"
   ]
  },
  {
   "cell_type": "markdown",
   "id": "ab88c0ef-6a91-4b15-ae25-324bf96925d2",
   "metadata": {},
   "source": [
    "### The identity matrix\n",
    "\n",
    "<img src=\"images/identity-matrix.png\" alt=\"identitymatrix\"\n",
    "     style=\"width:400px\">"
   ]
  },
  {
   "cell_type": "markdown",
   "id": "aeb8b1e7-461e-45d9-895b-e0fc66bdbe49",
   "metadata": {},
   "source": [
    "### Matrix-matrix product\n",
    "\n",
    "<img src=\"images/matrix-matrix1.png\" alt=\"identitymatrix\"\n",
    "     style=\"width:500px\">\n",
    "\n",
    "NOTE: \n",
    "  - $AB_{ij}$ is the dot product between row i of A and column j of B\n",
    "\n",
    "**Example**\n",
    "\n",
    "<img src=\"images/matrix-matrix2.png\" alt=\"examplematrix\"\n",
    "     style=\"width:500px\">\n",
    "     \n",
    "**Summary**\n",
    "\n",
    "<img src=\"images/matrix-matrix3.png\" alt=\"summary\"\n",
    "     style=\"width:500px\">"
   ]
  },
  {
   "cell_type": "markdown",
   "id": "0d3e763b-8505-446e-9728-6ff94e60816f",
   "metadata": {},
   "source": [
    "### Some special Cases"
   ]
  },
  {
   "cell_type": "markdown",
   "id": "31d7feb5-ffa2-4ce4-8251-17ad08d29892",
   "metadata": {},
   "source": [
    "<img src=\"images/matrix-matrix4.png\" alt=\"specialcase\"\n",
    "     style=\"width:500px\">\n",
    "     \n",
    "<img src=\"images/matrix-matrix5.png\" alt=\"specialcase\"\n",
    "     style=\"width:500px\">"
   ]
  },
  {
   "cell_type": "code",
   "execution_count": null,
   "id": "56e4c748-2b29-46a9-9d31-4e9c30765c90",
   "metadata": {},
   "outputs": [],
   "source": []
  }
 ],
 "metadata": {
  "kernelspec": {
   "display_name": "Python 3",
   "language": "python",
   "name": "python3"
  },
  "language_info": {
   "codemirror_mode": {
    "name": "ipython",
    "version": 3
   },
   "file_extension": ".py",
   "mimetype": "text/x-python",
   "name": "python",
   "nbconvert_exporter": "python",
   "pygments_lexer": "ipython3",
   "version": "3.8.10"
  }
 },
 "nbformat": 4,
 "nbformat_minor": 5
}
