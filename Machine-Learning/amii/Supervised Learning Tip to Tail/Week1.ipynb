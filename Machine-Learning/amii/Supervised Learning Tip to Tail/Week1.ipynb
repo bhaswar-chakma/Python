{
 "cells": [
  {
   "cell_type": "markdown",
   "id": "8d62c9ea-dfae-4780-ae20-42d71469921a",
   "metadata": {},
   "source": [
    "# Classification in scikit-learn\n",
    "\n",
    "```\n",
    "from sklearn import tree\n",
    "\n",
    "classifier = tree.DecisionTreeClassifier()\n",
    "\n",
    "classifier = classifier.fit(X,y)\n",
    "\n",
    "classifier.predict(X_test)\n",
    "\n",
    "classifier.predict_proba(X_test)\n",
    "\n",
    "tree.plot(classifier.fit(X,y))\n",
    "```"
   ]
  },
  {
   "cell_type": "code",
   "execution_count": 1,
   "id": "bc7e0379-55c5-41b9-8d00-9efef49b86d5",
   "metadata": {},
   "outputs": [],
   "source": [
    "from sklearn import tree"
   ]
  },
  {
   "cell_type": "code",
   "execution_count": 2,
   "id": "bd5cb39a-c353-41f1-bdbd-d951182a58eb",
   "metadata": {},
   "outputs": [],
   "source": [
    "classifier = tree.DecisionTreeClassifier()"
   ]
  },
  {
   "cell_type": "code",
   "execution_count": null,
   "id": "e99b7bd2-986b-4576-b02e-e563e2ae1bcf",
   "metadata": {},
   "outputs": [],
   "source": []
  }
 ],
 "metadata": {
  "kernelspec": {
   "display_name": "Python 3",
   "language": "python",
   "name": "python3"
  },
  "language_info": {
   "codemirror_mode": {
    "name": "ipython",
    "version": 3
   },
   "file_extension": ".py",
   "mimetype": "text/x-python",
   "name": "python",
   "nbconvert_exporter": "python",
   "pygments_lexer": "ipython3",
   "version": "3.8.11"
  }
 },
 "nbformat": 4,
 "nbformat_minor": 5
}
