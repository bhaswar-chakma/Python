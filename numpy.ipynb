{
 "cells": [
  {
   "cell_type": "code",
   "execution_count": 1,
   "id": "802f59ff-9953-4de5-8346-d7f252e9cd3e",
   "metadata": {},
   "outputs": [],
   "source": [
    "import numpy as np"
   ]
  },
  {
   "cell_type": "code",
   "execution_count": 5,
   "id": "bb4d6326-27f5-4039-8197-f2e21cf0f0d6",
   "metadata": {},
   "outputs": [],
   "source": [
    "N_Array = np.array([[1,2,3],[4,5,6]])"
   ]
  },
  {
   "cell_type": "code",
   "execution_count": 6,
   "id": "aa7b65b5-4f79-49f4-805e-c0b34dcd976c",
   "metadata": {},
   "outputs": [
    {
     "data": {
      "text/plain": [
       "array([[1, 2, 3],\n",
       "       [4, 5, 6]])"
      ]
     },
     "execution_count": 6,
     "metadata": {},
     "output_type": "execute_result"
    }
   ],
   "source": [
    "N_Array"
   ]
  },
  {
   "cell_type": "code",
   "execution_count": 7,
   "id": "c36241e4-aa2d-44ec-a986-1ce2143206eb",
   "metadata": {},
   "outputs": [
    {
     "data": {
      "text/plain": [
       "numpy.ndarray"
      ]
     },
     "execution_count": 7,
     "metadata": {},
     "output_type": "execute_result"
    }
   ],
   "source": [
    "type(N_Array)"
   ]
  },
  {
   "cell_type": "code",
   "execution_count": 8,
   "id": "3987c493-a235-481a-ae62-cca24f6f96f6",
   "metadata": {},
   "outputs": [],
   "source": [
    "# Formatting changes when numbers are big\n",
    "N_Array_1 = np.array([[1, 2, 300],[4,5, 6]])"
   ]
  },
  {
   "cell_type": "code",
   "execution_count": 9,
   "id": "ad5cbc49-eb26-44a4-9962-4f5c969eeb6c",
   "metadata": {},
   "outputs": [
    {
     "data": {
      "text/plain": [
       "array([[  1,   2, 300],\n",
       "       [  4,   5,   6]])"
      ]
     },
     "execution_count": 9,
     "metadata": {},
     "output_type": "execute_result"
    }
   ],
   "source": [
    "N_Array_1# Notice the spacing"
   ]
  },
  {
   "cell_type": "code",
   "execution_count": null,
   "id": "29277ab7-9d9b-4da5-ad12-6d73c8e44a67",
   "metadata": {},
   "outputs": [],
   "source": []
  }
 ],
 "metadata": {
  "kernelspec": {
   "display_name": "Python 3",
   "language": "python",
   "name": "python3"
  },
  "language_info": {
   "codemirror_mode": {
    "name": "ipython",
    "version": 3
   },
   "file_extension": ".py",
   "mimetype": "text/x-python",
   "name": "python",
   "nbconvert_exporter": "python",
   "pygments_lexer": "ipython3",
   "version": "3.8.8"
  }
 },
 "nbformat": 4,
 "nbformat_minor": 5
}
