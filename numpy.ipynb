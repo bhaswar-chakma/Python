{
 "cells": [
  {
   "cell_type": "code",
   "execution_count": 1,
   "id": "802f59ff-9953-4de5-8346-d7f252e9cd3e",
   "metadata": {},
   "outputs": [],
   "source": [
    "import numpy as np"
   ]
  },
  {
   "cell_type": "code",
   "execution_count": 11,
   "id": "bb4d6326-27f5-4039-8197-f2e21cf0f0d6",
   "metadata": {},
   "outputs": [],
   "source": [
    "N_Array = np.array([[1,2,3],[4,5,6]]) # you need two [[]]!"
   ]
  },
  {
   "cell_type": "code",
   "execution_count": 12,
   "id": "aa7b65b5-4f79-49f4-805e-c0b34dcd976c",
   "metadata": {},
   "outputs": [
    {
     "data": {
      "text/plain": [
       "array([[1, 2, 3],\n",
       "       [4, 5, 6]])"
      ]
     },
     "execution_count": 12,
     "metadata": {},
     "output_type": "execute_result"
    }
   ],
   "source": [
    "N_Array"
   ]
  },
  {
   "cell_type": "code",
   "execution_count": 13,
   "id": "c36241e4-aa2d-44ec-a986-1ce2143206eb",
   "metadata": {},
   "outputs": [
    {
     "data": {
      "text/plain": [
       "numpy.ndarray"
      ]
     },
     "execution_count": 13,
     "metadata": {},
     "output_type": "execute_result"
    }
   ],
   "source": [
    "type(N_Array)"
   ]
  },
  {
   "cell_type": "code",
   "execution_count": 16,
   "id": "3987c493-a235-481a-ae62-cca24f6f96f6",
   "metadata": {},
   "outputs": [],
   "source": [
    "# Formatting changes when numbers are big e.g. 300\n",
    "N_Array_1 = np.array([[1, 2, 300],[4, 5, 6]])"
   ]
  },
  {
   "cell_type": "code",
   "execution_count": 17,
   "id": "ad5cbc49-eb26-44a4-9962-4f5c969eeb6c",
   "metadata": {},
   "outputs": [
    {
     "data": {
      "text/plain": [
       "array([[  1,   2, 300],\n",
       "       [  4,   5,   6]])"
      ]
     },
     "execution_count": 17,
     "metadata": {},
     "output_type": "execute_result"
    }
   ],
   "source": [
    "N_Array_1 # Notice the spacing"
   ]
  },
  {
   "cell_type": "markdown",
   "id": "74b40da7-05bb-46bf-902e-cf6072afd76c",
   "metadata": {},
   "source": [
    "# Array and Features"
   ]
  },
  {
   "cell_type": "code",
   "execution_count": 19,
   "id": "69f879d4-4927-47ac-adab-617832599ea1",
   "metadata": {},
   "outputs": [
    {
     "data": {
      "text/plain": [
       "array([[ 1,  2,  3,  4],\n",
       "       [ 5,  6,  7, 80]])"
      ]
     },
     "execution_count": 19,
     "metadata": {},
     "output_type": "execute_result"
    }
   ],
   "source": [
    "integers = np.array([[1, 2, 3, 4], [5, 6, 7, 80]])\n",
    "integers"
   ]
  },
  {
   "cell_type": "code",
   "execution_count": 22,
   "id": "d7450a63-2c40-4c2d-834e-f0c1af8f2433",
   "metadata": {},
   "outputs": [
    {
     "data": {
      "text/plain": [
       "array([0.  , 0.1 , 2.56, 3.14])"
      ]
     },
     "execution_count": 22,
     "metadata": {},
     "output_type": "execute_result"
    }
   ],
   "source": [
    "floats = np.array([0.0, 0.10, 2.56, 3.14])\n",
    "floats # note for 0.0 you see 0. "
   ]
  },
  {
   "cell_type": "markdown",
   "id": "4210da5b-4f4f-478e-bb3a-4d8c877faee4",
   "metadata": {},
   "source": [
    "## Dimension, Shape, and Size\n",
    "\n",
    "- `.ndim` : dimension\n",
    "\n",
    "- `.shape`: shape; returns a tuple\n",
    "\n",
    "- `.size`: size i.e. number of elements"
   ]
  },
  {
   "cell_type": "code",
   "execution_count": 26,
   "id": "76764534-bcda-4dba-b7a1-51ac838e3ff7",
   "metadata": {},
   "outputs": [
    {
     "data": {
      "text/plain": [
       "2"
      ]
     },
     "execution_count": 26,
     "metadata": {},
     "output_type": "execute_result"
    }
   ],
   "source": [
    "integers.ndim # dimension of integers"
   ]
  },
  {
   "cell_type": "code",
   "execution_count": 27,
   "id": "b3d798ec-12f0-4d13-83f9-98085e167197",
   "metadata": {},
   "outputs": [
    {
     "data": {
      "text/plain": [
       "1"
      ]
     },
     "execution_count": 27,
     "metadata": {},
     "output_type": "execute_result"
    }
   ],
   "source": [
    "floats.ndim # dimension of floats"
   ]
  },
  {
   "cell_type": "code",
   "execution_count": 28,
   "id": "05cf4788-e20e-49de-9194-d419fd230920",
   "metadata": {},
   "outputs": [
    {
     "data": {
      "text/plain": [
       "(2, 4)"
      ]
     },
     "execution_count": 28,
     "metadata": {},
     "output_type": "execute_result"
    }
   ],
   "source": [
    "integers.shape # shape of integers"
   ]
  },
  {
   "cell_type": "code",
   "execution_count": 29,
   "id": "3bf5da25-b3a1-48c4-ab1a-a253f97256af",
   "metadata": {},
   "outputs": [
    {
     "data": {
      "text/plain": [
       "(4,)"
      ]
     },
     "execution_count": 29,
     "metadata": {},
     "output_type": "execute_result"
    }
   ],
   "source": [
    "floats.shape # shape of floats"
   ]
  },
  {
   "cell_type": "code",
   "execution_count": 30,
   "id": "b114f7a9-27bc-4fb7-8f49-ec997e59cbc0",
   "metadata": {},
   "outputs": [
    {
     "data": {
      "text/plain": [
       "8"
      ]
     },
     "execution_count": 30,
     "metadata": {},
     "output_type": "execute_result"
    }
   ],
   "source": [
    "integers.size # size of integers "
   ]
  },
  {
   "cell_type": "code",
   "execution_count": 31,
   "id": "dadc64d5-5f60-43b3-8d62-250e11fcd491",
   "metadata": {},
   "outputs": [
    {
     "data": {
      "text/plain": [
       "4"
      ]
     },
     "execution_count": 31,
     "metadata": {},
     "output_type": "execute_result"
    }
   ],
   "source": [
    "floats.size # size of floats"
   ]
  },
  {
   "cell_type": "code",
   "execution_count": 32,
   "id": "fe4ddb75-b75b-4967-981c-d777812763f9",
   "metadata": {},
   "outputs": [
    {
     "name": "stdout",
     "output_type": "stream",
     "text": [
      "[1 2 3 4]\n",
      "[ 5  6  7 80]\n"
     ]
    }
   ],
   "source": [
    "# Apply loop\n",
    "for row in integers:\n",
    "    print(row)"
   ]
  },
  {
   "cell_type": "code",
   "execution_count": 33,
   "id": "e3aa18aa-ee37-4ba2-8f36-ea4a1a04b2a5",
   "metadata": {},
   "outputs": [
    {
     "name": "stdout",
     "output_type": "stream",
     "text": [
      "123456780"
     ]
    }
   ],
   "source": [
    "# print elements in one line; use end = \"\"\n",
    "for i in integers.flat:\n",
    "    print(i, end = \"\")"
   ]
  },
  {
   "cell_type": "code",
   "execution_count": 35,
   "id": "9fd735c4-acda-4acf-875a-2a3a5520e306",
   "metadata": {},
   "outputs": [
    {
     "name": "stdout",
     "output_type": "stream",
     "text": [
      "1\n",
      "2\n",
      "3\n",
      "4\n",
      "5\n",
      "6\n",
      "7\n",
      "80\n"
     ]
    }
   ],
   "source": [
    "# without end = \"\"\n",
    "for i in integers.flat:\n",
    "    print(i)"
   ]
  },
  {
   "cell_type": "markdown",
   "id": "077843a5-e38b-46e2-a1e6-da9f9c9569ca",
   "metadata": {},
   "source": [
    "## Many ways of creating arrays\n",
    "\n",
    "- `np.ones()`\n",
    "\n",
    "- `np.zeros()`\n",
    "\n",
    "- `np.full()`\n",
    "\n",
    "- `np.arange()`\n",
    "\n",
    "- `np.linspace()` : The np.linspace function will return a sequence of evenly spaced values on that interval;  default value is 50\n",
    "\n",
    "- `np.random.randint()`: Return random integers from low (inclusive) to high (exclusive)"
   ]
  },
  {
   "cell_type": "code",
   "execution_count": 40,
   "id": "ab405b02-c882-4204-b5d8-e485d1fc3ccb",
   "metadata": {},
   "outputs": [
    {
     "data": {
      "text/plain": [
       "array([0., 0., 0., 0., 0., 0.])"
      ]
     },
     "execution_count": 40,
     "metadata": {},
     "output_type": "execute_result"
    }
   ],
   "source": [
    "# np.zeros()\n",
    "np.zeros(6) # creates six 0s"
   ]
  },
  {
   "cell_type": "code",
   "execution_count": 41,
   "id": "70718f7f-8191-4a32-a208-c27f666d37f9",
   "metadata": {},
   "outputs": [
    {
     "data": {
      "text/plain": [
       "array([1., 1., 1., 1., 1.])"
      ]
     },
     "execution_count": 41,
     "metadata": {},
     "output_type": "execute_result"
    }
   ],
   "source": [
    "# np.ones()\n",
    "np.ones(5) # creates five 1s"
   ]
  },
  {
   "cell_type": "code",
   "execution_count": 42,
   "id": "2120ca3d-e178-4907-8ba4-61f9278b8846",
   "metadata": {},
   "outputs": [
    {
     "data": {
      "text/plain": [
       "array([[1, 1, 1, 1, 1],\n",
       "       [1, 1, 1, 1, 1],\n",
       "       [1, 1, 1, 1, 1],\n",
       "       [1, 1, 1, 1, 1],\n",
       "       [1, 1, 1, 1, 1]])"
      ]
     },
     "execution_count": 42,
     "metadata": {},
     "output_type": "execute_result"
    }
   ],
   "source": [
    "# Matrix of ones\n",
    "np.ones((5,5), dtype = int) # creates 5by5 matrix of 1s"
   ]
  },
  {
   "cell_type": "code",
   "execution_count": 43,
   "id": "01c33625-e6c2-46e2-b49b-41b0d8072511",
   "metadata": {},
   "outputs": [
    {
     "data": {
      "text/plain": [
       "array([[100, 100, 100],\n",
       "       [100, 100, 100],\n",
       "       [100, 100, 100]])"
      ]
     },
     "execution_count": 43,
     "metadata": {},
     "output_type": "execute_result"
    }
   ],
   "source": [
    "# np.full()\n",
    "np.full((3,3), 100) # creates 3 by 3 matrix of 100s"
   ]
  },
  {
   "cell_type": "code",
   "execution_count": 45,
   "id": "14ce0c90-d9bf-40f8-b36f-08f9b9def608",
   "metadata": {},
   "outputs": [
    {
     "data": {
      "text/plain": [
       "array([1, 2, 3, 4, 5, 6, 7, 8, 9])"
      ]
     },
     "execution_count": 45,
     "metadata": {},
     "output_type": "execute_result"
    }
   ],
   "source": [
    "# np.arange()\n",
    "np.arange(1, 10) # does not include the last number"
   ]
  },
  {
   "cell_type": "code",
   "execution_count": 48,
   "id": "c0a51c5d-6cea-46de-966a-6cdb195268b7",
   "metadata": {},
   "outputs": [
    {
     "data": {
      "text/plain": [
       "array([10,  9,  8,  7,  6,  5,  4,  3,  2])"
      ]
     },
     "execution_count": 48,
     "metadata": {},
     "output_type": "execute_result"
    }
   ],
   "source": [
    "np.arange(10, 1, -1) # go backwards"
   ]
  },
  {
   "cell_type": "code",
   "execution_count": 51,
   "id": "7a7f3bc3-613d-48e3-9ce8-fc0823554c78",
   "metadata": {},
   "outputs": [
    {
     "data": {
      "text/plain": [
       "array([ 0.        ,  0.20408163,  0.40816327,  0.6122449 ,  0.81632653,\n",
       "        1.02040816,  1.2244898 ,  1.42857143,  1.63265306,  1.83673469,\n",
       "        2.04081633,  2.24489796,  2.44897959,  2.65306122,  2.85714286,\n",
       "        3.06122449,  3.26530612,  3.46938776,  3.67346939,  3.87755102,\n",
       "        4.08163265,  4.28571429,  4.48979592,  4.69387755,  4.89795918,\n",
       "        5.10204082,  5.30612245,  5.51020408,  5.71428571,  5.91836735,\n",
       "        6.12244898,  6.32653061,  6.53061224,  6.73469388,  6.93877551,\n",
       "        7.14285714,  7.34693878,  7.55102041,  7.75510204,  7.95918367,\n",
       "        8.16326531,  8.36734694,  8.57142857,  8.7755102 ,  8.97959184,\n",
       "        9.18367347,  9.3877551 ,  9.59183673,  9.79591837, 10.        ])"
      ]
     },
     "execution_count": 51,
     "metadata": {},
     "output_type": "execute_result"
    }
   ],
   "source": [
    "# np.linspace()\n",
    "np.linspace(0, 10) # includes the last number"
   ]
  },
  {
   "cell_type": "code",
   "execution_count": 52,
   "id": "49c58d5f-46c3-4389-a734-e10d48054026",
   "metadata": {},
   "outputs": [
    {
     "data": {
      "text/plain": [
       "array([ 0. ,  2.5,  5. ,  7.5, 10. ])"
      ]
     },
     "execution_count": 52,
     "metadata": {},
     "output_type": "execute_result"
    }
   ],
   "source": [
    "# Change default value\n",
    "np.linspace(0, 10, num = 5)"
   ]
  },
  {
   "cell_type": "code",
   "execution_count": 54,
   "id": "572cfefe-79d2-4c38-b55b-dc9d20410e28",
   "metadata": {},
   "outputs": [
    {
     "data": {
      "text/plain": [
       "array([ 7,  7, 18, 17, 19])"
      ]
     },
     "execution_count": 54,
     "metadata": {},
     "output_type": "execute_result"
    }
   ],
   "source": [
    "# np.randint()\n",
    "np.random.randint(1, 20, 5) # random integer between 1 and 19"
   ]
  },
  {
   "cell_type": "markdown",
   "id": "ddcd1a69-5081-4269-9944-76e75ef7ec2d",
   "metadata": {},
   "source": [
    "### Reshape"
   ]
  },
  {
   "cell_type": "code",
   "execution_count": 55,
   "id": "0bb6f0d0-f76d-4a4f-a4f0-b4331f526aa7",
   "metadata": {},
   "outputs": [
    {
     "data": {
      "text/plain": [
       "array([[ 1,  2,  3,  4,  5,  6],\n",
       "       [ 7,  8,  9, 10, 11, 12],\n",
       "       [13, 14, 15, 16, 17, 18],\n",
       "       [19, 20, 21, 22, 23, 24],\n",
       "       [25, 26, 27, 28, 29, 30]])"
      ]
     },
     "execution_count": 55,
     "metadata": {},
     "output_type": "execute_result"
    }
   ],
   "source": [
    "np.arange(1, 31).reshape(5, 6)"
   ]
  },
  {
   "cell_type": "code",
   "execution_count": 56,
   "id": "4a3d107e-c724-4b34-abb5-d70e83a998b0",
   "metadata": {},
   "outputs": [
    {
     "ename": "ValueError",
     "evalue": "cannot reshape array of size 29 into shape (5,6)",
     "output_type": "error",
     "traceback": [
      "\u001b[1;31m---------------------------------------------------------------------------\u001b[0m",
      "\u001b[1;31mValueError\u001b[0m                                Traceback (most recent call last)",
      "\u001b[1;32m<ipython-input-56-9f58c00b331e>\u001b[0m in \u001b[0;36m<module>\u001b[1;34m\u001b[0m\n\u001b[0;32m      1\u001b[0m \u001b[1;31m# elements should match with dimension\u001b[0m\u001b[1;33m\u001b[0m\u001b[1;33m\u001b[0m\u001b[1;33m\u001b[0m\u001b[0m\n\u001b[1;32m----> 2\u001b[1;33m \u001b[0mnp\u001b[0m\u001b[1;33m.\u001b[0m\u001b[0marange\u001b[0m\u001b[1;33m(\u001b[0m\u001b[1;36m1\u001b[0m\u001b[1;33m,\u001b[0m \u001b[1;36m30\u001b[0m\u001b[1;33m)\u001b[0m\u001b[1;33m.\u001b[0m\u001b[0mreshape\u001b[0m\u001b[1;33m(\u001b[0m\u001b[1;36m5\u001b[0m\u001b[1;33m,\u001b[0m \u001b[1;36m6\u001b[0m\u001b[1;33m)\u001b[0m\u001b[1;33m\u001b[0m\u001b[1;33m\u001b[0m\u001b[0m\n\u001b[0m",
      "\u001b[1;31mValueError\u001b[0m: cannot reshape array of size 29 into shape (5,6)"
     ]
    }
   ],
   "source": [
    "# elements should match with dimension\n",
    "np.arange(1, 30).reshape(5, 6)"
   ]
  },
  {
   "cell_type": "code",
   "execution_count": null,
   "id": "bbc1d3a2-bd6b-4732-bd5c-b5b04872de07",
   "metadata": {},
   "outputs": [],
   "source": [
    "np.arange(1,31).reshape(5)"
   ]
  },
  {
   "cell_type": "markdown",
   "id": "5b92766a-7713-4d3a-a750-4938885c11fd",
   "metadata": {},
   "source": [
    "## Do some Stats!"
   ]
  },
  {
   "cell_type": "code",
   "execution_count": 60,
   "id": "877a57b5-f8cc-4930-8c5c-47888f99b6dc",
   "metadata": {},
   "outputs": [
    {
     "data": {
      "text/plain": [
       "array([ 1,  2,  3,  4,  5,  6,  7,  8,  9, 10, 11, 12, 13, 14])"
      ]
     },
     "execution_count": 60,
     "metadata": {},
     "output_type": "execute_result"
    }
   ],
   "source": [
    "# toy array\n",
    "x = np.array(np.arange(1, 15))\n",
    "x"
   ]
  },
  {
   "cell_type": "code",
   "execution_count": 63,
   "id": "efe23c9a-d867-4935-adcd-932d8fdb6cb1",
   "metadata": {},
   "outputs": [
    {
     "data": {
      "text/plain": [
       "105"
      ]
     },
     "execution_count": 63,
     "metadata": {},
     "output_type": "execute_result"
    }
   ],
   "source": [
    "# sum\n",
    "x.sum()"
   ]
  },
  {
   "cell_type": "code",
   "execution_count": 64,
   "id": "9f6770e2-63e2-4b29-b4f8-e5458cc3dddb",
   "metadata": {},
   "outputs": [
    {
     "data": {
      "text/plain": [
       "14"
      ]
     },
     "execution_count": 64,
     "metadata": {},
     "output_type": "execute_result"
    }
   ],
   "source": [
    "# max\n",
    "x.max()"
   ]
  },
  {
   "cell_type": "code",
   "execution_count": 66,
   "id": "1747dfa5-4539-46e0-9842-408d749664e2",
   "metadata": {},
   "outputs": [
    {
     "data": {
      "text/plain": [
       "1"
      ]
     },
     "execution_count": 66,
     "metadata": {},
     "output_type": "execute_result"
    }
   ],
   "source": [
    "# min\n",
    "x.min()"
   ]
  },
  {
   "cell_type": "code",
   "execution_count": 67,
   "id": "5b4102ed-57b0-4135-8ec8-f799ece333c9",
   "metadata": {},
   "outputs": [
    {
     "data": {
      "text/plain": [
       "7.5"
      ]
     },
     "execution_count": 67,
     "metadata": {},
     "output_type": "execute_result"
    }
   ],
   "source": [
    "# mean()\n",
    "x.mean()"
   ]
  },
  {
   "cell_type": "code",
   "execution_count": 68,
   "id": "58518b5d-5fc1-4006-8a4b-dffbbc02b8bf",
   "metadata": {},
   "outputs": [
    {
     "data": {
      "text/plain": [
       "4.031128874149275"
      ]
     },
     "execution_count": 68,
     "metadata": {},
     "output_type": "execute_result"
    }
   ],
   "source": [
    "# std()\n",
    "x.std()"
   ]
  },
  {
   "cell_type": "code",
   "execution_count": null,
   "id": "51af11d9-4210-4e14-abe9-e455db873277",
   "metadata": {},
   "outputs": [],
   "source": []
  }
 ],
 "metadata": {
  "kernelspec": {
   "display_name": "Python 3",
   "language": "python",
   "name": "python3"
  },
  "language_info": {
   "codemirror_mode": {
    "name": "ipython",
    "version": 3
   },
   "file_extension": ".py",
   "mimetype": "text/x-python",
   "name": "python",
   "nbconvert_exporter": "python",
   "pygments_lexer": "ipython3",
   "version": "3.8.8"
  }
 },
 "nbformat": 4,
 "nbformat_minor": 5
}
