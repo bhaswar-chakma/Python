{
 "cells": [
  {
   "cell_type": "markdown",
   "id": "a5806093-d99d-4137-a096-ea075a1d1d5e",
   "metadata": {},
   "source": [
    "<https://www.youtube.com/watch?v=6_Cuz0QqRWc>"
   ]
  },
  {
   "cell_type": "markdown",
   "id": "1d45e3d9-074e-486e-a472-c92fc3e00ec2",
   "metadata": {},
   "source": [
    "# Power\n",
    "\n",
    "Power = $P(\\text{rejecting} H_0 |H_0 \\text{false}) = $ $1 -P(\\text{not rejecting} H_0 |H_0 \\text{false})=$$ 1 -P(\\text{Type II error})$\n",
    "\n",
    "So, it is  the probability of  ***not making type II error***.\n"
   ]
  },
  {
   "cell_type": "markdown",
   "id": "8d3c469e-01e0-47bd-a165-c2eb4b40839d",
   "metadata": {},
   "source": [
    "<img src=\"images/power-khan1.png\" alt=\"Power Intro\">"
   ]
  },
  {
   "cell_type": "markdown",
   "id": "5fc64f83-6f5e-4126-aaf5-b78ff1d36c33",
   "metadata": {},
   "source": [
    "https://www.youtube.com/watch?v=CJvmp2gx7DQ\n",
    "<img src=\"images/zstat-power2.png\" alt=\"Power2 Zstat\">"
   ]
  },
  {
   "cell_type": "code",
   "execution_count": null,
   "id": "00f2d9b7-7f2f-495b-9557-b56285ad0044",
   "metadata": {},
   "outputs": [],
   "source": []
  }
 ],
 "metadata": {
  "kernelspec": {
   "display_name": "Python 3",
   "language": "python",
   "name": "python3"
  },
  "language_info": {
   "codemirror_mode": {
    "name": "ipython",
    "version": 3
   },
   "file_extension": ".py",
   "mimetype": "text/x-python",
   "name": "python",
   "nbconvert_exporter": "python",
   "pygments_lexer": "ipython3",
   "version": "3.8.10"
  }
 },
 "nbformat": 4,
 "nbformat_minor": 5
}
