{
 "cells": [
  {
   "cell_type": "markdown",
   "id": "8139fdd8-1d69-460c-b054-740a0775c458",
   "metadata": {},
   "source": [
    "## Vectorization"
   ]
  },
  {
   "cell_type": "markdown",
   "id": "cc665535-022d-4ff9-ae83-3bc1fc5ad23a",
   "metadata": {},
   "source": [
    "### What is vectorization?\n",
    "\n",
    "$$z = w^x + b$$\n",
    "where $w \\in \\mathbb{R}^{n_{x}}$ and $x \\in \\mathbb{R}^{n_{x}}$ \n",
    "\n",
    "In Python, we can implement this as follows:\n",
    "\n",
    "```{python}\n",
    "z = np.dot(w, x) +b\n",
    "```"
   ]
  },
  {
   "cell_type": "markdown",
   "id": "6d5e1f81-cfa3-46fc-94b0-37da2921c18e",
   "metadata": {},
   "source": [
    "### Computation Time: Vectorization vs For Loop"
   ]
  },
  {
   "cell_type": "code",
   "execution_count": 20,
   "id": "71b7c126-0e58-4a11-ae03-f437577c13c1",
   "metadata": {},
   "outputs": [
    {
     "name": "stdout",
     "output_type": "stream",
     "text": [
      "250220.65439364832\n",
      "Vectorized version: 2.0017623901367188ms\n",
      "250220.65439364663\n",
      "For loop: 622.6003170013428ms\n"
     ]
    }
   ],
   "source": [
    "import numpy as np\n",
    "import time\n",
    "\n",
    "a = np.random.rand(1000000) # million dimnensional array\n",
    "b = np.random.rand(1000000) # million dimnensional array\n",
    "\n",
    "# Vectorized Version\n",
    "tic = time.time()\n",
    "c = np.dot(a, b)\n",
    "toc = time.time()\n",
    "\n",
    "print(c)\n",
    "print(\"Vectorized version: \" + str(1000*(toc-tic)) + \"ms\")\n",
    "\n",
    "# For Loop Version\n",
    "c = 0\n",
    "tic = time.time()\n",
    "for i in range(1000000):\n",
    "    c += a[i]*b[i]\n",
    "toc = time.time()\n",
    "\n",
    "print(c)\n",
    "print(\"For loop: \" +  str(1000*(toc - tic)) +  \"ms\")"
   ]
  },
  {
   "cell_type": "code",
   "execution_count": null,
   "id": "ce61686f-21da-4376-9cb0-5cc56c551f29",
   "metadata": {},
   "outputs": [],
   "source": []
  },
  {
   "cell_type": "code",
   "execution_count": null,
   "id": "c853894b-33be-4d12-b364-bccba759e0de",
   "metadata": {},
   "outputs": [],
   "source": []
  }
 ],
 "metadata": {
  "kernelspec": {
   "display_name": "Python 3",
   "language": "python",
   "name": "python3"
  },
  "language_info": {
   "codemirror_mode": {
    "name": "ipython",
    "version": 3
   },
   "file_extension": ".py",
   "mimetype": "text/x-python",
   "name": "python",
   "nbconvert_exporter": "python",
   "pygments_lexer": "ipython3",
   "version": "3.8.8"
  }
 },
 "nbformat": 4,
 "nbformat_minor": 5
}
