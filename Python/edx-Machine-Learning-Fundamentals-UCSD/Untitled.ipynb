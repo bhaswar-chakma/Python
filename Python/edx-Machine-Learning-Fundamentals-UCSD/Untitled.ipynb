{
 "cells": [
  {
   "cell_type": "markdown",
   "id": "9e0bd14d-2365-49e6-a402-da8618d74a99",
   "metadata": {},
   "source": [
    "\\usepackage[final]{pdfpages}\n",
    "\n",
    "\\includepdf[pages={-}]{slids/pca-1-handout.pdf}"
   ]
  },
  {
   "cell_type": "code",
   "execution_count": 1,
   "id": "b749c06f-5abe-4dcc-8942-fd05399c7bc0",
   "metadata": {},
   "outputs": [
    {
     "ename": "SyntaxError",
     "evalue": "unexpected character after line continuation character (<ipython-input-1-43bb86bca103>, line 1)",
     "output_type": "error",
     "traceback": [
      "\u001b[1;36m  File \u001b[1;32m\"<ipython-input-1-43bb86bca103>\"\u001b[1;36m, line \u001b[1;32m1\u001b[0m\n\u001b[1;33m    \\usepackage[final]{pdfpages}\u001b[0m\n\u001b[1;37m                                ^\u001b[0m\n\u001b[1;31mSyntaxError\u001b[0m\u001b[1;31m:\u001b[0m unexpected character after line continuation character\n"
     ]
    }
   ],
   "source": [
    "\\usepackage[final]{pdfpages}"
   ]
  },
  {
   "cell_type": "code",
   "execution_count": null,
   "id": "7accdde2-f792-4685-83f2-3cf259609afa",
   "metadata": {},
   "outputs": [],
   "source": []
  }
 ],
 "metadata": {
  "kernelspec": {
   "display_name": "Python 3",
   "language": "python",
   "name": "python3"
  },
  "language_info": {
   "codemirror_mode": {
    "name": "ipython",
    "version": 3
   },
   "file_extension": ".py",
   "mimetype": "text/x-python",
   "name": "python",
   "nbconvert_exporter": "python",
   "pygments_lexer": "ipython3",
   "version": "3.8.10"
  }
 },
 "nbformat": 4,
 "nbformat_minor": 5
}
