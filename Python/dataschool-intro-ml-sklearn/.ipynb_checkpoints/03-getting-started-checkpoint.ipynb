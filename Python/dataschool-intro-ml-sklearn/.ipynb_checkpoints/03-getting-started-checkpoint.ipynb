{
 "cells": [
  {
   "cell_type": "markdown",
   "id": "31dc775d-2e6c-4261-b69c-3163b9a5bf96",
   "metadata": {},
   "source": [
    "# 3. Getting started in scikit-learn with the famous iris dataset\n",
    "\n",
    "- What is the famous `iris` dataset, and how does it relate to Machine Learning?\n",
    "\n",
    "- How do we load the `iris` dataset into `scikit-learn`?\n",
    "\n",
    "- How do we describe a dataset using Machine Learning terminology?\n",
    "\n",
    "- What are `scikit-learn`'s four key requirements for working with data?"
   ]
  },
  {
   "cell_type": "code",
   "execution_count": 1,
   "id": "7eeb0a15-3e27-40c4-986c-f11c6901279e",
   "metadata": {},
   "outputs": [],
   "source": [
    "# Import load_iris function from datasets module\n",
    "from sklearn.datasets import load_iris"
   ]
  },
  {
   "cell_type": "code",
   "execution_count": 2,
   "id": "b5a9f922-e60d-4ea4-9b5c-fe8af51f9e0d",
   "metadata": {},
   "outputs": [
    {
     "data": {
      "text/plain": [
       "sklearn.utils.Bunch"
      ]
     },
     "execution_count": 2,
     "metadata": {},
     "output_type": "execute_result"
    }
   ],
   "source": [
    "# save \"bunch\" object containing iris dataset and its attributes\n",
    "iris = load_iris()\n",
    "type(iris)"
   ]
  },
  {
   "cell_type": "code",
   "execution_count": 6,
   "id": "dc6b3b34-0a08-4fb0-b5f3-8cae8d76fd85",
   "metadata": {},
   "outputs": [
    {
     "name": "stdout",
     "output_type": "stream",
     "text": [
      "['sepal length (cm)', 'sepal width (cm)', 'petal length (cm)', 'petal width (cm)']\n"
     ]
    }
   ],
   "source": [
    "# print(iris.data) will print all the data as list\n",
    "# print the names of the four features\n",
    "print(iris.feature_names)"
   ]
  },
  {
   "cell_type": "code",
   "execution_count": 7,
   "id": "81422029-15e3-4678-91e1-29c59846794a",
   "metadata": {},
   "outputs": [
    {
     "name": "stdout",
     "output_type": "stream",
     "text": [
      "[0 0 0 0 0 0 0 0 0 0 0 0 0 0 0 0 0 0 0 0 0 0 0 0 0 0 0 0 0 0 0 0 0 0 0 0 0\n",
      " 0 0 0 0 0 0 0 0 0 0 0 0 0 1 1 1 1 1 1 1 1 1 1 1 1 1 1 1 1 1 1 1 1 1 1 1 1\n",
      " 1 1 1 1 1 1 1 1 1 1 1 1 1 1 1 1 1 1 1 1 1 1 1 1 1 1 2 2 2 2 2 2 2 2 2 2 2\n",
      " 2 2 2 2 2 2 2 2 2 2 2 2 2 2 2 2 2 2 2 2 2 2 2 2 2 2 2 2 2 2 2 2 2 2 2 2 2\n",
      " 2 2]\n"
     ]
    }
   ],
   "source": [
    "# print integers representing the species of each observation\n",
    "print(iris.target)"
   ]
  },
  {
   "cell_type": "code",
   "execution_count": 8,
   "id": "589356e3-40f3-4de3-9c12-eb1f08e77d75",
   "metadata": {},
   "outputs": [
    {
     "name": "stdout",
     "output_type": "stream",
     "text": [
      "['setosa' 'versicolor' 'virginica']\n"
     ]
    }
   ],
   "source": [
    "# print the ecoding scheme for species:\n",
    "#   0 = setosa\n",
    "#   1 = versicolor\n",
    "#   2 = virginica\n",
    "print(iris.target_names)"
   ]
  },
  {
   "cell_type": "markdown",
   "id": "2249ef21-b382-44a1-9279-9c5f33112aea",
   "metadata": {},
   "source": [
    "## Requirments for working with data in scikit-learn\n",
    "\n",
    "1. Features and response are **separate objects**\n",
    "\n",
    "2. Features and response should be **numeric**\n",
    "\n",
    "3. Features and response should be **NumPy arrays**\n",
    "\n",
    "4. Features and response should have **specific shapes.**"
   ]
  },
  {
   "cell_type": "code",
   "execution_count": 9,
   "id": "e367cba6-60de-49c0-9c7b-06f23562f7b5",
   "metadata": {},
   "outputs": [
    {
     "name": "stdout",
     "output_type": "stream",
     "text": [
      "<class 'numpy.ndarray'>\n",
      "<class 'numpy.ndarray'>\n"
     ]
    }
   ],
   "source": [
    "# Check the types of the features and response\n",
    "print(type(iris.data))\n",
    "print(type(iris.target))"
   ]
  },
  {
   "cell_type": "code",
   "execution_count": 10,
   "id": "e57a06ff-3169-4056-baf9-b79df76f9da0",
   "metadata": {},
   "outputs": [
    {
     "name": "stdout",
     "output_type": "stream",
     "text": [
      "(150, 4)\n"
     ]
    }
   ],
   "source": [
    "# Check the shape of the features\n",
    "print(iris.data.shape)"
   ]
  },
  {
   "cell_type": "code",
   "execution_count": 11,
   "id": "b33fee5a-7077-47bb-b0bb-64c424700e32",
   "metadata": {},
   "outputs": [
    {
     "name": "stdout",
     "output_type": "stream",
     "text": [
      "(150,)\n"
     ]
    }
   ],
   "source": [
    "# Check the shape of the response\n",
    "print(iris.target.shape)"
   ]
  },
  {
   "cell_type": "code",
   "execution_count": 12,
   "id": "f37c9b7a-18cb-46ff-8530-53ac1ac99d87",
   "metadata": {},
   "outputs": [],
   "source": [
    "# Store feature matrix in \"X\"\n",
    "X = iris.data\n",
    "# Store response vector in \"y\"\n",
    "y = iris.target"
   ]
  },
  {
   "cell_type": "code",
   "execution_count": null,
   "id": "581c5984-caaa-4b00-9804-63155702dbcf",
   "metadata": {},
   "outputs": [],
   "source": []
  }
 ],
 "metadata": {
  "kernelspec": {
   "display_name": "Python 3",
   "language": "python",
   "name": "python3"
  },
  "language_info": {
   "codemirror_mode": {
    "name": "ipython",
    "version": 3
   },
   "file_extension": ".py",
   "mimetype": "text/x-python",
   "name": "python",
   "nbconvert_exporter": "python",
   "pygments_lexer": "ipython3",
   "version": "3.8.8"
  }
 },
 "nbformat": 4,
 "nbformat_minor": 5
}
