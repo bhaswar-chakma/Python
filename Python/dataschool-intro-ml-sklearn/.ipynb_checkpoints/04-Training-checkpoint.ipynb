{
 "cells": [
  {
   "cell_type": "markdown",
   "id": "589549bd-83ef-4f0b-9bcc-b91b36f8474e",
   "metadata": {},
   "source": [
    "# 4. Training a Machine Learning model with scikit-learn\n",
    "\n",
    "- What is the K-nearest neighbors classification model?\n",
    "\n",
    "- What are the four steps for model training and prediction in scikit-learn?\n",
    "\n",
    "- How can I apply this pattern to other Machine Learning models?\n",
    "\n",
    "## K-nearest neighbors (KNN) classification\n",
    "\n",
    "1. Pick a value for K.\n",
    "\n",
    "2. Search for the K observations in the training data that are \"nearest\" to the measurements of the unknown iris\n",
    "\n",
    "3. Use the most popular response value from the K nearest neighbors as the predicted response value for the unknown iris.\n",
    "\n",
    "## Example using IRIS dataset\n",
    "\n",
    "### Loading the data"
   ]
  },
  {
   "cell_type": "code",
   "execution_count": 5,
   "id": "d5b64701-ad1d-4b13-8f22-ddc6fc232792",
   "metadata": {},
   "outputs": [],
   "source": [
    "# Import load_iris function from datasets module\n",
    "from sklearn.datasets import load_iris\n",
    "\n",
    "# save \"bunch\" object containing iris dataset and its attributes\n",
    "iris = load_iris()\n",
    "\n",
    "# store feature matrix in \"X\"\n",
    "X = iris.data\n",
    "\n",
    "# store response vector in \"y\"\n",
    "y = iris.target"
   ]
  },
  {
   "cell_type": "code",
   "execution_count": 6,
   "id": "90c19533-a582-42ee-9432-71ab3ad5aa38",
   "metadata": {},
   "outputs": [
    {
     "name": "stdout",
     "output_type": "stream",
     "text": [
      "(150, 4)\n",
      "(150,)\n"
     ]
    }
   ],
   "source": [
    "# print the shapes\n",
    "print(X.shape)\n",
    "print(y.shape)"
   ]
  },
  {
   "cell_type": "markdown",
   "id": "7eb37c1d-8e5b-43de-a3cb-a66c1cbd3409",
   "metadata": {},
   "source": [
    "## <span style=\"color:green\"> scikit-learn 4-step modeling pattern</span>\n"
   ]
  },
  {
   "cell_type": "markdown",
   "id": "5a61b5e9-750e-4f85-8e2c-0710acc80dfc",
   "metadata": {},
   "source": [
    "#### <span style=\"color:blue\"> Step 1: Import the class you plan to use</span>\n"
   ]
  },
  {
   "cell_type": "code",
   "execution_count": 8,
   "id": "ca725106-b4ef-42c1-bd8a-51666261a303",
   "metadata": {},
   "outputs": [],
   "source": [
    "from sklearn.neighbors import KNeighborsClassifier"
   ]
  },
  {
   "cell_type": "markdown",
   "id": "9c041cc5-498b-4376-bbe1-69f5314891f7",
   "metadata": {},
   "source": [
    "#### <span style=\"color:blue\"> Step 2: \"Instantiate\" the estimator</span>\n",
    "\n",
    "- \"Estimator\" is the `scikit-learn`'s term for model\n",
    "\n",
    "- \"Instantiate\" means \"make an instance of\""
   ]
  },
  {
   "cell_type": "code",
   "execution_count": 10,
   "id": "ec3c9fda-6fe1-4b29-ab34-31dff3b81fd9",
   "metadata": {},
   "outputs": [],
   "source": [
    "knn = KNeighborsClassifier(n_neighbors = 1)"
   ]
  },
  {
   "cell_type": "markdown",
   "id": "877fe283-2c5f-4823-a499-4b47531a1b5f",
   "metadata": {},
   "source": [
    "Note the following:\n",
    "\n",
    "- Name of the object does not matter\n",
    "\n",
    "- Can specify tuning parameters (aka \"hyperparameters\") during this step\n",
    "\n",
    "- All parameters not specified are set to their defaults"
   ]
  },
  {
   "cell_type": "code",
   "execution_count": 14,
   "id": "58786745-4ad7-4c25-9374-c12152ad104d",
   "metadata": {},
   "outputs": [
    {
     "name": "stdout",
     "output_type": "stream",
     "text": [
      "KNeighborsClassifier(n_neighbors=1)\n"
     ]
    }
   ],
   "source": [
    "# When you print or fit an estimator (such as \"knn\"), \n",
    "#   it only displays the parameters that have been changed from the default values\n",
    "print(knn)"
   ]
  },
  {
   "cell_type": "markdown",
   "id": "cc5b01ec-a34b-4f62-8f50-ff0ff70fcc8e",
   "metadata": {},
   "source": [
    "#### <span style=\"color:blue\"> Step 3: Fit the model with data (aka \"model training\")</span>\n",
    "\n",
    "- Model is learning the relationship between X and y\n",
    "\n",
    "- Occurs in-place i.e. you do not need to assign the result to some object"
   ]
  },
  {
   "cell_type": "code",
   "execution_count": 17,
   "id": "d6b4b6ba-b01a-4092-ae75-4c11e7c2fcd5",
   "metadata": {},
   "outputs": [
    {
     "data": {
      "text/plain": [
       "KNeighborsClassifier(n_neighbors=1)"
      ]
     },
     "execution_count": 17,
     "metadata": {},
     "output_type": "execute_result"
    }
   ],
   "source": [
    "knn.fit(X,y)"
   ]
  },
  {
   "cell_type": "markdown",
   "id": "b05b0e23-67e5-4346-8bf1-bd20168c189b",
   "metadata": {},
   "source": [
    "#### <span style=\"color:blue\"> Step 4: Predict the response for a new observation</span>.\n",
    "\n",
    "- New observations are called \"out-of-sample\" data\n",
    "\n",
    "- Uses the information it learned during the model training process"
   ]
  },
  {
   "cell_type": "code",
   "execution_count": 21,
   "id": "7eab23ce-22fe-4d08-8fcb-aa4fc909d9ac",
   "metadata": {},
   "outputs": [
    {
     "data": {
      "text/plain": [
       "array([2])"
      ]
     },
     "execution_count": 21,
     "metadata": {},
     "output_type": "execute_result"
    }
   ],
   "source": [
    "# option 1: pass the data as a nested list, which will be interpreted as having shape (1, 4)\n",
    "knn.predict([[3, 5, 4, 2]])"
   ]
  },
  {
   "cell_type": "code",
   "execution_count": 22,
   "id": "2677966b-7e71-407b-b56f-bb7faa639782",
   "metadata": {},
   "outputs": [
    {
     "data": {
      "text/plain": [
       "array([2])"
      ]
     },
     "execution_count": 22,
     "metadata": {},
     "output_type": "execute_result"
    }
   ],
   "source": [
    "# option 2: explicitly change the shape to be (1, 4)\n",
    "import numpy as np\n",
    "knn.predict(np.reshape([3, 5, 4, 2], (1, 4)))"
   ]
  },
  {
   "cell_type": "code",
   "execution_count": 23,
   "id": "b8c78e95-e4bf-41a2-b268-476f3695ac8a",
   "metadata": {},
   "outputs": [
    {
     "data": {
      "text/plain": [
       "array([2])"
      ]
     },
     "execution_count": 23,
     "metadata": {},
     "output_type": "execute_result"
    }
   ],
   "source": [
    "# option 3: explicitly change the first dimension to be 1, let NumPy infer that the second dimension should be 4\n",
    "knn.predict(np.reshape([3, 5, 4, 2], (1, -1)))"
   ]
  },
  {
   "cell_type": "markdown",
   "id": "6f9aeb0b-58c2-422a-9fed-2cadccc0cc09",
   "metadata": {},
   "source": [
    "Note that \n",
    "\n",
    "- `.predict()` returns a `NumPy` array\n",
    "\n",
    "- can predict multiple instances at once"
   ]
  },
  {
   "cell_type": "code",
   "execution_count": 25,
   "id": "3746d305-2334-494a-9880-f55e089f608f",
   "metadata": {},
   "outputs": [
    {
     "data": {
      "text/plain": [
       "array([2, 1])"
      ]
     },
     "execution_count": 25,
     "metadata": {},
     "output_type": "execute_result"
    }
   ],
   "source": [
    "# predict multiple obs\n",
    "X_new = [[3, 5, 4, 2], [5, 4, 3, 2]]\n",
    "knn.predict(X_new) # predicts 2 and 1 respectively"
   ]
  },
  {
   "cell_type": "markdown",
   "id": "988aa18d-c3c1-4ded-9b78-568c1d12883b",
   "metadata": {},
   "source": [
    "### Using different value for k"
   ]
  },
  {
   "cell_type": "code",
   "execution_count": 36,
   "id": "98eb4116-2014-4efb-b5c2-d5715fd47093",
   "metadata": {},
   "outputs": [
    {
     "data": {
      "text/plain": [
       "array([1, 1])"
      ]
     },
     "execution_count": 36,
     "metadata": {},
     "output_type": "execute_result"
    }
   ],
   "source": [
    "# you no longer need to import the class\n",
    "\n",
    "\n",
    "# instantiate the model (using the value K=5)\n",
    "knn = KNeighborsClassifier(n_neighbors = 5)\n",
    "\n",
    "# fit the model with data\n",
    "knn.fit(X, y)\n",
    "\n",
    "# predict the response for new observations\n",
    "knn.predict(X_new)"
   ]
  },
  {
   "cell_type": "markdown",
   "id": "f0d5ef8d-e56f-445d-9eb3-602c82fd310f",
   "metadata": {},
   "source": [
    "### Using different classification model\n",
    "\n",
    "Apply the same 4-step!"
   ]
  },
  {
   "cell_type": "code",
   "execution_count": 40,
   "id": "76f62785-7cb9-4e16-9108-31fc6912b41b",
   "metadata": {},
   "outputs": [
    {
     "data": {
      "text/plain": [
       "array([2, 0])"
      ]
     },
     "execution_count": 40,
     "metadata": {},
     "output_type": "execute_result"
    }
   ],
   "source": [
    "# 1: Import the class\n",
    "from sklearn.linear_model import LogisticRegression\n",
    "\n",
    "# 2: Instantiate the model \n",
    "logreg = LogisticRegression(solver = 'liblinear') # why this solver? just to match with the video\n",
    "\n",
    "# 3: Fit the model with data\n",
    "logreg.fit(X, y)\n",
    "\n",
    "# 4: Predict the response for new observations\n",
    "logreg.predict(X_new)"
   ]
  },
  {
   "cell_type": "code",
   "execution_count": null,
   "id": "9609006b-2004-413b-843a-c24e7cb3cd5a",
   "metadata": {},
   "outputs": [],
   "source": []
  }
 ],
 "metadata": {
  "kernelspec": {
   "display_name": "Python 3",
   "language": "python",
   "name": "python3"
  },
  "language_info": {
   "codemirror_mode": {
    "name": "ipython",
    "version": 3
   },
   "file_extension": ".py",
   "mimetype": "text/x-python",
   "name": "python",
   "nbconvert_exporter": "python",
   "pygments_lexer": "ipython3",
   "version": "3.8.8"
  }
 },
 "nbformat": 4,
 "nbformat_minor": 5
}
