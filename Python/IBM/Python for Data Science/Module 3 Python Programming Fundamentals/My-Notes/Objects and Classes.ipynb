{
 "cells": [
  {
   "cell_type": "markdown",
   "id": "51df6ebd-c06b-44ad-a76a-62a05fbad963",
   "metadata": {},
   "source": [
    "## Built-in Types in Python\n",
    "\n",
    "- Python has lots of data types\n",
    "\n",
    "- Types:\n",
    "\n",
    "    - `int`: 1, 2, 3\n",
    "    \n",
    "    - `float`: 1.2. 0.62\n",
    "    \n",
    "    - `String`: 'abc', 'xyz'\n",
    "    \n",
    "    - `List`: [1, 2, 3]\n",
    "    \n",
    "    - `Dictionary`: {'Key1': 100, 'Key2': 500}\n",
    "    \n",
    "    - `Bool`: True, False\n",
    "    \n",
    " - Each is an **`Object`**\n",
    " \n",
    " - Every `object` has\n",
    " \n",
    "     - `type`\n",
    "     \n",
    "     - an internal data representation (a blueprint)\n",
    "     \n",
    "     - a set of procedures for interecting withe object (`methods`)\n",
    "     \n",
    " - An `object` is an `instance` of a particular `type`\n",
    " \n",
    " - You can find the type of object by using the command `type()`\n",
    "\n",
    "    "
   ]
  },
  {
   "cell_type": "code",
   "execution_count": 1,
   "id": "7b406deb-3a8c-45aa-8206-7ceab6f52444",
   "metadata": {},
   "outputs": [
    {
     "data": {
      "text/plain": [
       "list"
      ]
     },
     "execution_count": 1,
     "metadata": {},
     "output_type": "execute_result"
    }
   ],
   "source": [
    "type([1, 2])"
   ]
  },
  {
   "cell_type": "code",
   "execution_count": 2,
   "id": "52b0f2a2-4c95-4edf-9632-162d848c0368",
   "metadata": {},
   "outputs": [
    {
     "data": {
      "text/plain": [
       "int"
      ]
     },
     "execution_count": 2,
     "metadata": {},
     "output_type": "execute_result"
    }
   ],
   "source": [
    "type(1)"
   ]
  },
  {
   "cell_type": "code",
   "execution_count": 3,
   "id": "8c1f259c-e19f-45a3-97df-20825d986931",
   "metadata": {},
   "outputs": [
    {
     "data": {
      "text/plain": [
       "float"
      ]
     },
     "execution_count": 3,
     "metadata": {},
     "output_type": "execute_result"
    }
   ],
   "source": [
    "type(3.14)"
   ]
  },
  {
   "cell_type": "code",
   "execution_count": 4,
   "id": "805eed49-d8f1-41e6-ac1b-00083474837d",
   "metadata": {},
   "outputs": [
    {
     "data": {
      "text/plain": [
       "str"
      ]
     },
     "execution_count": 4,
     "metadata": {},
     "output_type": "execute_result"
    }
   ],
   "source": [
    "type(\"I love Python!\")"
   ]
  },
  {
   "cell_type": "code",
   "execution_count": 6,
   "id": "94916784-380e-4fb9-9b7e-edebc9f92464",
   "metadata": {},
   "outputs": [
    {
     "data": {
      "text/plain": [
       "dict"
      ]
     },
     "execution_count": 6,
     "metadata": {},
     "output_type": "execute_result"
    }
   ],
   "source": [
    "type({\"name\": \"Young\", \"age\": 18})"
   ]
  },
  {
   "cell_type": "markdown",
   "id": "0dec67f4-e4da-4939-9d24-e309a86e549d",
   "metadata": {},
   "source": [
    "## Methods\n",
    "\n",
    "- A class or type's methods are functions that every instance of that class or type provides\n",
    "\n",
    "- It's how you interect with the data in an object\n",
    "\n",
    "- Sorting is an example of a method that interacts withe data in the object\n"
   ]
  },
  {
   "cell_type": "code",
   "execution_count": 8,
   "id": "d0d00002-f3fe-46dd-ba65-ffe463d3b85a",
   "metadata": {},
   "outputs": [
    {
     "data": {
      "text/plain": [
       "[8, 1, 3, 9, 0]"
      ]
     },
     "execution_count": 8,
     "metadata": {},
     "output_type": "execute_result"
    }
   ],
   "source": [
    "ratings = [8, 1, 3, 9, 0]\n",
    "ratings"
   ]
  },
  {
   "cell_type": "code",
   "execution_count": 10,
   "id": "eb9efdae-d70d-49c6-b712-639231308773",
   "metadata": {},
   "outputs": [],
   "source": [
    "# sort method\n",
    "ratings.sort() # changes the object "
   ]
  },
  {
   "cell_type": "code",
   "execution_count": 11,
   "id": "3846438c-7cfb-4ec7-856a-043843f8d347",
   "metadata": {},
   "outputs": [
    {
     "data": {
      "text/plain": [
       "[0, 1, 3, 8, 9]"
      ]
     },
     "execution_count": 11,
     "metadata": {},
     "output_type": "execute_result"
    }
   ],
   "source": [
    "ratings"
   ]
  },
  {
   "cell_type": "markdown",
   "id": "8facd183-b869-4a22-8699-4aa6d6172821",
   "metadata": {},
   "source": [
    "## Creating your own classes\n",
    "\n",
    "<img src=\"images/class1.png\" alt=\"Create Class\">\n"
   ]
  },
  {
   "cell_type": "markdown",
   "id": "018b55d7-042a-4e6a-9838-ff491938d853",
   "metadata": {},
   "source": [
    "### Circle\n",
    "\n",
    "We need the `radius` obviously. Suppose we also need `color`\n",
    "\n",
    "*Data Attributes:* `radius`;`color`\n",
    "\n",
    "\n",
    "**Step 1:** Define your class\n",
    "\n",
    "```{python}\n",
    "class Circle(object):\n",
    "```\n",
    "\n",
    "**Step 2:** Initialize\n",
    "\n",
    "```\n",
    "def __init__(self, radius, color):\n",
    "  self.radius = radius;\n",
    "  self.color = color; \n",
    "```\n",
    "\n",
    "  - `__init__`: constructor\n",
    "  \n",
    "  - `radius, color`: parameters are used to initialize the radius and color data attirbutes of the class instance\n",
    "  \n",
    "  - `self`: parameter refers to the newly created instance of the class\n",
    "  \n",
    "  "
   ]
  },
  {
   "cell_type": "code",
   "execution_count": 14,
   "id": "d879274e-cf0e-4aef-894e-8b0f6a8bdd27",
   "metadata": {},
   "outputs": [
    {
     "ename": "SyntaxError",
     "evalue": "invalid syntax (<ipython-input-14-a6b5be47aa9b>, line 2)",
     "output_type": "error",
     "traceback": [
      "\u001b[1;36m  File \u001b[1;32m\"<ipython-input-14-a6b5be47aa9b>\"\u001b[1;36m, line \u001b[1;32m2\u001b[0m\n\u001b[1;33m    def__init__(self, radius, color):\u001b[0m\n\u001b[1;37m                                     ^\u001b[0m\n\u001b[1;31mSyntaxError\u001b[0m\u001b[1;31m:\u001b[0m invalid syntax\n"
     ]
    }
   ],
   "source": [
    "class Circle(object):\n",
    "    def__init__(self, radius, color):\n",
    "        self.radius = radius\n",
    "        self.color = color"
   ]
  },
  {
   "cell_type": "markdown",
   "id": "34fc6030-532e-4609-88f3-1048a5f07dc9",
   "metadata": {},
   "source": [
    "### Rectangle\n",
    "\n",
    "*Data Attributes*: `height`; `width`; `color`\n",
    "\n",
    "\n",
    "\n"
   ]
  },
  {
   "cell_type": "code",
   "execution_count": 15,
   "id": "fe9f3c1e-5b03-4422-b53f-71851f36298c",
   "metadata": {},
   "outputs": [],
   "source": [
    "# Import the library\n",
    "\n",
    "import matplotlib.pyplot as plt\n",
    "%matplotlib inline  "
   ]
  },
  {
   "cell_type": "code",
   "execution_count": 16,
   "id": "ec2330a8-d3be-432a-a7e7-82cb3deeb669",
   "metadata": {},
   "outputs": [],
   "source": [
    "# Create a class Circle\n",
    "\n",
    "class Circle(object):\n",
    "    \n",
    "    # Constructor\n",
    "    def __init__(self, radius=3, color='blue'):\n",
    "        self.radius = radius\n",
    "        self.color = color \n",
    "    \n",
    "    # Method\n",
    "    def add_radius(self, r):\n",
    "        self.radius = self.radius + r\n",
    "        return(self.radius)\n",
    "    \n",
    "    # Method\n",
    "    def drawCircle(self):\n",
    "        plt.gca().add_patch(plt.Circle((0, 0), radius=self.radius, fc=self.color))\n",
    "        plt.axis('scaled')\n",
    "        plt.show()  "
   ]
  },
  {
   "cell_type": "code",
   "execution_count": 17,
   "id": "ec55801d-287d-409e-bc5a-397ae96021d0",
   "metadata": {},
   "outputs": [],
   "source": [
    "RedCircle = Circle(10, 'red')"
   ]
  },
  {
   "cell_type": "code",
   "execution_count": 18,
   "id": "d97bb929-eda9-418f-95b5-5aefeb3d6775",
   "metadata": {},
   "outputs": [
    {
     "data": {
      "text/plain": [
       "<__main__.Circle at 0x1a314fe6b80>"
      ]
     },
     "execution_count": 18,
     "metadata": {},
     "output_type": "execute_result"
    }
   ],
   "source": [
    "RedCircle"
   ]
  },
  {
   "cell_type": "code",
   "execution_count": 19,
   "id": "1cb29e86-eaa2-4ae3-b411-e68a6562cc78",
   "metadata": {},
   "outputs": [
    {
     "data": {
      "text/plain": [
       "['__class__',\n",
       " '__delattr__',\n",
       " '__dict__',\n",
       " '__dir__',\n",
       " '__doc__',\n",
       " '__eq__',\n",
       " '__format__',\n",
       " '__ge__',\n",
       " '__getattribute__',\n",
       " '__gt__',\n",
       " '__hash__',\n",
       " '__init__',\n",
       " '__init_subclass__',\n",
       " '__le__',\n",
       " '__lt__',\n",
       " '__module__',\n",
       " '__ne__',\n",
       " '__new__',\n",
       " '__reduce__',\n",
       " '__reduce_ex__',\n",
       " '__repr__',\n",
       " '__setattr__',\n",
       " '__sizeof__',\n",
       " '__str__',\n",
       " '__subclasshook__',\n",
       " '__weakref__',\n",
       " 'add_radius',\n",
       " 'color',\n",
       " 'drawCircle',\n",
       " 'radius']"
      ]
     },
     "execution_count": 19,
     "metadata": {},
     "output_type": "execute_result"
    }
   ],
   "source": [
    "dir(RedCircle)"
   ]
  },
  {
   "cell_type": "code",
   "execution_count": 20,
   "id": "8d6f4674-b20c-4af0-954b-91cca241d4fd",
   "metadata": {},
   "outputs": [
    {
     "data": {
      "text/plain": [
       "10"
      ]
     },
     "execution_count": 20,
     "metadata": {},
     "output_type": "execute_result"
    }
   ],
   "source": [
    "RedCircle.radius"
   ]
  },
  {
   "cell_type": "code",
   "execution_count": 21,
   "id": "2baaa86c-1231-47f7-b4ea-1c7e97bbae24",
   "metadata": {},
   "outputs": [
    {
     "data": {
      "text/plain": [
       "'red'"
      ]
     },
     "execution_count": 21,
     "metadata": {},
     "output_type": "execute_result"
    }
   ],
   "source": [
    "RedCircle.color"
   ]
  },
  {
   "cell_type": "code",
   "execution_count": 22,
   "id": "512bd5e7-5a75-4d53-b370-387c0baed509",
   "metadata": {},
   "outputs": [
    {
     "data": {
      "text/plain": [
       "1"
      ]
     },
     "execution_count": 22,
     "metadata": {},
     "output_type": "execute_result"
    }
   ],
   "source": [
    "# Set the object attribute radius\n",
    "\n",
    "RedCircle.radius = 1\n",
    "RedCircle.radius"
   ]
  },
  {
   "cell_type": "code",
   "execution_count": 23,
   "id": "98280713-e966-42d1-ba80-7f8e9658ed04",
   "metadata": {},
   "outputs": [
    {
     "data": {
      "image/png": "[encoded data removed]",
      "text/plain": [
       "<Figure size 432x288 with 1 Axes>"
      ]
     },
     "metadata": {
      "needs_background": "light"
     },
     "output_type": "display_data"
    }
   ],
   "source": [
    "# Call the method drawCircle\n",
    "\n",
    "RedCircle.drawCircle()"
   ]
  },
  {
   "cell_type": "code",
   "execution_count": 24,
   "id": "9c882d7b-4301-4bec-9bf0-9de4fcfdc467",
   "metadata": {},
   "outputs": [
    {
     "data": {
      "text/plain": [
       "__main__.Circle"
      ]
     },
     "execution_count": 24,
     "metadata": {},
     "output_type": "execute_result"
    }
   ],
   "source": [
    "type(RedCircle)"
   ]
  },
  {
   "cell_type": "code",
   "execution_count": 25,
   "id": "69c64201-9581-4a67-84d8-8dbbb05ae3d8",
   "metadata": {},
   "outputs": [],
   "source": [
    "BlueCircle = Circle(radius=100)"
   ]
  },
  {
   "cell_type": "code",
   "execution_count": 26,
   "id": "8608c3d7-235b-422c-a9d4-6e5f73dca3a2",
   "metadata": {},
   "outputs": [
    {
     "data": {
      "text/plain": [
       "100"
      ]
     },
     "execution_count": 26,
     "metadata": {},
     "output_type": "execute_result"
    }
   ],
   "source": [
    "BlueCircle.radius"
   ]
  },
  {
   "cell_type": "code",
   "execution_count": 27,
   "id": "a1ee9d36-1689-417a-a551-7fd5fe7a05c1",
   "metadata": {},
   "outputs": [
    {
     "data": {
      "text/plain": [
       "'blue'"
      ]
     },
     "execution_count": 27,
     "metadata": {},
     "output_type": "execute_result"
    }
   ],
   "source": [
    "BlueCircle.color"
   ]
  },
  {
   "cell_type": "code",
   "execution_count": null,
   "id": "e0fd9dd0-61da-4b66-b1f7-4aaef2210d52",
   "metadata": {},
   "outputs": [],
   "source": []
  }
 ],
 "metadata": {
  "kernelspec": {
   "display_name": "Python 3",
   "language": "python",
   "name": "python3"
  },
  "language_info": {
   "codemirror_mode": {
    "name": "ipython",
    "version": 3
   },
   "file_extension": ".py",
   "mimetype": "text/x-python",
   "name": "python",
   "nbconvert_exporter": "python",
   "pygments_lexer": "ipython3",
   "version": "3.8.10"
  }
 },
 "nbformat": 4,
 "nbformat_minor": 5
}
