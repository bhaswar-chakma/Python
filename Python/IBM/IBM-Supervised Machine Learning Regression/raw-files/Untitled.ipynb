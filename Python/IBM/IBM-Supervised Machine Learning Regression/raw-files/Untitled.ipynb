{
 "cells": [
  {
   "cell_type": "code",
   "execution_count": 1,
   "id": "63525fa1-fdd6-432b-9ad5-1218f1cffeca",
   "metadata": {},
   "outputs": [],
   "source": [
    "import numpy as np\n",
    "import pandas as pd"
   ]
  },
  {
   "cell_type": "code",
   "execution_count": 2,
   "id": "38b355e5-2191-4f65-b272-5ac102ee78a0",
   "metadata": {},
   "outputs": [],
   "source": [
    "data = [\n",
    "    \"XYZ Deposit 2020\",\n",
    "    \"Cash Deposit\",\n",
    "    \"ATM\",\n",
    "    \"XYZ Fee 2021\",\n",
    "    \"XYZ Deposit 2021\"\n",
    "]"
   ]
  },
  {
   "cell_type": "code",
   "execution_count": 10,
   "id": "5e04819f-1c59-4373-b3c8-d631dde009c3",
   "metadata": {},
   "outputs": [
    {
     "data": {
      "text/html": [
       "<div>\n",
       "<style scoped>\n",
       "    .dataframe tbody tr th:only-of-type {\n",
       "        vertical-align: middle;\n",
       "    }\n",
       "\n",
       "    .dataframe tbody tr th {\n",
       "        vertical-align: top;\n",
       "    }\n",
       "\n",
       "    .dataframe thead th {\n",
       "        text-align: right;\n",
       "    }\n",
       "</style>\n",
       "<table border=\"1\" class=\"dataframe\">\n",
       "  <thead>\n",
       "    <tr style=\"text-align: right;\">\n",
       "      <th></th>\n",
       "      <th>info</th>\n",
       "      <th>amount</th>\n",
       "    </tr>\n",
       "  </thead>\n",
       "  <tbody>\n",
       "    <tr>\n",
       "      <th>0</th>\n",
       "      <td>XYZ Deposit 2020</td>\n",
       "      <td>0</td>\n",
       "    </tr>\n",
       "    <tr>\n",
       "      <th>1</th>\n",
       "      <td>Cash Deposit</td>\n",
       "      <td>1</td>\n",
       "    </tr>\n",
       "    <tr>\n",
       "      <th>2</th>\n",
       "      <td>ATM</td>\n",
       "      <td>2</td>\n",
       "    </tr>\n",
       "    <tr>\n",
       "      <th>3</th>\n",
       "      <td>XYZ Fee 2021</td>\n",
       "      <td>3</td>\n",
       "    </tr>\n",
       "    <tr>\n",
       "      <th>4</th>\n",
       "      <td>XYZ Deposit 2021</td>\n",
       "      <td>4</td>\n",
       "    </tr>\n",
       "  </tbody>\n",
       "</table>\n",
       "</div>"
      ],
      "text/plain": [
       "               info  amount\n",
       "0  XYZ Deposit 2020       0\n",
       "1      Cash Deposit       1\n",
       "2               ATM       2\n",
       "3      XYZ Fee 2021       3\n",
       "4  XYZ Deposit 2021       4"
      ]
     },
     "execution_count": 10,
     "metadata": {},
     "output_type": "execute_result"
    }
   ],
   "source": [
    "# toy data\n",
    "df = pd.DataFrame({\n",
    "    'info':\n",
    "    [\n",
    "    \"XYZ Deposit 2020\",\n",
    "    \"Cash Deposit\",\n",
    "    \"ATM\",\n",
    "    \"XYZ Fee 2021\",\n",
    "    \"XYZ Deposit 2021\"\n",
    "],\n",
    "    'amount': np.arange(5)    \n",
    "})\n",
    "df"
   ]
  },
  {
   "cell_type": "code",
   "execution_count": 15,
   "id": "24b94810-5e61-4e7c-bbfb-698d5987e5e0",
   "metadata": {},
   "outputs": [
    {
     "data": {
      "text/html": [
       "<div>\n",
       "<style scoped>\n",
       "    .dataframe tbody tr th:only-of-type {\n",
       "        vertical-align: middle;\n",
       "    }\n",
       "\n",
       "    .dataframe tbody tr th {\n",
       "        vertical-align: top;\n",
       "    }\n",
       "\n",
       "    .dataframe thead th {\n",
       "        text-align: right;\n",
       "    }\n",
       "</style>\n",
       "<table border=\"1\" class=\"dataframe\">\n",
       "  <thead>\n",
       "    <tr style=\"text-align: right;\">\n",
       "      <th></th>\n",
       "      <th>info</th>\n",
       "      <th>amount</th>\n",
       "    </tr>\n",
       "  </thead>\n",
       "  <tbody>\n",
       "    <tr>\n",
       "      <th>0</th>\n",
       "      <td>XYZ Deposit 2020</td>\n",
       "      <td>0</td>\n",
       "    </tr>\n",
       "    <tr>\n",
       "      <th>3</th>\n",
       "      <td>XYZ Fee 2021</td>\n",
       "      <td>3</td>\n",
       "    </tr>\n",
       "    <tr>\n",
       "      <th>4</th>\n",
       "      <td>XYZ Deposit 2021</td>\n",
       "      <td>4</td>\n",
       "    </tr>\n",
       "  </tbody>\n",
       "</table>\n",
       "</div>"
      ],
      "text/plain": [
       "               info  amount\n",
       "0  XYZ Deposit 2020       0\n",
       "3      XYZ Fee 2021       3\n",
       "4  XYZ Deposit 2021       4"
      ]
     },
     "execution_count": 15,
     "metadata": {},
     "output_type": "execute_result"
    }
   ],
   "source": [
    "df[df['info'].str.contains(\"XYZ\")]"
   ]
  },
  {
   "cell_type": "code",
   "execution_count": null,
   "id": "450af468-fe14-426e-a000-d9755b730e83",
   "metadata": {},
   "outputs": [],
   "source": [
    "library(tidyverse)\n",
    "# toy data\n",
    "df <- tibble(\n",
    "  info = c(\n",
    "    \"XYZ Deposit 2020\",\n",
    "    \"Cash Deposit\",\n",
    "    \"ATM\",\n",
    "    \"XYZ Fee 2021\",\n",
    "    \"XYZ Deposit 2021\"\n",
    "  ),\n",
    "  amount = seq(1,5) - 1\n",
    ")\n",
    "df\n",
    "# str_detect in action\n",
    "df %>% \n",
    "  filter(str_detect(info, \"XYZ\"))\n"
   ]
  }
 ],
 "metadata": {
  "kernelspec": {
   "display_name": "Python 3",
   "language": "python",
   "name": "python3"
  },
  "language_info": {
   "codemirror_mode": {
    "name": "ipython",
    "version": 3
   },
   "file_extension": ".py",
   "mimetype": "text/x-python",
   "name": "python",
   "nbconvert_exporter": "python",
   "pygments_lexer": "ipython3",
   "version": "3.8.8"
  }
 },
 "nbformat": 4,
 "nbformat_minor": 5
}
