{
 "cells": [
  {
   "cell_type": "markdown",
   "id": "87f7de8a",
   "metadata": {},
   "source": [
    "## The Standardized Approach\n",
    "\n",
    "The **Standardized Approach** (STA, also spelled \"Standardised\") is the topic of this lesson.\n",
    "It is completely described in the Basel II document, which you can find [here](https://courses.edx.org/assets/courseware/v1/61d7f057e4187d72cc99e019c217b4c7/asset-v1:DelftX+TW3421x+2T2020+type@asset+block/basel2.pdf).\n",
    "In particular, the relevant pages are 19-51.\n",
    "You are not supposed to study these pages, but I strongly suggest you to have a look.\n",
    "It may be sufficient to read pages 19-20, to have an idea of how these documents are written.\n",
    "\n",
    "\n",
    "In the eyes of the BCBS, the standardized approach is meant for those banks that are not sufficiently sophisticated to use the internal-rating based approaches.\n",
    "\n",
    "What does \"sophisticated\" mean?\n",
    "It simply means that the STA approach is generally used by medium-small banks, which do not have the opportunity of investing (too much) money in research, in order to develop their own models, or in buying expensive industry solutions, typically sold by international consulting companies or larger banks.\n",
    "As we will see in the second lesson of this week, banks aiming at using internal-rating based approaches have to meet some minimum requirements. If they don't, they are supposed to use the standardized approach. This is not the case of US banks, where the standardized approach is not completely applicable, because of a Fed decision (in the USA,  the Basel II accord was initially only applicable to large banks, which were completely able to develop internal-rating based methods; the other banks were allowed to use a slightly modified version of Basel I; however,  since this is an international course, we do not enter into country-specific details).\n",
    "\n",
    "\n",
    "All in all, the standardized approach requires banks to use some simple (and boring) formulas to determine the RWA and other related quantities. The RWA, or **risk-weighted assets**, are the set of a bank's assets (or [off-balance](https://www.investopedia.com/terms/o/off-balance-sheet-obs.asp) sheet exposures), which are weighted according to some risk coefficients. In the STA, these coefficients are provided by the regulator.\n",
    "\n",
    "In the standardized approach, banks make a large use of external credit ratings. You probably already have an idea about credit ratings (you know, those AAA, BB+, etc.). In Week 4 we will discuss them in more detail.\n",
    "\n",
    "Ok, it is time to start the first video lesson."
   ]
  },
  {
   "cell_type": "markdown",
   "id": "89fe8fe5",
   "metadata": {},
   "source": [
    "###  Risk-weighted Assets - RWA\n",
    "\n",
    "- Risk-weighted Assets, or RWA, are a kew measure in risk managment\n",
    "\n",
    "- RWA consists of\n",
    "\n",
    "  - 1. the sum of risk weight times asset amount for on-balance sheet items\n",
    "  \n",
    "  - 2. the sum of risk weight times **credit equivalent amount** for off-balance sheet items\n",
    "  \n",
    "\n",
    "### Credit Equivalent Amount\n",
    "\n",
    "\n",
    "- The credit equivalent amount is a measure, prescribed by the regulator,  to **quantify credit risk for off-balance sheet instruments**, such as interest rate derivatives.\n",
    "\n",
    "- The goal of the credit equivalent  amount is to translate the value of such intstruments into risk equivalent credits.\n",
    "\n",
    "- It is computed as the current replacement cost (if positive) plus and add-on factor which varies from instrument to instrument (e.g. 0.5%  for a 1-5 year interest rate swap).\n"
   ]
  },
  {
   "cell_type": "markdown",
   "id": "583a7ec1",
   "metadata": {},
   "source": [
    "###  Computing RWA \n",
    "\n",
    "$$RWA =\\sum_{i=1}^{N} \\alpha_{i}E_{i} + \\sum_{j=1}^{\\infty} \\alpha_{M}C_{j}$$ \n",
    "\n",
    "<img src=\"images/1.png\"\n",
    "     alt=\"RWA1\"\n",
    "     style=\"float: left; margin-right: 10px;\" />\n",
    "     \n",
    "<img src=\"images/2.png\"\n",
    "     alt=\"RWA2\"\n",
    "     style=\"float: left; margin-right: 10px;\" />"
   ]
  },
  {
   "cell_type": "markdown",
   "id": "258736b5",
   "metadata": {},
   "source": [
    "### RWA and the Standardized Approach\n",
    "\n",
    "- In the standardized approach, risk weights are provided by the regulator, hence banks simply required to compute their RWA using the previous formula.\n",
    "\n",
    "- Risk weights are defined for classes of items, ordered according to credit ratings. Credit ratings will be the topic of Week 4.\n",
    "\n",
    "- Capital requirments for credit risk are then equal to 8% of RWA."
   ]
  },
  {
   "cell_type": "code",
   "execution_count": null,
   "id": "bc1979e0",
   "metadata": {},
   "outputs": [],
   "source": []
  }
 ],
 "metadata": {
  "kernelspec": {
   "display_name": "Python 3",
   "language": "python",
   "name": "python3"
  },
  "language_info": {
   "codemirror_mode": {
    "name": "ipython",
    "version": 3
   },
   "file_extension": ".py",
   "mimetype": "text/x-python",
   "name": "python",
   "nbconvert_exporter": "python",
   "pygments_lexer": "ipython3",
   "version": "3.8.8"
  }
 },
 "nbformat": 4,
 "nbformat_minor": 5
}
