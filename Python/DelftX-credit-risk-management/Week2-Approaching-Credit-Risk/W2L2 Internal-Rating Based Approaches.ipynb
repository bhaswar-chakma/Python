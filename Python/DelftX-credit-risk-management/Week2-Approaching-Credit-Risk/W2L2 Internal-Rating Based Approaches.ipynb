{
 "cells": [
  {
   "cell_type": "markdown",
   "id": "2b2b7642",
   "metadata": {},
   "source": [
    "## Introduction\n",
    "\n",
    "In this class, we discuss the main features of the two internal-rating based approaches, the F-IRB and the A-IRB.\n",
    "\n",
    "Only those banks that receive approval from their national supervisors are allowed to use these approaches in dealing with credit risk. In particular, banks are supposed to meet certain minimum conditions, including some disclosure requirements.\n",
    "\n",
    "The **internal-rating based (IRB)** approaches are more sophisticated than the standardized approach, and they require more work and attention. However, on average, capital requirements, as obtained from IRB methods, are smaller than those given by the standardized approach (and this is something banks do like, because in this way they have more money for other activities). This is due to a more accurate computation of the RWA. Under the IRB approach, the RWA is obtained using very specific formulas, different from the one we have seen in Lesson 1. We will see those formulas later on, when introducing the different models.\n",
    "\n",
    "Under the IRB approaches, the RWA is generally computed using 3 different elements:\n",
    "\n",
    "1. Risk parameters\n",
    "The most famous ones are: the Probability of Default (PD), the Exposure at Default (EAD), the Loss Given Default (LGD), and the so-called Maturity (M).\n",
    "\n",
    "\n",
    "2. Risk-weight functions\n",
    "These are functions defined in the Basel II-III Accords, and they are meant to compute the RWA given the risk parameters of the previous point. \n",
    "\n",
    "3. Minimum requirements \n",
    "Simply the minimum standards a bank must comply with, in order to be authorized to the use of the IRB methods.\n",
    "\n",
    "\n",
    "As you already know, there are two main approaches in the IRB family:\n",
    "\n",
    "- **The Foundation approach, or F-IRB**\n",
    "In the F-IRB, banks can compute the probabilities of default (PD) of their counterparties, using the methods they prefer. The formulas to compute all the other risk parameters are provided by the national regulator, according to the rules of Basel II and III.\n",
    "\n",
    "- **The Advanced approach, or A-IRB**\n",
    "In the A-IRB, banks are free to calculate all their risk parameters using proprietary models. The only condition is that computations respect some minimum guidelines, which are set by the regulator. \n",
    "\n",
    "The regulators also checks the statistical soundness of the proposed models.\n",
    "Regarding the IRB approaches, you can have a look at pages 52-119 of the Basel II document, but no need to study it!\n",
    "Just for your curiosity.\n",
    "\n",
    "**Important update (from January 2018 on)**: An important difference between Basel II and Basel III is the role of the A-IRB approach. In particular, the importance of the A-IRB approach has decreased since January 2018, because it is considered not conservative enough in the assessment of credit risk (under the A-IRB, banks tend to have very different risk evaluations for counterparties, and the regulator prefers common standards). At the same time, Basel III introduced some further limitations in the F-IRB and strengthened the basic STA, also for large banks and financial institutions. What we say in this course is already in line with the latest novelties (therefore some details you may find in \"old\" books, or in previous editions of this MOOC, are no longer valid)."
   ]
  },
  {
   "cell_type": "markdown",
   "id": "21ab84ef",
   "metadata": {},
   "source": [
    "## Risk Parameters\n",
    "\n",
    "**Risk parameters** are possibly the most important quantities in the IRB approaches. Each of them defines a fundamental aspect of credit risk.\n",
    "\n",
    "Let us consider them in some more detail.\n",
    "\n",
    "### Probability of Default - PD\n",
    "The Probability of Default (PD) is the likelihood of a default over a given time horizon. If we are a bank (or any other type of company, since this is a general definition), the PD gives us an estimate of the possibility that a client or a counterparty will not be able to meet its debt obligations with us.\n",
    "Typically, a counterparty is said to be defaulted when it is more than 90 days (national laws may vary) past due on his/her credit obligation, or it is considered unlikely that the obligor will repay his/her debt without giving up any [pledged collateral](http://en.wikipedia.org/wiki/Collateral_(finance)).\n",
    "In Weeks 4, 5 and 6, we will see how we can estimate the PD of a counterparty using different techniques, from credit ratings to structural models of default.\n",
    "\n",
    "### Exposure at Delfault - EAD\n",
    "\n",
    "EAD is an measure of the extent to which a bank is exposed to a counterparty, in the case in which that counterparty defaults.\n",
    "There are cases in which EAD is known exactly, for example when dealing with fixed exposures like term loans. In other situations, EAD can only be approximated, as in the case of revolving exposure, such as lines of credit.\n",
    "Something more about this in Week 6.\n",
    "\n",
    "### Loss Given Default - LGD\n",
    "The LGD is the percentage (%) of loss over the total exposure, in the case in which a counterparty defaults. Hence LGD is a percentage of EAD.\n",
    "Assume that we are a Japanese bank, and that one of our clients goes bankrupt and defaults.\n",
    "Say that the outstanding debt of our client is ¥150 million. This is nothing more than the EAD.\n",
    "As we will see later on, when speaking about recovery rates (Week 4), when a counterparty defaults it is very unlikely that we lose all the money. Typically, using special procedures, e.g. foreclosure, we are able to recover a (good) part of our credit.\n",
    "Let us assume that, when our client defaults, we can obtain ¥90 million, by selling some collateral. This means that we really lose \"only\" ¥150-¥90=¥60 million. In other terms, the actual loss when our client defaults is ¥60 million. This corresponds to 40% of the EAD (60'000'000/150'000'000=0.4), that is to say our LGD is 40% (or 0.4 in decimals).\n",
    "\n",
    "### Maturity - M\n",
    "\n",
    "Maturity is simply the final payment date of a loan or another financial instrument/security. In other words it gives us information about the timespan over which a given obligation/financial instrument remains outstanding, or it is defined.\n",
    "For example a 2-year bond has a maturity of 2 years. A 5-year mortgage has simply a maturity of 5. And so on.\n",
    "More sophisticated definitions of maturity can be given, but they are not interesting for us at this stage (wait until Week 6).\n"
   ]
  },
  {
   "cell_type": "code",
   "execution_count": null,
   "id": "9d8d5d83",
   "metadata": {},
   "outputs": [],
   "source": []
  }
 ],
 "metadata": {
  "kernelspec": {
   "display_name": "Python 3",
   "language": "python",
   "name": "python3"
  },
  "language_info": {
   "codemirror_mode": {
    "name": "ipython",
    "version": 3
   },
   "file_extension": ".py",
   "mimetype": "text/x-python",
   "name": "python",
   "nbconvert_exporter": "python",
   "pygments_lexer": "ipython3",
   "version": "3.8.8"
  }
 },
 "nbformat": 4,
 "nbformat_minor": 5
}
