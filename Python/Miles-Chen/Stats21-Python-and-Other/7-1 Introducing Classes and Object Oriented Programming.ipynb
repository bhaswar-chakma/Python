{
 "cells": [
  {
   "cell_type": "markdown",
   "id": "27bb1584-67bd-40cd-a10c-f83fddd08c20",
   "metadata": {},
   "source": [
    "# 7-1 Introducing Classes and Object Oriented Programming"
   ]
  },
  {
   "cell_type": "markdown",
   "id": "7a73432c-7b2b-4421-9e86-0f5a9924c436",
   "metadata": {},
   "source": [
    "## Programmer defined types\n",
    "\n",
    "We have used many of Python's built-in types; now we are going to define a new type.\n",
    "\n",
    "We will create a type called `Point` that represents a point in two-dimensional space $(x,y)$.\n",
    "\n",
    "There are several ways we might represent points in Python:\n",
    "\n",
    "  - We could store the coordinates separately in two variables, `x` and `y`.\n",
    "\n",
    "  - We could store the coordinates as elements in a list or tuple.\n",
    "\n",
    "  - We could create a new type to represent points as objects.\n",
    "\n",
    "  - Creating a new type is more complicated, but it has advantages.\n",
    "\n",
    "A programmer defined type is called a **class**. We define a class with the keyword `class`.\n",
    "\n",
    "Convention is to Capitalize class."
   ]
  },
  {
   "cell_type": "code",
   "execution_count": 1,
   "id": "260158b4-2765-4d44-9624-c654c0dd6a52",
   "metadata": {},
   "outputs": [],
   "source": [
    "class Point:\n",
    "    \"\"\"Represents a point in 2-D space\"\"\""
   ]
  },
  {
   "cell_type": "markdown",
   "id": "c6781474-757d-4586-a029-c9e59d1de14c",
   "metadata": {},
   "source": [
    "It is customary to use a docstring header to explain what the class is for. There is currently nothing else inside the class definition at this point in time.\n",
    "\n",
    "Defining a class name `Point` creates a **class object**."
   ]
  },
  {
   "cell_type": "code",
   "execution_count": 2,
   "id": "8c73c18d-354e-4df6-897a-a84ca44bbbff",
   "metadata": {},
   "outputs": [
    {
     "name": "stdout",
     "output_type": "stream",
     "text": [
      "<class '__main__.Point'>\n"
     ]
    }
   ],
   "source": [
    "print(Point)"
   ]
  },
  {
   "cell_type": "markdown",
   "id": "5a0234fb-203d-4e2b-9a16-1cdfa5333e71",
   "metadata": {},
   "source": [
    "Because `Point` is defined a the top level, its \"full name\" is `__main__.Point`."
   ]
  },
  {
   "cell_type": "markdown",
   "id": "e1a25c5b-e4fa-4be6-b2c5-76c0eac02a19",
   "metadata": {},
   "source": [
    "The class object is like a factory for creating objects. To create a `Point`, you call `Point` as if it were a function."
   ]
  },
  {
   "cell_type": "code",
   "execution_count": 3,
   "id": "1e742d06-576f-4042-9997-4b003467b0bf",
   "metadata": {},
   "outputs": [],
   "source": [
    "blank = Point()"
   ]
  },
  {
   "cell_type": "code",
   "execution_count": 4,
   "id": "076df08c-09ad-43c4-b6a7-c9e22cca7743",
   "metadata": {},
   "outputs": [
    {
     "data": {
      "text/plain": [
       "<__main__.Point at 0x1786a2da820>"
      ]
     },
     "execution_count": 4,
     "metadata": {},
     "output_type": "execute_result"
    }
   ],
   "source": [
    "blank"
   ]
  },
  {
   "cell_type": "markdown",
   "id": "8ca39f5f-ae76-4756-b37d-a2a6c1a19a9f",
   "metadata": {},
   "source": [
    "The return value is a reference to a `Point` object, which we assign to blank.\n",
    "\n",
    "When you print an instance, Python tells you what class it belongs to and where it is stored in memory."
   ]
  },
  {
   "cell_type": "markdown",
   "id": "408392e3-315f-499a-9c41-147dad8279d6",
   "metadata": {},
   "source": [
    "## Attributes\n",
    "\n",
    "You can assign values to an instance using dot notation."
   ]
  },
  {
   "cell_type": "code",
   "execution_count": 5,
   "id": "f19dc03a-b2e0-4236-9a1d-908d91611901",
   "metadata": {},
   "outputs": [],
   "source": [
    "blank.x = 3.0\n",
    "blank.y = 4.0"
   ]
  },
  {
   "cell_type": "markdown",
   "id": "9ff6dd0d-f05f-4689-b1ed-e21892a236df",
   "metadata": {},
   "source": [
    "This syntax is similar to the syntax for selecting a variable from a module, such as `math.pi`.\n",
    "\n",
    "In this case, though, we are assigning values to named elements of an object.These elements are call **attributes**."
   ]
  },
  {
   "cell_type": "code",
   "execution_count": 6,
   "id": "092460b4-0485-4df0-b0f6-17b26fcc48da",
   "metadata": {},
   "outputs": [
    {
     "data": {
      "text/plain": [
       "4.0"
      ]
     },
     "execution_count": 6,
     "metadata": {},
     "output_type": "execute_result"
    }
   ],
   "source": [
    "blank.y"
   ]
  },
  {
   "cell_type": "code",
   "execution_count": 7,
   "id": "e0565878-b547-412a-9f3e-1ef2a7db03c0",
   "metadata": {},
   "outputs": [
    {
     "data": {
      "text/plain": [
       "3.0"
      ]
     },
     "execution_count": 7,
     "metadata": {},
     "output_type": "execute_result"
    }
   ],
   "source": [
    "x = blank.x\n",
    "x"
   ]
  },
  {
   "cell_type": "markdown",
   "id": "e9d221fc-b3f2-4758-a034-1bd67595975f",
   "metadata": {},
   "source": [
    "There is no conflict between naming a variable x and having an attribute `x` inside the class. These are unrelated."
   ]
  },
  {
   "cell_type": "code",
   "execution_count": 8,
   "id": "ca04bf80-170b-4b15-a569-c2666f6bc462",
   "metadata": {},
   "outputs": [
    {
     "data": {
      "text/plain": [
       "3.0"
      ]
     },
     "execution_count": 8,
     "metadata": {},
     "output_type": "execute_result"
    }
   ],
   "source": [
    "x"
   ]
  },
  {
   "cell_type": "markdown",
   "id": "fe38233f-1774-464e-bdc1-bde822c60761",
   "metadata": {},
   "source": [
    "There is no conflict between naming a variable x and having an attribute x inside the class. These are unrelated."
   ]
  },
  {
   "cell_type": "markdown",
   "id": "2c31e6a3-67cc-4eae-bd12-b0dbb6f797e6",
   "metadata": {},
   "source": [
    "You can use the dot notation as part of any expression. Recall: you can insert numeric values into strings with the `%` notation."
   ]
  },
  {
   "cell_type": "code",
   "execution_count": 13,
   "id": "7abd8404-5221-4646-86c2-63bc3ad1fce8",
   "metadata": {},
   "outputs": [
    {
     "data": {
      "text/plain": [
       "'(3, 4)'"
      ]
     },
     "execution_count": 13,
     "metadata": {},
     "output_type": "execute_result"
    }
   ],
   "source": [
    "\"(%g, %g)\" % (blank.x, blank.y) # returns a string"
   ]
  },
  {
   "cell_type": "code",
   "execution_count": 12,
   "id": "da99676a-bff6-493a-9fc4-112bfa640f11",
   "metadata": {},
   "outputs": [
    {
     "data": {
      "text/plain": [
       "str"
      ]
     },
     "execution_count": 12,
     "metadata": {},
     "output_type": "execute_result"
    }
   ],
   "source": [
    "type(\"(%g, %g)\" % (blank.x, blank.y))"
   ]
  },
  {
   "cell_type": "markdown",
   "id": "1bf7a445-55ad-4ab4-abdb-3f721478bd50",
   "metadata": {},
   "source": [
    "You can pass the object as an argument and access the attributes."
   ]
  },
  {
   "cell_type": "code",
   "execution_count": 15,
   "id": "6de48857-a406-40b6-b9b2-c8ba0dc6c649",
   "metadata": {},
   "outputs": [],
   "source": [
    "def print_point(p):\n",
    "    print(\"(%g, %g)\" % (p.x, p.y))"
   ]
  },
  {
   "cell_type": "code",
   "execution_count": 16,
   "id": "254f7f12-902b-428d-834e-ce414eba9de4",
   "metadata": {},
   "outputs": [
    {
     "name": "stdout",
     "output_type": "stream",
     "text": [
      "(3, 4)\n"
     ]
    }
   ],
   "source": [
    "print_point(blank)"
   ]
  },
  {
   "cell_type": "markdown",
   "id": "a1d91f8d-e050-4510-bdfe-8f5bbdd4a2df",
   "metadata": {},
   "source": [
    "## Example: A class to represent Rectangles\n",
    "\n",
    "How can we design a class to represent a rectangle?\n",
    "\n",
    "A couple options:\n",
    "\n",
    "  - You could specify one corner of the rectangle (or the center), the width, and the height.\n",
    "  \n",
    "  - You could specify two opposing corners.\n",
    "\n",
    "Let's say we go with the first option."
   ]
  },
  {
   "cell_type": "code",
   "execution_count": 17,
   "id": "907d17d2-15ea-41fb-b27c-8ff6943c409b",
   "metadata": {},
   "outputs": [],
   "source": [
    "class Rectangle:\n",
    "    \"\"\"Represents a rectangle\n",
    "    attributes: width, height, corner\"\"\""
   ]
  },
  {
   "cell_type": "markdown",
   "id": "27c5140d-2288-4358-8299-fdd7ec825e36",
   "metadata": {},
   "source": [
    "The width and height will be numbers.\n",
    "\n",
    "To represent the corner, we will use a `Point` object."
   ]
  },
  {
   "cell_type": "code",
   "execution_count": 18,
   "id": "b0079cbb-8c79-4924-9322-b7f2077dfe57",
   "metadata": {},
   "outputs": [],
   "source": [
    "# we create an instance of the Rectangle object and begin assigning attributes.\n",
    "\n",
    "box = Rectangle()\n",
    "box.width = 100.0\n",
    "box.height = 200.0 # we could have called it box.h\n",
    "\n",
    "# for the corner attribute, we create an instance of Point\n",
    "box.corner = Point()\n",
    "box.corner.x = 0.0\n",
    "box.corner.y = 0.0"
   ]
  },
  {
   "cell_type": "markdown",
   "id": "5c02932f-9637-4f42-aff3-9931958e52f9",
   "metadata": {},
   "source": [
    "### Instances as return values\n",
    "\n",
    "Functions can return instances. For example, we create a function `find_center` that takes a Rectangle as an argument and returns a Point that contains the coordinates of the center of the Rectangle."
   ]
  },
  {
   "cell_type": "code",
   "execution_count": 19,
   "id": "d696230e-ae4b-48f3-8c7f-adc72cdbfca0",
   "metadata": {},
   "outputs": [],
   "source": [
    "def find_center(rect):\n",
    "    p = Point()\n",
    "    p.x = rect.corner.x + rect.width/2\n",
    "    p.y = rect.corner.y + rect.height/2\n",
    "    return p"
   ]
  },
  {
   "cell_type": "code",
   "execution_count": 20,
   "id": "443edff9-62a1-4aac-a701-be3d8449a1a1",
   "metadata": {},
   "outputs": [],
   "source": [
    "center = find_center(box) # note we previously created box"
   ]
  },
  {
   "cell_type": "code",
   "execution_count": 22,
   "id": "7cecc27a-a62a-4439-b952-f719172005c5",
   "metadata": {},
   "outputs": [
    {
     "data": {
      "text/plain": [
       "<__main__.Point at 0x1786a2da910>"
      ]
     },
     "execution_count": 22,
     "metadata": {},
     "output_type": "execute_result"
    }
   ],
   "source": [
    "center # instance of the point class located at ..."
   ]
  },
  {
   "cell_type": "code",
   "execution_count": 24,
   "id": "28b93da1-9a7c-4bdc-ae14-f4f9709607dc",
   "metadata": {},
   "outputs": [
    {
     "name": "stdout",
     "output_type": "stream",
     "text": [
      "(50, 100)\n"
     ]
    }
   ],
   "source": [
    "print_point(center) # note: we previously created this function, which prints"
   ]
  },
  {
   "cell_type": "markdown",
   "id": "65da387c-f148-468a-bb22-633122169c80",
   "metadata": {},
   "source": [
    "## Objects are mutable\n",
    "\n",
    "<https://youtu.be/2ZXw9snThf4?list=PLKR7271tMEmgBPgu4LtjDhX3ywpTxda5g&t=1271>"
   ]
  },
  {
   "cell_type": "code",
   "execution_count": null,
   "id": "6a1a2a73-b4dd-441f-b3e9-c0673a22914d",
   "metadata": {},
   "outputs": [],
   "source": []
  }
 ],
 "metadata": {
  "kernelspec": {
   "display_name": "Python 3",
   "language": "python",
   "name": "python3"
  },
  "language_info": {
   "codemirror_mode": {
    "name": "ipython",
    "version": 3
   },
   "file_extension": ".py",
   "mimetype": "text/x-python",
   "name": "python",
   "nbconvert_exporter": "python",
   "pygments_lexer": "ipython3",
   "version": "3.8.10"
  }
 },
 "nbformat": 4,
 "nbformat_minor": 5
}
