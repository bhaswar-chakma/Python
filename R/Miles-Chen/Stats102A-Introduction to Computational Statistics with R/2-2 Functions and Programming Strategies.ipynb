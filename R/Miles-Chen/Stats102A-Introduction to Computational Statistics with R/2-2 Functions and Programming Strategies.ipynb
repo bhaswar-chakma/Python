{
 "cells": [
  {
   "cell_type": "markdown",
   "id": "0046a49f-7da9-4ff7-b1dc-d14f8426cc7a",
   "metadata": {},
   "source": [
    "# Function Basics\n",
    "\n",
    "**Functions in R have the following form** "
   ]
  },
  {
   "cell_type": "code",
   "execution_count": 108,
   "id": "136e50dc-36f4-4a06-8c93-56dabeae5217",
   "metadata": {},
   "outputs": [],
   "source": [
    "name <- function(argument_1, argument_2){\n",
    "  expression_1\n",
    "  expression_2\n",
    "  ...\n",
    "  return(output)\n",
    "}\n"
   ]
  },
  {
   "cell_type": "markdown",
   "id": "1f6aef09-8ee3-4fa4-87ac-fb5e445b56bc",
   "metadata": {},
   "source": [
    "  - `argument_1` and `argument_1` are the names of the variables suppied to the function\n",
    "    \n",
    "  - `expression_1`,`expression_2`, and `output` are expressions\n",
    "    \n",
    "  - `name` is the name of the functio, and will be called to action with `name(x, y)`\n",
    "    \n",
    "  - The result of the function will be `output`, which can be assigned to an object\n",
    "  \n",
    "If the function has only one line the curly braces can be left off (though not recommended). If `return()` is not used, the value returnd is the last expression in the function. "
   ]
  },
  {
   "cell_type": "code",
   "execution_count": 90,
   "id": "90bd7ecf-4839-4984-9713-25cf6214d566",
   "metadata": {},
   "outputs": [
    {
     "data": {
      "text/html": [
       "<ol>\n",
       "\t<li><pre class=language-r><code>function (x) \n",
       "x * x</code></pre></li>\n",
       "</ol>\n"
      ],
      "text/latex": [
       "\\begin{enumerate}\n",
       "\\item \\begin{minted}{r}\n",
       "function (x) \n",
       "x * x\n",
       "\\end{minted}\n",
       "\\end{enumerate}\n"
      ],
      "text/markdown": [
       "1. ```r\n",
       "function (x) \n",
       "x * x\n",
       "```\n",
       "\n",
       "\n"
      ],
      "text/plain": [
       "[[1]]\n",
       "function(x) x*x\n"
      ]
     },
     "metadata": {},
     "output_type": "display_data"
    }
   ],
   "source": [
    "f <- function(x) x*x # no curly braces, x*x is the value returned\n",
    "list(f) # a function can be put into a list"
   ]
  },
  {
   "cell_type": "code",
   "execution_count": 91,
   "id": "a25f0308-f0de-4861-81b6-c6a25192f327",
   "metadata": {},
   "outputs": [
    {
     "data": {
      "text/html": [
       "'closure'"
      ],
      "text/latex": [
       "'closure'"
      ],
      "text/markdown": [
       "'closure'"
      ],
      "text/plain": [
       "[1] \"closure\""
      ]
     },
     "metadata": {},
     "output_type": "display_data"
    }
   ],
   "source": [
    "typeof(f) # the type is closure"
   ]
  },
  {
   "cell_type": "code",
   "execution_count": 92,
   "id": "398c2bc1-0c27-439a-9dbb-631f4970f9e6",
   "metadata": {},
   "outputs": [
    {
     "data": {
      "text/html": [
       "'function'"
      ],
      "text/latex": [
       "'function'"
      ],
      "text/markdown": [
       "'function'"
      ],
      "text/plain": [
       "[1] \"function\""
      ]
     },
     "metadata": {},
     "output_type": "display_data"
    }
   ],
   "source": [
    "mode(f) # the mode(f) is 'function'"
   ]
  },
  {
   "cell_type": "markdown",
   "id": "23714e8b-7695-41e7-a011-72b7714911b5",
   "metadata": {},
   "source": [
    "## Return values\n",
    "\n",
    "**Explicit:** uses `return()` to explicitly return a value\n"
   ]
  },
  {
   "cell_type": "code",
   "execution_count": 93,
   "id": "8963bc5c-4031-4389-88eb-cd7799d3ed2f",
   "metadata": {},
   "outputs": [],
   "source": [
    "f <- function(x){\n",
    "    return(x*x)\n",
    "}"
   ]
  },
  {
   "cell_type": "markdown",
   "id": "3dac8268-8852-4907-a015-b11031dcc2f4",
   "metadata": {},
   "source": [
    "**Implicit:** the value in the very last expression is returned. This is the recommended style."
   ]
  },
  {
   "cell_type": "code",
   "execution_count": 94,
   "id": "b7149a5b-71a9-4a10-9cd5-5c21e4fd0937",
   "metadata": {},
   "outputs": [],
   "source": [
    "f <- function(x){\n",
    "    x*x\n",
    "}"
   ]
  },
  {
   "cell_type": "markdown",
   "id": "4e88ccae-dfca-41c2-a175-57d8f0bff94e",
   "metadata": {},
   "source": [
    "**Functions can only return one object:**\n",
    "\n",
    "If we want a function to return more than one value, we must combine them into a single object using either vectors or list."
   ]
  },
  {
   "cell_type": "code",
   "execution_count": 95,
   "id": "d30ad8d4-0a8f-4bff-89d7-792f34f9e2de",
   "metadata": {},
   "outputs": [
    {
     "data": {
      "text/html": [
       "<ol class=list-inline>\n",
       "\t<li>2</li>\n",
       "\t<li>4</li>\n",
       "\t<li>8</li>\n",
       "</ol>\n"
      ],
      "text/latex": [
       "\\begin{enumerate*}\n",
       "\\item 2\n",
       "\\item 4\n",
       "\\item 8\n",
       "\\end{enumerate*}\n"
      ],
      "text/markdown": [
       "1. 2\n",
       "2. 4\n",
       "3. 8\n",
       "\n",
       "\n"
      ],
      "text/plain": [
       "[1] 2 4 8"
      ]
     },
     "metadata": {},
     "output_type": "display_data"
    }
   ],
   "source": [
    "f <- function(x){\n",
    "    c(x, x^2, x^3)\n",
    "}\n",
    "f(2)"
   ]
  },
  {
   "cell_type": "markdown",
   "id": "2b7a28ec-516a-4311-ad99-b375bbff76dc",
   "metadata": {},
   "source": [
    "**Return multiple values with a list:**"
   ]
  },
  {
   "cell_type": "code",
   "execution_count": 96,
   "id": "f6c0df97-172c-4280-b683-5f8b2f3c1c4e",
   "metadata": {},
   "outputs": [
    {
     "data": {
      "text/html": [
       "<dl>\n",
       "\t<dt>$x</dt>\n",
       "\t\t<dd>2</dd>\n",
       "\t<dt>$square</dt>\n",
       "\t\t<dd>4</dd>\n",
       "\t<dt>$cube</dt>\n",
       "\t\t<dd>8</dd>\n",
       "</dl>\n"
      ],
      "text/latex": [
       "\\begin{description}\n",
       "\\item[\\$x] 2\n",
       "\\item[\\$square] 4\n",
       "\\item[\\$cube] 8\n",
       "\\end{description}\n"
      ],
      "text/markdown": [
       "$x\n",
       ":   2\n",
       "$square\n",
       ":   4\n",
       "$cube\n",
       ":   8\n",
       "\n",
       "\n"
      ],
      "text/plain": [
       "$x\n",
       "[1] 2\n",
       "\n",
       "$square\n",
       "[1] 4\n",
       "\n",
       "$cube\n",
       "[1] 8\n"
      ]
     },
     "metadata": {},
     "output_type": "display_data"
    }
   ],
   "source": [
    "f <- function(x){\n",
    "    list(x = x, square = x^2, cube = x^3)\n",
    "}\n",
    "f(2)"
   ]
  },
  {
   "cell_type": "markdown",
   "id": "9ff1f854-85a5-402b-8519-a45b88c76655",
   "metadata": {},
   "source": [
    "## Argument names\n",
    "\n",
    "When defining a function we are also defining names for the arguments. When we call the function to use it we use these names to enter arguments.\n",
    "\n",
    "**If you do not specify the argument names, R assumes you are putting them in order.**"
   ]
  },
  {
   "cell_type": "code",
   "execution_count": 97,
   "id": "229bced6-704f-4de9-9d63-35c2c0f61190",
   "metadata": {},
   "outputs": [
    {
     "data": {
      "text/html": [
       "'x = 1, y = 2, z = 3'"
      ],
      "text/latex": [
       "'x = 1, y = 2, z = 3'"
      ],
      "text/markdown": [
       "'x = 1, y = 2, z = 3'"
      ],
      "text/plain": [
       "[1] \"x = 1, y = 2, z = 3\""
      ]
     },
     "metadata": {},
     "output_type": "display_data"
    }
   ],
   "source": [
    "f <- function(x, y, z){\n",
    "    paste0(\"x = \", x, \", y = \", y, \", z = \", z)\n",
    "}\n",
    "f(1, 2, 3)"
   ]
  },
  {
   "cell_type": "markdown",
   "id": "e9061470-9415-4a15-9f86-ec02b5189795",
   "metadata": {},
   "source": [
    "**When you call the function, you can specify the argument names and supply them in any order.**"
   ]
  },
  {
   "cell_type": "code",
   "execution_count": 98,
   "id": "e91030a4-12bc-4957-bf65-3da6dd66a04e",
   "metadata": {},
   "outputs": [
    {
     "data": {
      "text/html": [
       "'x = 2, y = 3, z = 1'"
      ],
      "text/latex": [
       "'x = 2, y = 3, z = 1'"
      ],
      "text/markdown": [
       "'x = 2, y = 3, z = 1'"
      ],
      "text/plain": [
       "[1] \"x = 2, y = 3, z = 1\""
      ]
     },
     "metadata": {},
     "output_type": "display_data"
    }
   ],
   "source": [
    "f(z = 1, x = 2, y = 3)"
   ]
  },
  {
   "cell_type": "markdown",
   "id": "a0baa951-614b-46d2-ae7a-4e6cf92135e0",
   "metadata": {},
   "source": [
    "**If you only specify the names of one or two arguments, R does its best to match them. If you give the name of argument that is not part of the function definition, R gives an error \"unused argument\".**"
   ]
  },
  {
   "cell_type": "code",
   "execution_count": 99,
   "id": "e703dcc1-dfa3-4a0e-b71f-2b6f9e38a37d",
   "metadata": {},
   "outputs": [
    {
     "data": {
      "text/html": [
       "'x = 1, y = 2, z = 3'"
      ],
      "text/latex": [
       "'x = 1, y = 2, z = 3'"
      ],
      "text/markdown": [
       "'x = 1, y = 2, z = 3'"
      ],
      "text/plain": [
       "[1] \"x = 1, y = 2, z = 3\""
      ]
     },
     "metadata": {},
     "output_type": "display_data"
    }
   ],
   "source": [
    "f(y = 2, 1, 3)"
   ]
  },
  {
   "cell_type": "code",
   "execution_count": 100,
   "id": "8a4e5810-0c0a-40d7-9a4e-e048b9066b8f",
   "metadata": {},
   "outputs": [
    {
     "data": {
      "text/html": [
       "'x = 3, y = 2, z = 1'"
      ],
      "text/latex": [
       "'x = 3, y = 2, z = 1'"
      ],
      "text/markdown": [
       "'x = 3, y = 2, z = 1'"
      ],
      "text/plain": [
       "[1] \"x = 3, y = 2, z = 1\""
      ]
     },
     "metadata": {},
     "output_type": "display_data"
    }
   ],
   "source": [
    "f(y = 2, 1, x=3)"
   ]
  },
  {
   "cell_type": "code",
   "execution_count": 101,
   "id": "04db65c2-321e-422a-ab70-16132afceeaf",
   "metadata": {},
   "outputs": [
    {
     "ename": "ERROR",
     "evalue": "Error in f(1, 2, 3, m = 1): unused argument (m = 1)\n",
     "output_type": "error",
     "traceback": [
      "Error in f(1, 2, 3, m = 1): unused argument (m = 1)\nTraceback:\n"
     ]
    }
   ],
   "source": [
    "f(1, 2, 3, m = 1)"
   ]
  },
  {
   "cell_type": "markdown",
   "id": "ec254f5d-2b02-44ad-bf9f-27e4ad625357",
   "metadata": {},
   "source": [
    "## Arguments values are required\n",
    "\n",
    "**R requires a value for any argument that is used inside the function.**\n",
    "\n",
    "In the following code, I define a function with 4 arguments. Argument `w` how ever is not used anywhere in the code, while the other three arguments are. When R calls the function, it can operate without a value for `w`."
   ]
  },
  {
   "cell_type": "code",
   "execution_count": null,
   "id": "664863e6-8630-475f-a93e-180dfa5772d0",
   "metadata": {},
   "outputs": [],
   "source": [
    "f <- function(x, y, z, w){\n",
    "    paste0(\"x = \", x, \", y = \", y, \", z = \", z)\n",
    "}\n",
    "f(1, 2, 3, 4) # w is provided the value 4, but is not used anywhere"
   ]
  },
  {
   "cell_type": "code",
   "execution_count": null,
   "id": "2c1361a2-07fc-48aa-a02c-11f7e470fa27",
   "metadata": {},
   "outputs": [],
   "source": [
    "f(1, 2, 3) # w is note provided; it still runs."
   ]
  },
  {
   "cell_type": "code",
   "execution_count": null,
   "id": "93fe941a-3c0c-45ef-acef-2b177a370d94",
   "metadata": {},
   "outputs": [],
   "source": [
    "f <- function(x, y, z, w){\n",
    "    paste0(\"x = \", x, \", y = \", y, \", z = \", z)\n",
    "}\n",
    "f(x = 1, y = 2, w = 4) # z is not provided. z is in the code. result: error"
   ]
  },
  {
   "cell_type": "markdown",
   "id": "ba5c35e4-4b6b-43aa-9544-7a9057818aa4",
   "metadata": {},
   "source": [
    "## Provide default values with the == sign\n",
    "\n",
    "**To avoid the error of not having a value, you can provide default values for function arguments.**"
   ]
  },
  {
   "cell_type": "code",
   "execution_count": null,
   "id": "aa4047be-9083-4ce3-8301-3ea11a778689",
   "metadata": {},
   "outputs": [],
   "source": [
    "f <- function(x = 1, y = 1, z = 1){\n",
    "    paste0(\"x = \", x, \", y = \", y, \", z = \", z)\n",
    "}\n",
    "f() # no values provided: uses all defaults"
   ]
  },
  {
   "cell_type": "code",
   "execution_count": null,
   "id": "c455b797-5d03-442b-aea1-e86a98649002",
   "metadata": {},
   "outputs": [],
   "source": [
    "f(2) # 2 gets plugged in for the first argument"
   ]
  },
  {
   "cell_type": "code",
   "execution_count": null,
   "id": "a4c5e343-d3d0-4669-9d63-717bcb07f202",
   "metadata": {},
   "outputs": [],
   "source": [
    "f(z = 3) # 3 gets plugged in for the argument z"
   ]
  },
  {
   "cell_type": "markdown",
   "id": "ea86a633-4a8e-431a-b7b7-d9ee4e514e08",
   "metadata": {},
   "source": [
    "- values created inside a function only exist inside the function.\n",
    "\n",
    "- in general, you should not try to change values in the global environment from inside a function\n",
    "\n",
    "- if you want to get a value 'out' of a function, it needs to be (part of) of the returned object."
   ]
  },
  {
   "cell_type": "code",
   "execution_count": 103,
   "id": "9fde5b9f-3dff-46d8-906f-529404760336",
   "metadata": {},
   "outputs": [
    {
     "data": {
      "text/html": [
       "65"
      ],
      "text/latex": [
       "65"
      ],
      "text/markdown": [
       "65"
      ],
      "text/plain": [
       "[1] 65"
      ]
     },
     "metadata": {},
     "output_type": "display_data"
    }
   ],
   "source": [
    "x <- 10 # x is 10 in the global environment\n",
    "f <- function(x){\n",
    "    x <- x + 55 # we add 55 to x inside the function\n",
    "    x\n",
    "}\n",
    "f(x) # we execute f(x). it returns 65"
   ]
  },
  {
   "cell_type": "code",
   "execution_count": 105,
   "id": "17b3c6dc-b2f1-4a3f-9925-ca0ab8e0c6ed",
   "metadata": {},
   "outputs": [
    {
     "data": {
      "text/html": [
       "10"
      ],
      "text/latex": [
       "10"
      ],
      "text/markdown": [
       "10"
      ],
      "text/plain": [
       "[1] 10"
      ]
     },
     "metadata": {},
     "output_type": "display_data"
    }
   ],
   "source": [
    "x # the value of x in the global environment is unchanged"
   ]
  },
  {
   "cell_type": "markdown",
   "id": "188fd6d9-a9c2-491c-8d19-727998f943b9",
   "metadata": {},
   "source": [
    "**To save the value of a function, you must assign it.**"
   ]
  },
  {
   "cell_type": "code",
   "execution_count": 106,
   "id": "b9e31ce6-dc5a-475d-9200-4abef3620830",
   "metadata": {},
   "outputs": [
    {
     "data": {
      "text/html": [
       "65"
      ],
      "text/latex": [
       "65"
      ],
      "text/markdown": [
       "65"
      ],
      "text/plain": [
       "[1] 65"
      ]
     },
     "metadata": {},
     "output_type": "display_data"
    }
   ],
   "source": [
    "x <- f(x) # we assign the result of the function to x\n",
    "x # x in the global environment is now 65"
   ]
  },
  {
   "cell_type": "markdown",
   "id": "88e24a41-a255-4348-910f-9826f74aef41",
   "metadata": {},
   "source": [
    "<https://youtu.be/y6219nR4buo?list=PLKR7271tMEmgsp83ZJPMr96xd-8fPq3p1&t=983>"
   ]
  },
  {
   "cell_type": "code",
   "execution_count": 107,
   "id": "452d0ed3-2de7-441f-96c4-8c7c4aab6bba",
   "metadata": {},
   "outputs": [],
   "source": []
  },
  {
   "cell_type": "code",
   "execution_count": null,
   "id": "9af6a77e-1fe2-48e6-8d4f-eae0a4a71cab",
   "metadata": {},
   "outputs": [],
   "source": []
  }
 ],
 "metadata": {
  "kernelspec": {
   "display_name": "R",
   "language": "R",
   "name": "ir"
  },
  "language_info": {
   "codemirror_mode": "r",
   "file_extension": ".r",
   "mimetype": "text/x-r-source",
   "name": "R",
   "pygments_lexer": "r",
   "version": "3.6.1"
  }
 },
 "nbformat": 4,
 "nbformat_minor": 5
}
