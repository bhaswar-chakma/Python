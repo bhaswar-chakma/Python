{
 "cells": [
  {
   "cell_type": "markdown",
   "id": "24c4d6a6-b837-42af-9c0e-fa72ff59f7c6",
   "metadata": {},
   "source": [
    "# Programming Basics: Conditions & Loops"
   ]
  },
  {
   "cell_type": "markdown",
   "id": "fb129cd4-1f37-4c56-8684-49e8418c480b",
   "metadata": {},
   "source": [
    "## Section 1: Operators that produce logical values\n",
    "<https://www.youtube.com/watch?v=txnbvLp5v1A&list=PLKR7271tMEmgsp83ZJPMr96xd-8fPq3p1&index=5>\n",
    "### Vectorized Logical Operators\n",
    "\n",
    "R has the following logical operators. Use of a logical operator will coerce non-logical types to logical type e.g. 0 becomes `FALSE`, **all other numeric** values become `TRUE`.\n",
    "\n",
    "  - or: `x | y`\n",
    "\n",
    "  - and: `x & y`\n",
    "\n",
    "  - not: `!x`\n",
    "\n",
    "  - exclusive or: `xor(x, y)`\n",
    "  \n",
    "The above logical operators are vectorized and will perform element-wise comparison as well as recycling. The vectorized operations will return a vector of logical values."
   ]
  },
  {
   "cell_type": "markdown",
   "id": "ae78284b-d1f4-45cc-8218-b1d86da6322e",
   "metadata": {},
   "source": [
    "### Non-Vectorized Logical Operators\n",
    "\n",
    "Non-vectorized operators will return only one logical value. If a vector with length > one is provided on either side of the operator, only the first element of the vector will be used.\n",
    "\n",
    "  - non-vector or:  `x || y`\n",
    "  \n",
    "  - non-vector and: `x && y`\n",
    "  \n",
    "The \"non-vector\" `||` and `&&` evaluates left to right examining only the first element of each vector. This longer form is appropriate for programming control-flow and typically preferred in if clauses.\n",
    "\n",
    "See `?base::Logic`"
   ]
  },
  {
   "cell_type": "code",
   "execution_count": 35,
   "id": "e8091c05-4fea-430d-967a-8c4e86c6e094",
   "metadata": {},
   "outputs": [],
   "source": [
    "# Vectorized vs Non-Vectorized\n",
    "x <- c(TRUE,  TRUE, FALSE, FALSE)\n",
    "y <- c(FALSE, TRUE, FALSE, TRUE)"
   ]
  },
  {
   "cell_type": "code",
   "execution_count": 36,
   "id": "71589f57-1502-45b5-91b1-e0bcdfdeec65",
   "metadata": {},
   "outputs": [
    {
     "data": {
      "text/html": [
       "<ol class=list-inline>\n",
       "\t<li>TRUE</li>\n",
       "\t<li>TRUE</li>\n",
       "\t<li>FALSE</li>\n",
       "\t<li>TRUE</li>\n",
       "</ol>\n"
      ],
      "text/latex": [
       "\\begin{enumerate*}\n",
       "\\item TRUE\n",
       "\\item TRUE\n",
       "\\item FALSE\n",
       "\\item TRUE\n",
       "\\end{enumerate*}\n"
      ],
      "text/markdown": [
       "1. TRUE\n",
       "2. TRUE\n",
       "3. FALSE\n",
       "4. TRUE\n",
       "\n",
       "\n"
      ],
      "text/plain": [
       "[1]  TRUE  TRUE FALSE  TRUE"
      ]
     },
     "metadata": {},
     "output_type": "display_data"
    }
   ],
   "source": [
    "x | y"
   ]
  },
  {
   "cell_type": "code",
   "execution_count": 37,
   "id": "8dd5d5f0-df99-4633-87a4-e8ac190450fc",
   "metadata": {},
   "outputs": [
    {
     "data": {
      "text/html": [
       "<ol class=list-inline>\n",
       "\t<li>FALSE</li>\n",
       "\t<li>TRUE</li>\n",
       "\t<li>FALSE</li>\n",
       "\t<li>FALSE</li>\n",
       "</ol>\n"
      ],
      "text/latex": [
       "\\begin{enumerate*}\n",
       "\\item FALSE\n",
       "\\item TRUE\n",
       "\\item FALSE\n",
       "\\item FALSE\n",
       "\\end{enumerate*}\n"
      ],
      "text/markdown": [
       "1. FALSE\n",
       "2. TRUE\n",
       "3. FALSE\n",
       "4. FALSE\n",
       "\n",
       "\n"
      ],
      "text/plain": [
       "[1] FALSE  TRUE FALSE FALSE"
      ]
     },
     "metadata": {},
     "output_type": "display_data"
    }
   ],
   "source": [
    "x & y"
   ]
  },
  {
   "cell_type": "code",
   "execution_count": 38,
   "id": "4956fef6-f9b1-4507-912b-c7531a83d9e7",
   "metadata": {},
   "outputs": [
    {
     "data": {
      "text/html": [
       "TRUE"
      ],
      "text/latex": [
       "TRUE"
      ],
      "text/markdown": [
       "TRUE"
      ],
      "text/plain": [
       "[1] TRUE"
      ]
     },
     "metadata": {},
     "output_type": "display_data"
    }
   ],
   "source": [
    "x || y # only looks at first element"
   ]
  },
  {
   "cell_type": "code",
   "execution_count": 39,
   "id": "abfc680c-9239-4245-a1b5-99f7816d134f",
   "metadata": {},
   "outputs": [
    {
     "data": {
      "text/html": [
       "FALSE"
      ],
      "text/latex": [
       "FALSE"
      ],
      "text/markdown": [
       "FALSE"
      ],
      "text/plain": [
       "[1] FALSE"
      ]
     },
     "metadata": {},
     "output_type": "display_data"
    }
   ],
   "source": [
    "x && y # only looks at first element"
   ]
  },
  {
   "cell_type": "markdown",
   "id": "06852f47-42e6-4a36-be79-470331f6b8b4",
   "metadata": {},
   "source": [
    "### Logical operators with NA\n",
    "\n",
    "What is:\n",
    "\n",
    "  - `TRUE | NA` ?\n",
    "  \n",
    "  - `TRUE & NA` ?\n",
    "  \n",
    "  - `FALSE || NA` ?\n",
    "  \n",
    "  - `FALSE && NA` ?"
   ]
  },
  {
   "cell_type": "code",
   "execution_count": 40,
   "id": "cdefe683-f6ea-4a15-8f60-d3eed158d3e9",
   "metadata": {},
   "outputs": [
    {
     "data": {
      "text/html": [
       "TRUE"
      ],
      "text/latex": [
       "TRUE"
      ],
      "text/markdown": [
       "TRUE"
      ],
      "text/plain": [
       "[1] TRUE"
      ]
     },
     "metadata": {},
     "output_type": "display_data"
    }
   ],
   "source": [
    "TRUE | NA # doesn't matter what's inside NA"
   ]
  },
  {
   "cell_type": "code",
   "execution_count": 41,
   "id": "6f9d3afa-3de4-4ef4-bc6a-5027d357d1d9",
   "metadata": {},
   "outputs": [
    {
     "data": {
      "text/html": [
       "&lt;NA&gt;"
      ],
      "text/latex": [
       "<NA>"
      ],
      "text/markdown": [
       "&lt;NA&gt;"
      ],
      "text/plain": [
       "[1] NA"
      ]
     },
     "metadata": {},
     "output_type": "display_data"
    }
   ],
   "source": [
    "TRUE & NA # depends on NA; if NA is TRUE then TRUE ; if NA is FALSE then FALSE"
   ]
  },
  {
   "cell_type": "code",
   "execution_count": 42,
   "id": "14721681-1aaf-4175-a3ba-fe87fdd57aa3",
   "metadata": {},
   "outputs": [
    {
     "data": {
      "text/html": [
       "&lt;NA&gt;"
      ],
      "text/latex": [
       "<NA>"
      ],
      "text/markdown": [
       "&lt;NA&gt;"
      ],
      "text/plain": [
       "[1] NA"
      ]
     },
     "metadata": {},
     "output_type": "display_data"
    }
   ],
   "source": [
    "FALSE || NA # depends on NA"
   ]
  },
  {
   "cell_type": "code",
   "execution_count": 43,
   "id": "4e5f9b27-5937-49d1-9c63-40c389aab234",
   "metadata": {},
   "outputs": [
    {
     "data": {
      "text/html": [
       "FALSE"
      ],
      "text/latex": [
       "FALSE"
      ],
      "text/markdown": [
       "FALSE"
      ],
      "text/plain": [
       "[1] FALSE"
      ]
     },
     "metadata": {},
     "output_type": "display_data"
    }
   ],
   "source": [
    "FALSE && NA # doesn't matter what's inside NA"
   ]
  },
  {
   "cell_type": "markdown",
   "id": "2409f134-40d5-4bc0-8f41-557349404c9c",
   "metadata": {},
   "source": [
    "### Exclusive Or\n",
    "\n",
    "`xor()` indicates elementwise *exclusive OR*\n",
    "\n",
    "  -  True if x or y is true, but not if both are true\n",
    "\n",
    "That is, `xor(TRUE, TRUE)` is `FALSE`."
   ]
  },
  {
   "cell_type": "code",
   "execution_count": 44,
   "id": "d461fd29-94da-494f-95b9-46d8dec186c4",
   "metadata": {},
   "outputs": [
    {
     "data": {
      "text/html": [
       "<ol class=list-inline>\n",
       "\t<li>TRUE</li>\n",
       "\t<li>FALSE</li>\n",
       "\t<li>FALSE</li>\n",
       "\t<li>TRUE</li>\n",
       "\t<li>&lt;NA&gt;</li>\n",
       "\t<li>&lt;NA&gt;</li>\n",
       "\t<li>&lt;NA&gt;</li>\n",
       "</ol>\n"
      ],
      "text/latex": [
       "\\begin{enumerate*}\n",
       "\\item TRUE\n",
       "\\item FALSE\n",
       "\\item FALSE\n",
       "\\item TRUE\n",
       "\\item <NA>\n",
       "\\item <NA>\n",
       "\\item <NA>\n",
       "\\end{enumerate*}\n"
      ],
      "text/markdown": [
       "1. TRUE\n",
       "2. FALSE\n",
       "3. FALSE\n",
       "4. TRUE\n",
       "5. &lt;NA&gt;\n",
       "6. &lt;NA&gt;\n",
       "7. &lt;NA&gt;\n",
       "\n",
       "\n"
      ],
      "text/plain": [
       "[1]  TRUE FALSE FALSE  TRUE    NA    NA    NA"
      ]
     },
     "metadata": {},
     "output_type": "display_data"
    }
   ],
   "source": [
    "x <- c(TRUE,  TRUE, FALSE, FALSE,  NA,    NA, NA)\n",
    "y <- c(FALSE, TRUE, FALSE, TRUE, TRUE, FALSE, NA)\n",
    "xor(x,y)"
   ]
  },
  {
   "cell_type": "markdown",
   "id": "69728275-ece3-404b-82f9-86b82d4f5e7b",
   "metadata": {},
   "source": [
    "### `any()` and `all()`\n",
    "\n",
    "`any()` and `all()` are generalization of OR and AND for more than 2 values."
   ]
  },
  {
   "cell_type": "code",
   "execution_count": 45,
   "id": "2f64442c-4a71-4983-9bd6-dcac2b0b5a6d",
   "metadata": {},
   "outputs": [],
   "source": [
    "# example 1\n",
    "u <- c(TRUE, TRUE, TRUE)"
   ]
  },
  {
   "cell_type": "code",
   "execution_count": 46,
   "id": "9f213fd9-bcb1-4c3c-9cd5-3520ec142f05",
   "metadata": {},
   "outputs": [
    {
     "data": {
      "text/html": [
       "TRUE"
      ],
      "text/latex": [
       "TRUE"
      ],
      "text/markdown": [
       "TRUE"
      ],
      "text/plain": [
       "[1] TRUE"
      ]
     },
     "metadata": {},
     "output_type": "display_data"
    }
   ],
   "source": [
    "any(u)"
   ]
  },
  {
   "cell_type": "code",
   "execution_count": 47,
   "id": "1067c169-822b-435b-8c79-fd71b90219d6",
   "metadata": {},
   "outputs": [
    {
     "data": {
      "text/html": [
       "TRUE"
      ],
      "text/latex": [
       "TRUE"
      ],
      "text/markdown": [
       "TRUE"
      ],
      "text/plain": [
       "[1] TRUE"
      ]
     },
     "metadata": {},
     "output_type": "display_data"
    }
   ],
   "source": [
    "all(u)"
   ]
  },
  {
   "cell_type": "code",
   "execution_count": 48,
   "id": "36dec23c-2308-448f-856c-f26043a08b4f",
   "metadata": {},
   "outputs": [
    {
     "data": {
      "text/html": [
       "<ol class=list-inline>\n",
       "\t<li>TRUE</li>\n",
       "\t<li>TRUE</li>\n",
       "</ol>\n"
      ],
      "text/latex": [
       "\\begin{enumerate*}\n",
       "\\item TRUE\n",
       "\\item TRUE\n",
       "\\end{enumerate*}\n"
      ],
      "text/markdown": [
       "1. TRUE\n",
       "2. TRUE\n",
       "\n",
       "\n"
      ],
      "text/plain": [
       "[1] TRUE TRUE"
      ]
     },
     "metadata": {},
     "output_type": "display_data"
    }
   ],
   "source": [
    "c(any(u), all(u))"
   ]
  },
  {
   "cell_type": "code",
   "execution_count": 49,
   "id": "cd30f968-e1d1-458d-a99f-bd438c455429",
   "metadata": {},
   "outputs": [
    {
     "data": {
      "text/html": [
       "<ol class=list-inline>\n",
       "\t<li>TRUE</li>\n",
       "\t<li>FALSE</li>\n",
       "</ol>\n"
      ],
      "text/latex": [
       "\\begin{enumerate*}\n",
       "\\item TRUE\n",
       "\\item FALSE\n",
       "\\end{enumerate*}\n"
      ],
      "text/markdown": [
       "1. TRUE\n",
       "2. FALSE\n",
       "\n",
       "\n"
      ],
      "text/plain": [
       "[1]  TRUE FALSE"
      ]
     },
     "metadata": {},
     "output_type": "display_data"
    }
   ],
   "source": [
    "# example 2\n",
    "u <- c(TRUE, TRUE, FALSE)\n",
    "c(any(u), all(u))"
   ]
  },
  {
   "cell_type": "code",
   "execution_count": 50,
   "id": "5e37b77a-506a-4929-808a-331ca677f3e4",
   "metadata": {},
   "outputs": [
    {
     "data": {
      "text/html": [
       "<ol class=list-inline>\n",
       "\t<li>FALSE</li>\n",
       "\t<li>FALSE</li>\n",
       "</ol>\n"
      ],
      "text/latex": [
       "\\begin{enumerate*}\n",
       "\\item FALSE\n",
       "\\item FALSE\n",
       "\\end{enumerate*}\n"
      ],
      "text/markdown": [
       "1. FALSE\n",
       "2. FALSE\n",
       "\n",
       "\n"
      ],
      "text/plain": [
       "[1] FALSE FALSE"
      ]
     },
     "metadata": {},
     "output_type": "display_data"
    }
   ],
   "source": [
    "# example 2\n",
    "u <- c(FALSE, FALSE, FALSE)\n",
    "c(any(u), all(u))"
   ]
  },
  {
   "cell_type": "code",
   "execution_count": 51,
   "id": "0f06f6f0-f1ca-440a-8b22-a0c2bac7a54d",
   "metadata": {},
   "outputs": [
    {
     "data": {
      "text/html": [
       "FALSE"
      ],
      "text/latex": [
       "FALSE"
      ],
      "text/markdown": [
       "FALSE"
      ],
      "text/plain": [
       "[1] FALSE"
      ]
     },
     "metadata": {},
     "output_type": "display_data"
    }
   ],
   "source": [
    "all(u)"
   ]
  },
  {
   "cell_type": "markdown",
   "id": "00cdfd17-825a-4903-af6c-a3ef3827328d",
   "metadata": {},
   "source": [
    "#### Question\n",
    "\n",
    "***If we add 0-length vector (like `logical(0)` or `NULL`) to a vector of logical values `v`, it should not affect the result of `any()` or `all()` applied to `v`.***\n",
    "\n",
    "  - `any(logical(0), v)` should produce the same result as `any(v)`\n",
    "  \n",
    "  - `all(logical(0), v)` should produce the same result as `all(v)`\n",
    "  \n",
    "With these rules in mind:\n",
    "\n",
    "1. What does `any(logical(0))` return?\n",
    "\n",
    "2. What does `all(logical(0))` return?"
   ]
  },
  {
   "cell_type": "code",
   "execution_count": 52,
   "id": "39787726-96ac-4672-8caa-d1c8b2b055d6",
   "metadata": {},
   "outputs": [
    {
     "data": {
      "text/html": [
       "FALSE"
      ],
      "text/latex": [
       "FALSE"
      ],
      "text/markdown": [
       "FALSE"
      ],
      "text/plain": [
       "[1] FALSE"
      ]
     },
     "metadata": {},
     "output_type": "display_data"
    }
   ],
   "source": [
    "# vector 1: x\n",
    "x <- logical(0)\n",
    "# vector 2: u\n",
    "u <- c(TRUE, TRUE, TRUE)\n",
    "# vector 3: v\n",
    "v <- c(TRUE, TRUE, FALSE)\n",
    "# vector 4: w\n",
    "w <- c(FALSE, FALSE, FALSE)\n",
    "########\n",
    "# any()\n",
    "#######\n",
    "any(x)#???"
   ]
  },
  {
   "cell_type": "code",
   "execution_count": 53,
   "id": "3b0b6d97-b657-4dc8-b868-7a46c50e6a10",
   "metadata": {},
   "outputs": [
    {
     "data": {
      "text/html": [
       "<ol class=list-inline>\n",
       "\t<li>TRUE</li>\n",
       "\t<li>TRUE</li>\n",
       "</ol>\n"
      ],
      "text/latex": [
       "\\begin{enumerate*}\n",
       "\\item TRUE\n",
       "\\item TRUE\n",
       "\\end{enumerate*}\n"
      ],
      "text/markdown": [
       "1. TRUE\n",
       "2. TRUE\n",
       "\n",
       "\n"
      ],
      "text/plain": [
       "[1] TRUE TRUE"
      ]
     },
     "metadata": {},
     "output_type": "display_data"
    }
   ],
   "source": [
    "c(any(u), any(x, u))"
   ]
  },
  {
   "cell_type": "code",
   "execution_count": 54,
   "id": "76d85230-4407-4ab5-a96f-973824f41a14",
   "metadata": {},
   "outputs": [
    {
     "data": {
      "text/html": [
       "<ol class=list-inline>\n",
       "\t<li>TRUE</li>\n",
       "\t<li>TRUE</li>\n",
       "</ol>\n"
      ],
      "text/latex": [
       "\\begin{enumerate*}\n",
       "\\item TRUE\n",
       "\\item TRUE\n",
       "\\end{enumerate*}\n"
      ],
      "text/markdown": [
       "1. TRUE\n",
       "2. TRUE\n",
       "\n",
       "\n"
      ],
      "text/plain": [
       "[1] TRUE TRUE"
      ]
     },
     "metadata": {},
     "output_type": "display_data"
    }
   ],
   "source": [
    "c(any(v), any(x, v))"
   ]
  },
  {
   "cell_type": "code",
   "execution_count": 55,
   "id": "7f46cf24-da8b-4026-b486-aafbc527edc4",
   "metadata": {},
   "outputs": [
    {
     "data": {
      "text/html": [
       "<ol class=list-inline>\n",
       "\t<li>FALSE</li>\n",
       "\t<li>FALSE</li>\n",
       "</ol>\n"
      ],
      "text/latex": [
       "\\begin{enumerate*}\n",
       "\\item FALSE\n",
       "\\item FALSE\n",
       "\\end{enumerate*}\n"
      ],
      "text/markdown": [
       "1. FALSE\n",
       "2. FALSE\n",
       "\n",
       "\n"
      ],
      "text/plain": [
       "[1] FALSE FALSE"
      ]
     },
     "metadata": {},
     "output_type": "display_data"
    }
   ],
   "source": [
    "c(any(w), any(x, w)) # if any(logical(0)) were TRUE, this would change"
   ]
  },
  {
   "cell_type": "code",
   "execution_count": 56,
   "id": "d6e23658-a0b0-4522-9154-ed1abec458d2",
   "metadata": {},
   "outputs": [
    {
     "data": {
      "text/html": [
       "TRUE"
      ],
      "text/latex": [
       "TRUE"
      ],
      "text/markdown": [
       "TRUE"
      ],
      "text/plain": [
       "[1] TRUE"
      ]
     },
     "metadata": {},
     "output_type": "display_data"
    }
   ],
   "source": [
    "# vector 1: x\n",
    "x <- logical(0)\n",
    "# vector 2: u\n",
    "u <- c(TRUE, TRUE, TRUE)\n",
    "# vector 3: v\n",
    "v <- c(TRUE, TRUE, FALSE)\n",
    "# vector 4: w\n",
    "w <- c(FALSE, FALSE, FALSE)\n",
    "\n",
    "########\n",
    "# all()\n",
    "#######\n",
    "all(x)#???"
   ]
  },
  {
   "cell_type": "code",
   "execution_count": 57,
   "id": "ce2fa8a4-c9fe-42e3-9f3e-aa86b603bb4a",
   "metadata": {},
   "outputs": [
    {
     "data": {
      "text/html": [
       "<ol class=list-inline>\n",
       "\t<li>TRUE</li>\n",
       "\t<li>TRUE</li>\n",
       "</ol>\n"
      ],
      "text/latex": [
       "\\begin{enumerate*}\n",
       "\\item TRUE\n",
       "\\item TRUE\n",
       "\\end{enumerate*}\n"
      ],
      "text/markdown": [
       "1. TRUE\n",
       "2. TRUE\n",
       "\n",
       "\n"
      ],
      "text/plain": [
       "[1] TRUE TRUE"
      ]
     },
     "metadata": {},
     "output_type": "display_data"
    }
   ],
   "source": [
    "c(all(u), all(x, u))"
   ]
  },
  {
   "cell_type": "code",
   "execution_count": 58,
   "id": "49381e82-0d56-4e07-9305-9c87faae3b4b",
   "metadata": {},
   "outputs": [
    {
     "data": {
      "text/html": [
       "<ol class=list-inline>\n",
       "\t<li>FALSE</li>\n",
       "\t<li>FALSE</li>\n",
       "</ol>\n"
      ],
      "text/latex": [
       "\\begin{enumerate*}\n",
       "\\item FALSE\n",
       "\\item FALSE\n",
       "\\end{enumerate*}\n"
      ],
      "text/markdown": [
       "1. FALSE\n",
       "2. FALSE\n",
       "\n",
       "\n"
      ],
      "text/plain": [
       "[1] FALSE FALSE"
      ]
     },
     "metadata": {},
     "output_type": "display_data"
    }
   ],
   "source": [
    "c(all(v), all(x, v))"
   ]
  },
  {
   "cell_type": "code",
   "execution_count": 59,
   "id": "2c76cfec-13af-4e09-b09c-1e85888efe6f",
   "metadata": {},
   "outputs": [
    {
     "data": {
      "text/html": [
       "<ol class=list-inline>\n",
       "\t<li>FALSE</li>\n",
       "\t<li>FALSE</li>\n",
       "</ol>\n"
      ],
      "text/latex": [
       "\\begin{enumerate*}\n",
       "\\item FALSE\n",
       "\\item FALSE\n",
       "\\end{enumerate*}\n"
      ],
      "text/markdown": [
       "1. FALSE\n",
       "2. FALSE\n",
       "\n",
       "\n"
      ],
      "text/plain": [
       "[1] FALSE FALSE"
      ]
     },
     "metadata": {},
     "output_type": "display_data"
    }
   ],
   "source": [
    "c(all(w), all(x, w))"
   ]
  },
  {
   "cell_type": "markdown",
   "id": "672a4e3d-a3b0-492c-aafd-44b6db4372e4",
   "metadata": {},
   "source": [
    "Skipping slides 13, 14, and 15! Video ~ 11:33 to 14:39"
   ]
  },
  {
   "cell_type": "markdown",
   "id": "edc5f249-70aa-489f-bddb-1bda51acf682",
   "metadata": {},
   "source": [
    "## Section 2: Conditional Statements\n",
    "\n",
    "<https://youtu.be/txnbvLp5v1A?list=PLKR7271tMEmgsp83ZJPMr96xd-8fPq3p1&t=890>"
   ]
  },
  {
   "cell_type": "markdown",
   "id": "bc5cb545-1993-47e2-b8f6-4dc847582cec",
   "metadata": {},
   "source": [
    "### Conditional Statement - `if`\n",
    "\n",
    "Conditional execution of code blocks is achieved via `if()` statements.\n",
    "\n",
    "`if(cond)`: \n",
    "\n",
    "  - The condition in an `if()` statement must be **a length-one logical vector that is not `NA`.**\n",
    "  \n",
    "  - Conditions of length greater than one are accepted with a warning, but only the first element is used. Other types are coerced to logical if possible.\n",
    "  \n",
    "  - If the condition results in `NA`, you will get an error: *\"missing value where TRUE/FALSE needed\"*\n",
    "  \n",
    "  - If the condition is length 0, you will get an error: *\"argument is length zero.\"*\n",
    "  \n",
    "  - Curly braces {} are used to group the expressions that will run when the condition inside the if statement is `TRUE`. If there is only one expression to execute, the curly braces are optional."
   ]
  },
  {
   "cell_type": "markdown",
   "id": "441c6bd1-58bf-4c5b-a2a9-796fdfe27c05",
   "metadata": {},
   "source": [
    "#### Using `if()`"
   ]
  },
  {
   "cell_type": "code",
   "execution_count": 60,
   "id": "690cda02-29c5-4c09-b905-16b0655503bb",
   "metadata": {},
   "outputs": [
    {
     "data": {
      "text/html": [
       "TRUE"
      ],
      "text/latex": [
       "TRUE"
      ],
      "text/markdown": [
       "TRUE"
      ],
      "text/plain": [
       "[1] TRUE"
      ]
     },
     "metadata": {},
     "output_type": "display_data"
    }
   ],
   "source": [
    "# Example 1\n",
    "x <- c(1, 3)\n",
    "1 %in% x"
   ]
  },
  {
   "cell_type": "code",
   "execution_count": 61,
   "id": "f364f758-0a46-45c0-b728-b9c3bd71c3a0",
   "metadata": {},
   "outputs": [
    {
     "name": "stdout",
     "output_type": "stream",
     "text": [
      "[1] \"Hello!\"\n"
     ]
    }
   ],
   "source": [
    "if (1 %in% x){\n",
    "    print(\"Hello!\")\n",
    "}"
   ]
  },
  {
   "cell_type": "code",
   "execution_count": 62,
   "id": "91767112-3b21-421a-85f8-b7b9b5832bbc",
   "metadata": {},
   "outputs": [
    {
     "data": {
      "text/html": [
       "<ol class=list-inline>\n",
       "\t<li>FALSE</li>\n",
       "\t<li>TRUE</li>\n",
       "</ol>\n"
      ],
      "text/latex": [
       "\\begin{enumerate*}\n",
       "\\item FALSE\n",
       "\\item TRUE\n",
       "\\end{enumerate*}\n"
      ],
      "text/markdown": [
       "1. FALSE\n",
       "2. TRUE\n",
       "\n",
       "\n"
      ],
      "text/plain": [
       "[1] FALSE  TRUE"
      ]
     },
     "metadata": {},
     "output_type": "display_data"
    }
   ],
   "source": [
    "# Example 2\n",
    "x <- c(1, 3)\n",
    "x >= 2"
   ]
  },
  {
   "cell_type": "code",
   "execution_count": 63,
   "id": "435c2f69-e534-4e09-9d2f-c496bbdf78eb",
   "metadata": {},
   "outputs": [
    {
     "name": "stderr",
     "output_type": "stream",
     "text": [
      "Warning message in if (x >= 2) {:\n",
      "\"the condition has length > 1 and only the first element will be used\""
     ]
    }
   ],
   "source": [
    "if (x >= 2){ # sees only the first value, FALSE, and does not execute\n",
    "    # we get a warning because the length of the logical vector > 1\n",
    "    print(\"Hello again!\")\n",
    "}"
   ]
  },
  {
   "cell_type": "code",
   "execution_count": 64,
   "id": "4266c208-1c3b-4120-82cf-1ab3e9d47c90",
   "metadata": {},
   "outputs": [
    {
     "name": "stderr",
     "output_type": "stream",
     "text": [
      "Warning message in if (x <= 2) {:\n",
      "\"the condition has length > 1 and only the first element will be used\""
     ]
    },
    {
     "name": "stdout",
     "output_type": "stream",
     "text": [
      "[1] \"Hello again!\"\n"
     ]
    }
   ],
   "source": [
    "if (x <= 2){ # sees only the first value, TRUE\n",
    "    # executes with a warning because the length of the logical vector > 1\n",
    "    print(\"Hello again!\")\n",
    "}"
   ]
  },
  {
   "cell_type": "code",
   "execution_count": 65,
   "id": "f4ac2729-1314-4f3f-a31d-4d50d18238e2",
   "metadata": {},
   "outputs": [
    {
     "data": {
      "text/html": [
       "TRUE"
      ],
      "text/latex": [
       "TRUE"
      ],
      "text/markdown": [
       "TRUE"
      ],
      "text/plain": [
       "[1] TRUE"
      ]
     },
     "metadata": {},
     "output_type": "display_data"
    }
   ],
   "source": [
    "# Example 3\n",
    "x <- c(1, 3)\n",
    "any(x >= 2) # if your logical vector has length > 1, you might use any/all"
   ]
  },
  {
   "cell_type": "code",
   "execution_count": 66,
   "id": "5040fbf6-45b7-44ab-8998-873564683a10",
   "metadata": {},
   "outputs": [
    {
     "name": "stdout",
     "output_type": "stream",
     "text": [
      "[1] \"Can you hear me now?\"\n"
     ]
    }
   ],
   "source": [
    "if (any(x >= 2)){\n",
    "    print(\"Can you hear me now?\")\n",
    "}"
   ]
  },
  {
   "cell_type": "markdown",
   "id": "6a5b4285-12d9-484b-8bba-73338fa7bfb2",
   "metadata": {},
   "source": [
    "#### `if()` errors on `NA`\n",
    "\n",
    "<https://youtu.be/txnbvLp5v1A?list=PLKR7271tMEmgsp83ZJPMr96xd-8fPq3p1&t=1202>"
   ]
  },
  {
   "cell_type": "code",
   "execution_count": 67,
   "id": "524ce73d-7fcc-4dbb-bcfa-fb9aaf189e8e",
   "metadata": {},
   "outputs": [
    {
     "ename": "ERROR",
     "evalue": "Error in if (x[5] >= 2) {: missing value where TRUE/FALSE needed\n",
     "output_type": "error",
     "traceback": [
      "Error in if (x[5] >= 2) {: missing value where TRUE/FALSE needed\nTraceback:\n"
     ]
    }
   ],
   "source": [
    "x <- 1:3\n",
    "if (x[5] >= 2){\n",
    "    print(\"Will this work?\")\n",
    "}"
   ]
  },
  {
   "cell_type": "markdown",
   "id": "ea17323b-0ce1-4f2f-96c8-f6716c513240",
   "metadata": {},
   "source": [
    "*\"missing value where `TRUE/FALSE` needed\"* is a very common error that you will run into.\n",
    "\n",
    "You'will need to go through your code and see why something inside your statement is producing `NA` values."
   ]
  },
  {
   "cell_type": "markdown",
   "id": "1434dfb4-183d-4727-b899-4feddf35089b",
   "metadata": {},
   "source": [
    "#### `if()` errors on `logical(0)`\n",
    "\n",
    "<https://youtu.be/txnbvLp5v1A?list=PLKR7271tMEmgsp83ZJPMr96xd-8fPq3p1&t=1284>"
   ]
  },
  {
   "cell_type": "code",
   "execution_count": null,
   "id": "3adbcb27-f8ad-4f12-8bd0-7d4a60305d66",
   "metadata": {},
   "outputs": [],
   "source": [
    "x <- 1:3\n",
    "which(x == 4) # returns integer(0)"
   ]
  },
  {
   "cell_type": "code",
   "execution_count": null,
   "id": "bff0cc09-df8f-482c-82e5-0ce137d46369",
   "metadata": {},
   "outputs": [],
   "source": [
    "if (which(x == 4) == 4){\n",
    "    print(\"Will this work?\")\n",
    "}"
   ]
  },
  {
   "cell_type": "markdown",
   "id": "c8c49d36-17cb-434a-bffd-3760555595f1",
   "metadata": {},
   "source": [
    "### Nesting Conditionals - `if`, `else if`, and `else` \n",
    "\n",
    "If you want to use an `else` statement:\n",
    "\n",
    "  - there must be a preceding `if` statement\n",
    "  - and you must use curly braces\n",
    "\n",
    "The conditional inside an `else if` statement will only be evaluated:\n",
    "\n",
    "  - if the starting `if` statement is `FALSE`\n",
    "  \n",
    "Make sure you put the else on the same line as the closing curly brace of the `if` statement, otherwise R will believe the `if` statment is complete."
   ]
  },
  {
   "cell_type": "code",
   "execution_count": null,
   "id": "62124356-6b24-43a6-9884-c3f72695f9e3",
   "metadata": {},
   "outputs": [],
   "source": [
    "# Example 1\n",
    "x <- 3\n",
    "\n",
    "if (x < 3){\n",
    "    print(\"Negative\")\n",
    "} else if (x > 0){\n",
    "    print(\"Positive\")\n",
    "} else {\n",
    "    print(\"Zero\")\n",
    "}"
   ]
  },
  {
   "cell_type": "code",
   "execution_count": null,
   "id": "eee52bd9-50de-4138-8981-e5423d4d3be2",
   "metadata": {},
   "outputs": [],
   "source": [
    "# Example 2\n",
    "x <- 0\n",
    "\n",
    "if (x < 0){\n",
    "    print(\"Negative\")\n",
    "} else if (x > 0){\n",
    "    print(\"Positive\")\n",
    "} else {\n",
    "    print(\"Zero\")\n",
    "}"
   ]
  },
  {
   "cell_type": "code",
   "execution_count": null,
   "id": "c52f9fdb-ddd1-4e68-8e29-f3aa566c3123",
   "metadata": {},
   "outputs": [],
   "source": [
    "# Example 3\n",
    "x <- 3\n",
    "\n",
    "if (x > 0){\n",
    "    print(\"Positive\")\n",
    "} else if (x > 0){ # will not be evaluated because the first if is TRUE\n",
    "    print(\"Bigger than 1\")\n",
    "} else {\n",
    "    print(\"Not positive\")\n",
    "}"
   ]
  },
  {
   "cell_type": "markdown",
   "id": "ad2514bb-c8b0-425a-9dff-1ef2f500106c",
   "metadata": {},
   "source": [
    "#### `if()` is not vectorized, `ifelse()` vectorized\n",
    "\n",
    "1. `if()` requires a logical vector of length-one. It is **not vectorized**. \n",
    "\n",
    "    - Functions that use an `if()` statement cannot be given a vector of values.\n",
    "    \n",
    "2. The function `ifelse` is **vectorized**. It requires three arguments:\n",
    "\n",
    "     - a condition to test\n",
    "     \n",
    "     - the result if the condition is true\n",
    "     \n",
    "     - the result if the condition is false"
   ]
  },
  {
   "cell_type": "code",
   "execution_count": null,
   "id": "c62a3356-900e-4c56-a435-ac9860088ef3",
   "metadata": {},
   "outputs": [],
   "source": [
    "if (x == 5){\n",
    "    n <- \"yes\"\n",
    "} else{\n",
    "    n <- \"not\"\n",
    "}"
   ]
  },
  {
   "cell_type": "code",
   "execution_count": null,
   "id": "8a816581-3d9b-41d1-8fc4-301e23821b74",
   "metadata": {},
   "outputs": [],
   "source": [
    "n"
   ]
  },
  {
   "cell_type": "code",
   "execution_count": null,
   "id": "79545153-b5a3-42b7-b5b3-e8cc83be89c4",
   "metadata": {},
   "outputs": [],
   "source": [
    "# is reduced to\n",
    "\n",
    "n <- ifelse(x == 5, \"yes\", \"no\")\n",
    "n"
   ]
  },
  {
   "cell_type": "markdown",
   "id": "81634577-6c54-47a7-86f3-16182172e1ae",
   "metadata": {},
   "source": [
    "## Section 3: Loops\n",
    "\n",
    "The simplest and most common type of loop in R is the `for` loop. Given a vector (inlcuding list), it iterates through the elements and evaluates the code block for each element.\n",
    "\n",
    "### For Loops"
   ]
  },
  {
   "cell_type": "code",
   "execution_count": null,
   "id": "436848bf-a661-4438-aa0f-daf7edec1c2b",
   "metadata": {},
   "outputs": [],
   "source": [
    "for (x in 1:10){\n",
    "    cat(x^2, \" \", sep = \"\")\n",
    "}\n",
    "\n",
    "# Note: cat() converts its arguments to character strings, concatenates them,\n",
    "# separating them by the given sep= string, and then prints them. "
   ]
  },
  {
   "cell_type": "markdown",
   "id": "ebd6be09-b82f-4997-9bf8-dbf6a3df3c9c",
   "metadata": {},
   "source": [
    "#### `for` loops can iterate through any vector"
   ]
  },
  {
   "cell_type": "code",
   "execution_count": null,
   "id": "af311fef-9825-4777-9db4-a550b4660713",
   "metadata": {},
   "outputs": [],
   "source": [
    "# l is a list of three elements\n",
    "l <- list(1:3, LETTERS[1:7], c(TRUE, FALSE)) \n",
    "l"
   ]
  },
  {
   "cell_type": "code",
   "execution_count": null,
   "id": "677ba134-6ba3-48bd-bb96-e04e5cd8084e",
   "metadata": {},
   "outputs": [],
   "source": [
    "for (y in l){\n",
    "    print(length(y))\n",
    "}"
   ]
  },
  {
   "cell_type": "code",
   "execution_count": null,
   "id": "70da91fb-e315-4e42-9415-4c5084d41f8e",
   "metadata": {},
   "outputs": [],
   "source": [
    "# Another example\n",
    "library(datasets)\n",
    "state.name[1:5]"
   ]
  },
  {
   "cell_type": "code",
   "execution_count": null,
   "id": "f5762f04-f5f9-4970-80a1-e8f762cfbf24",
   "metadata": {},
   "outputs": [],
   "source": [
    "for(state in state.name[1:5]){\n",
    "    cat(state, \"has\", nchar(state), \"letters in its name.\\n\")\n",
    "}"
   ]
  },
  {
   "cell_type": "markdown",
   "id": "15e9e6a3-4242-4ee5-81bf-d49544068f4c",
   "metadata": {},
   "source": [
    "#### Storing Results\n",
    "\n",
    "It is almost always better to create an object to store your results first, rather than growing the object as you go."
   ]
  },
  {
   "cell_type": "code",
   "execution_count": 68,
   "id": "e2396494-8a08-440e-a2ea-bf8e0a0c4a4c",
   "metadata": {},
   "outputs": [
    {
     "data": {
      "text/plain": [
       "   user  system elapsed \n",
       "   0.84    0.02    0.86 "
      ]
     },
     "metadata": {},
     "output_type": "display_data"
    }
   ],
   "source": [
    "# Good\n",
    "\n",
    "res <- rep(NA, 10^7) # create an object to store results\n",
    "\n",
    "system.time(\n",
    "    for (x in seq_along(res)){\n",
    "        res[x] <- x^2\n",
    "    }\n",
    ")\n",
    "\n",
    "# recall seq_along() function generates a sequence of the same length of the argument passed."
   ]
  },
  {
   "cell_type": "code",
   "execution_count": 69,
   "id": "815be51e-b1df-40ee-be09-9baeffcbbbdb",
   "metadata": {},
   "outputs": [
    {
     "data": {
      "text/plain": [
       "   user  system elapsed \n",
       "   3.95    0.59    4.56 "
      ]
     },
     "metadata": {},
     "output_type": "display_data"
    }
   ],
   "source": [
    "# Slower\n",
    "\n",
    "res <- 0\n",
    "system.time(\n",
    "    for (x in 1:10^7){\n",
    "        res[x] <- x^2 # each iteration requires that res be resized\n",
    "    }\n",
    ")"
   ]
  },
  {
   "cell_type": "code",
   "execution_count": 70,
   "id": "45292848-5edc-4c66-9947-777396551c11",
   "metadata": {},
   "outputs": [
    {
     "data": {
      "text/plain": [
       "   user  system elapsed \n",
       "  19.42    0.35   23.18 "
      ]
     },
     "metadata": {},
     "output_type": "display_data"
    }
   ],
   "source": [
    "# Slowest\n",
    "\n",
    "res <- c()\n",
    "system.time(\n",
    "    for (x in 1:10^5){ # we are only doing 1/100 of the work, but is slow\n",
    "        res <- c(res, x^2) # each iteration copies res into a redefined res object\n",
    "    }\n",
    ")"
   ]
  },
  {
   "cell_type": "markdown",
   "id": "22bf49e0-f139-456e-a8d2-2e00fc7aef20",
   "metadata": {},
   "source": [
    "### `while` Loops\n",
    "\n",
    "Repeat until the given condition is not met (condition is `FALSE`)"
   ]
  },
  {
   "cell_type": "code",
   "execution_count": 71,
   "id": "6fff2bb2-7117-426b-915e-40a4a0039d6e",
   "metadata": {},
   "outputs": [
    {
     "data": {
      "text/html": [
       "<ol class=list-inline>\n",
       "\t<li>1</li>\n",
       "\t<li>4</li>\n",
       "\t<li>9</li>\n",
       "\t<li>16</li>\n",
       "\t<li>25</li>\n",
       "\t<li>36</li>\n",
       "\t<li>49</li>\n",
       "\t<li>64</li>\n",
       "\t<li>81</li>\n",
       "\t<li>100</li>\n",
       "</ol>\n"
      ],
      "text/latex": [
       "\\begin{enumerate*}\n",
       "\\item 1\n",
       "\\item 4\n",
       "\\item 9\n",
       "\\item 16\n",
       "\\item 25\n",
       "\\item 36\n",
       "\\item 49\n",
       "\\item 64\n",
       "\\item 81\n",
       "\\item 100\n",
       "\\end{enumerate*}\n"
      ],
      "text/markdown": [
       "1. 1\n",
       "2. 4\n",
       "3. 9\n",
       "4. 16\n",
       "5. 25\n",
       "6. 36\n",
       "7. 49\n",
       "8. 64\n",
       "9. 81\n",
       "10. 100\n",
       "\n",
       "\n"
      ],
      "text/plain": [
       " [1]   1   4   9  16  25  36  49  64  81 100"
      ]
     },
     "metadata": {},
     "output_type": "display_data"
    }
   ],
   "source": [
    "i <- 1\n",
    "res <- rep(NA, 10)\n",
    "while (i <= 10){\n",
    "    res[i] <- i^2\n",
    "    i <- i + 1\n",
    "}\n",
    "res"
   ]
  },
  {
   "cell_type": "markdown",
   "id": "0f6a6129-3dd3-4a3c-ba5f-39cca28f9a0b",
   "metadata": {},
   "source": [
    "**Question:** What is the value of `i` when the code finishes?"
   ]
  },
  {
   "cell_type": "code",
   "execution_count": 72,
   "id": "defda918-a2f0-4cd2-b31f-bd70401b049a",
   "metadata": {},
   "outputs": [
    {
     "data": {
      "text/html": [
       "11"
      ],
      "text/latex": [
       "11"
      ],
      "text/markdown": [
       "11"
      ],
      "text/plain": [
       "[1] 11"
      ]
     },
     "metadata": {},
     "output_type": "display_data"
    }
   ],
   "source": [
    "i"
   ]
  },
  {
   "cell_type": "markdown",
   "id": "40528920-15ef-4347-a7d7-161f7ca440f1",
   "metadata": {},
   "source": [
    "### `repeat` Loops\n",
    "\n",
    "Repeat until `break` is executed (condition is TRUE)"
   ]
  },
  {
   "cell_type": "code",
   "execution_count": 73,
   "id": "48c82e81-7f82-467b-b0d9-48dc55734189",
   "metadata": {},
   "outputs": [
    {
     "data": {
      "text/html": [
       "<ol class=list-inline>\n",
       "\t<li>1</li>\n",
       "\t<li>4</li>\n",
       "\t<li>9</li>\n",
       "\t<li>16</li>\n",
       "\t<li>25</li>\n",
       "\t<li>36</li>\n",
       "\t<li>49</li>\n",
       "\t<li>64</li>\n",
       "\t<li>81</li>\n",
       "\t<li>100</li>\n",
       "</ol>\n"
      ],
      "text/latex": [
       "\\begin{enumerate*}\n",
       "\\item 1\n",
       "\\item 4\n",
       "\\item 9\n",
       "\\item 16\n",
       "\\item 25\n",
       "\\item 36\n",
       "\\item 49\n",
       "\\item 64\n",
       "\\item 81\n",
       "\\item 100\n",
       "\\end{enumerate*}\n"
      ],
      "text/markdown": [
       "1. 1\n",
       "2. 4\n",
       "3. 9\n",
       "4. 16\n",
       "5. 25\n",
       "6. 36\n",
       "7. 49\n",
       "8. 64\n",
       "9. 81\n",
       "10. 100\n",
       "\n",
       "\n"
      ],
      "text/plain": [
       " [1]   1   4   9  16  25  36  49  64  81 100"
      ]
     },
     "metadata": {},
     "output_type": "display_data"
    }
   ],
   "source": [
    "i <- 1\n",
    "res <- rep(NA, 10)\n",
    "repeat{\n",
    "    res[i] <- i^2\n",
    "    i <- i + 1\n",
    "    if (i > 10){\n",
    "        break\n",
    "    }\n",
    "}\n",
    "res"
   ]
  },
  {
   "cell_type": "markdown",
   "id": "98daeb75-af59-4a22-9126-1f84f4b8268e",
   "metadata": {},
   "source": [
    "### Special keywords - `breaks` and `next`\n",
    "\n",
    "- `break`: ends the current (inner-most) loop\n",
    "\n",
    "- `next` - ends the current iteration and starts the next iteration"
   ]
  },
  {
   "cell_type": "code",
   "execution_count": 74,
   "id": "dc461576-5f85-4d6f-8e82-a6fea72cb98c",
   "metadata": {},
   "outputs": [
    {
     "name": "stdout",
     "output_type": "stream",
     "text": [
      "1 "
     ]
    }
   ],
   "source": [
    "# break\n",
    "for(i in 1:10){\n",
    "    if (i %% 2 == 0){ # i is divisible by 2 then break\n",
    "        break\n",
    "    }\n",
    " cat(i, \"\")\n",
    "}"
   ]
  },
  {
   "cell_type": "code",
   "execution_count": 75,
   "id": "8538e975-16d0-434a-9aba-288577016670",
   "metadata": {},
   "outputs": [
    {
     "name": "stdout",
     "output_type": "stream",
     "text": [
      "1 3 5 7 9 "
     ]
    }
   ],
   "source": [
    "# next\n",
    "for(i in 1:10){\n",
    "    if (i %% 2 == 0){ # i is divisible by 2 then next\n",
    "        next\n",
    "    }\n",
    " cat(i, \"\")\n",
    "}"
   ]
  },
  {
   "cell_type": "markdown",
   "id": "48bce63e-3161-4cbb-ab34-764f628c033d",
   "metadata": {},
   "source": [
    "<https://youtu.be/txnbvLp5v1A?list=PLKR7271tMEmgsp83ZJPMr96xd-8fPq3p1&t=2563>"
   ]
  },
  {
   "cell_type": "markdown",
   "id": "43b24b44-c32d-4a40-83de-99d62d682c6c",
   "metadata": {},
   "source": [
    "### `seq_len()` and `seq_along()`"
   ]
  },
  {
   "cell_type": "code",
   "execution_count": null,
   "id": "4b4b8754-4f94-4e71-9335-9c0f6c1be388",
   "metadata": {},
   "outputs": [],
   "source": []
  }
 ],
 "metadata": {
  "kernelspec": {
   "display_name": "R",
   "language": "R",
   "name": "ir"
  },
  "language_info": {
   "codemirror_mode": "r",
   "file_extension": ".r",
   "mimetype": "text/x-r-source",
   "name": "R",
   "pygments_lexer": "r",
   "version": "3.6.1"
  }
 },
 "nbformat": 4,
 "nbformat_minor": 5
}
