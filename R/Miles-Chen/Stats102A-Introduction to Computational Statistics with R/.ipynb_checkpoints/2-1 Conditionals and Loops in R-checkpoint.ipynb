{
 "cells": [
  {
   "cell_type": "markdown",
   "id": "24c4d6a6-b837-42af-9c0e-fa72ff59f7c6",
   "metadata": {},
   "source": [
    "# Programming Basics: Conditions & Loops"
   ]
  },
  {
   "cell_type": "markdown",
   "id": "fb129cd4-1f37-4c56-8684-49e8418c480b",
   "metadata": {},
   "source": [
    "## Section 1: Operators that produce logical values\n",
    "<https://www.youtube.com/watch?v=txnbvLp5v1A&list=PLKR7271tMEmgsp83ZJPMr96xd-8fPq3p1&index=5>\n",
    "### Vectorized Logical Operators\n",
    "\n",
    "R has the following logical operators. Use of a logical operator will coerce non-logical types to logical type e.g. 0 becomes `FALSE`, **all other numeric** values become `TRUE`.\n",
    "\n",
    "  - or: `x | y`\n",
    "\n",
    "  - and: `x & y`\n",
    "\n",
    "  - not: `!x`\n",
    "\n",
    "  - exclusive or: `xor(x, y)`\n",
    "  \n",
    "The above logical operators are vectorized and will perform element-wise comparison as well as recycling. The vectorized operations will return a vector of logical values."
   ]
  },
  {
   "cell_type": "markdown",
   "id": "ae78284b-d1f4-45cc-8218-b1d86da6322e",
   "metadata": {},
   "source": [
    "### Non-Vectorized Logical Operators\n",
    "\n",
    "Non-vectorized operators will return only one logical value. If a vector with length > one is provided on either side of the operator, only the first element of the vector will be used.\n",
    "\n",
    "  - non-vector or:  `x || y`\n",
    "  \n",
    "  - non-vector and: `x && y`\n",
    "  \n",
    "The \"non-vector\" `||` and `&&` evaluates left to right examining only the first element of each vector. This longer form is appropriate for programming control-flow and typically preferred in if clauses.\n",
    "\n",
    "See `?base::Logic`"
   ]
  },
  {
   "cell_type": "code",
   "execution_count": 71,
   "id": "e8091c05-4fea-430d-967a-8c4e86c6e094",
   "metadata": {},
   "outputs": [],
   "source": [
    "# Vectorized vs Non-Vectorized\n",
    "x <- c(TRUE,  TRUE, FALSE, FALSE)\n",
    "y <- c(FALSE, TRUE, FALSE, TRUE)"
   ]
  },
  {
   "cell_type": "code",
   "execution_count": 72,
   "id": "71589f57-1502-45b5-91b1-e0bcdfdeec65",
   "metadata": {},
   "outputs": [
    {
     "data": {
      "text/html": [
       "<ol class=list-inline>\n",
       "\t<li>TRUE</li>\n",
       "\t<li>TRUE</li>\n",
       "\t<li>FALSE</li>\n",
       "\t<li>TRUE</li>\n",
       "</ol>\n"
      ],
      "text/latex": [
       "\\begin{enumerate*}\n",
       "\\item TRUE\n",
       "\\item TRUE\n",
       "\\item FALSE\n",
       "\\item TRUE\n",
       "\\end{enumerate*}\n"
      ],
      "text/markdown": [
       "1. TRUE\n",
       "2. TRUE\n",
       "3. FALSE\n",
       "4. TRUE\n",
       "\n",
       "\n"
      ],
      "text/plain": [
       "[1]  TRUE  TRUE FALSE  TRUE"
      ]
     },
     "metadata": {},
     "output_type": "display_data"
    }
   ],
   "source": [
    "x | y"
   ]
  },
  {
   "cell_type": "code",
   "execution_count": 73,
   "id": "8dd5d5f0-df99-4633-87a4-e8ac190450fc",
   "metadata": {},
   "outputs": [
    {
     "data": {
      "text/html": [
       "<ol class=list-inline>\n",
       "\t<li>FALSE</li>\n",
       "\t<li>TRUE</li>\n",
       "\t<li>FALSE</li>\n",
       "\t<li>FALSE</li>\n",
       "</ol>\n"
      ],
      "text/latex": [
       "\\begin{enumerate*}\n",
       "\\item FALSE\n",
       "\\item TRUE\n",
       "\\item FALSE\n",
       "\\item FALSE\n",
       "\\end{enumerate*}\n"
      ],
      "text/markdown": [
       "1. FALSE\n",
       "2. TRUE\n",
       "3. FALSE\n",
       "4. FALSE\n",
       "\n",
       "\n"
      ],
      "text/plain": [
       "[1] FALSE  TRUE FALSE FALSE"
      ]
     },
     "metadata": {},
     "output_type": "display_data"
    }
   ],
   "source": [
    "x & y"
   ]
  },
  {
   "cell_type": "code",
   "execution_count": 74,
   "id": "4956fef6-f9b1-4507-912b-c7531a83d9e7",
   "metadata": {},
   "outputs": [
    {
     "data": {
      "text/html": [
       "TRUE"
      ],
      "text/latex": [
       "TRUE"
      ],
      "text/markdown": [
       "TRUE"
      ],
      "text/plain": [
       "[1] TRUE"
      ]
     },
     "metadata": {},
     "output_type": "display_data"
    }
   ],
   "source": [
    "x || y # only looks at first element"
   ]
  },
  {
   "cell_type": "code",
   "execution_count": 75,
   "id": "abfc680c-9239-4245-a1b5-99f7816d134f",
   "metadata": {},
   "outputs": [
    {
     "data": {
      "text/html": [
       "FALSE"
      ],
      "text/latex": [
       "FALSE"
      ],
      "text/markdown": [
       "FALSE"
      ],
      "text/plain": [
       "[1] FALSE"
      ]
     },
     "metadata": {},
     "output_type": "display_data"
    }
   ],
   "source": [
    "x && y # only looks at first element"
   ]
  },
  {
   "cell_type": "markdown",
   "id": "06852f47-42e6-4a36-be79-470331f6b8b4",
   "metadata": {},
   "source": [
    "### Logical operators with NA\n",
    "\n",
    "What is:\n",
    "\n",
    "  - `TRUE | NA` ?\n",
    "  \n",
    "  - `TRUE & NA` ?\n",
    "  \n",
    "  - `FALSE || NA` ?\n",
    "  \n",
    "  - `FALSE && NA` ?"
   ]
  },
  {
   "cell_type": "code",
   "execution_count": 76,
   "id": "cdefe683-f6ea-4a15-8f60-d3eed158d3e9",
   "metadata": {},
   "outputs": [
    {
     "data": {
      "text/html": [
       "TRUE"
      ],
      "text/latex": [
       "TRUE"
      ],
      "text/markdown": [
       "TRUE"
      ],
      "text/plain": [
       "[1] TRUE"
      ]
     },
     "metadata": {},
     "output_type": "display_data"
    }
   ],
   "source": [
    "TRUE | NA # doesn't matter what's inside NA"
   ]
  },
  {
   "cell_type": "code",
   "execution_count": 77,
   "id": "6f9d3afa-3de4-4ef4-bc6a-5027d357d1d9",
   "metadata": {},
   "outputs": [
    {
     "data": {
      "text/html": [
       "&lt;NA&gt;"
      ],
      "text/latex": [
       "<NA>"
      ],
      "text/markdown": [
       "&lt;NA&gt;"
      ],
      "text/plain": [
       "[1] NA"
      ]
     },
     "metadata": {},
     "output_type": "display_data"
    }
   ],
   "source": [
    "TRUE & NA # depends on NA; if NA is TRUE then TRUE ; if NA is FALSE then FALSE"
   ]
  },
  {
   "cell_type": "code",
   "execution_count": 78,
   "id": "14721681-1aaf-4175-a3ba-fe87fdd57aa3",
   "metadata": {},
   "outputs": [
    {
     "data": {
      "text/html": [
       "&lt;NA&gt;"
      ],
      "text/latex": [
       "<NA>"
      ],
      "text/markdown": [
       "&lt;NA&gt;"
      ],
      "text/plain": [
       "[1] NA"
      ]
     },
     "metadata": {},
     "output_type": "display_data"
    }
   ],
   "source": [
    "FALSE || NA # depends on NA"
   ]
  },
  {
   "cell_type": "code",
   "execution_count": 79,
   "id": "4e5f9b27-5937-49d1-9c63-40c389aab234",
   "metadata": {},
   "outputs": [
    {
     "data": {
      "text/html": [
       "FALSE"
      ],
      "text/latex": [
       "FALSE"
      ],
      "text/markdown": [
       "FALSE"
      ],
      "text/plain": [
       "[1] FALSE"
      ]
     },
     "metadata": {},
     "output_type": "display_data"
    }
   ],
   "source": [
    "FALSE && NA # doesn't matter what's inside NA"
   ]
  },
  {
   "cell_type": "markdown",
   "id": "2409f134-40d5-4bc0-8f41-557349404c9c",
   "metadata": {},
   "source": [
    "### Exclusive Or\n",
    "\n",
    "`xor()` indicates elementwise *exclusive OR*\n",
    "\n",
    "  -  True if x or y is true, but not if both are true\n",
    "\n",
    "That is, `xor(TRUE, TRUE)` is `FALSE`."
   ]
  },
  {
   "cell_type": "code",
   "execution_count": 80,
   "id": "d461fd29-94da-494f-95b9-46d8dec186c4",
   "metadata": {},
   "outputs": [
    {
     "data": {
      "text/html": [
       "<ol class=list-inline>\n",
       "\t<li>TRUE</li>\n",
       "\t<li>FALSE</li>\n",
       "\t<li>FALSE</li>\n",
       "\t<li>TRUE</li>\n",
       "\t<li>&lt;NA&gt;</li>\n",
       "\t<li>&lt;NA&gt;</li>\n",
       "\t<li>&lt;NA&gt;</li>\n",
       "</ol>\n"
      ],
      "text/latex": [
       "\\begin{enumerate*}\n",
       "\\item TRUE\n",
       "\\item FALSE\n",
       "\\item FALSE\n",
       "\\item TRUE\n",
       "\\item <NA>\n",
       "\\item <NA>\n",
       "\\item <NA>\n",
       "\\end{enumerate*}\n"
      ],
      "text/markdown": [
       "1. TRUE\n",
       "2. FALSE\n",
       "3. FALSE\n",
       "4. TRUE\n",
       "5. &lt;NA&gt;\n",
       "6. &lt;NA&gt;\n",
       "7. &lt;NA&gt;\n",
       "\n",
       "\n"
      ],
      "text/plain": [
       "[1]  TRUE FALSE FALSE  TRUE    NA    NA    NA"
      ]
     },
     "metadata": {},
     "output_type": "display_data"
    }
   ],
   "source": [
    "x <- c(TRUE,  TRUE, FALSE, FALSE,  NA,    NA, NA)\n",
    "y <- c(FALSE, TRUE, FALSE, TRUE, TRUE, FALSE, NA)\n",
    "xor(x,y)"
   ]
  },
  {
   "cell_type": "markdown",
   "id": "69728275-ece3-404b-82f9-86b82d4f5e7b",
   "metadata": {},
   "source": [
    "### `any()` and `all()`\n",
    "\n",
    "`any()` and `all()` are generalization of OR and AND for more than 2 values."
   ]
  },
  {
   "cell_type": "code",
   "execution_count": 81,
   "id": "2f64442c-4a71-4983-9bd6-dcac2b0b5a6d",
   "metadata": {},
   "outputs": [],
   "source": [
    "# example 1\n",
    "u <- c(TRUE, TRUE, TRUE)"
   ]
  },
  {
   "cell_type": "code",
   "execution_count": 82,
   "id": "9f213fd9-bcb1-4c3c-9cd5-3520ec142f05",
   "metadata": {},
   "outputs": [
    {
     "data": {
      "text/html": [
       "TRUE"
      ],
      "text/latex": [
       "TRUE"
      ],
      "text/markdown": [
       "TRUE"
      ],
      "text/plain": [
       "[1] TRUE"
      ]
     },
     "metadata": {},
     "output_type": "display_data"
    }
   ],
   "source": [
    "any(u)"
   ]
  },
  {
   "cell_type": "code",
   "execution_count": 83,
   "id": "1067c169-822b-435b-8c79-fd71b90219d6",
   "metadata": {},
   "outputs": [
    {
     "data": {
      "text/html": [
       "TRUE"
      ],
      "text/latex": [
       "TRUE"
      ],
      "text/markdown": [
       "TRUE"
      ],
      "text/plain": [
       "[1] TRUE"
      ]
     },
     "metadata": {},
     "output_type": "display_data"
    }
   ],
   "source": [
    "all(u)"
   ]
  },
  {
   "cell_type": "code",
   "execution_count": 84,
   "id": "36dec23c-2308-448f-856c-f26043a08b4f",
   "metadata": {},
   "outputs": [
    {
     "data": {
      "text/html": [
       "<ol class=list-inline>\n",
       "\t<li>TRUE</li>\n",
       "\t<li>TRUE</li>\n",
       "</ol>\n"
      ],
      "text/latex": [
       "\\begin{enumerate*}\n",
       "\\item TRUE\n",
       "\\item TRUE\n",
       "\\end{enumerate*}\n"
      ],
      "text/markdown": [
       "1. TRUE\n",
       "2. TRUE\n",
       "\n",
       "\n"
      ],
      "text/plain": [
       "[1] TRUE TRUE"
      ]
     },
     "metadata": {},
     "output_type": "display_data"
    }
   ],
   "source": [
    "c(any(u), all(u))"
   ]
  },
  {
   "cell_type": "code",
   "execution_count": 85,
   "id": "cd30f968-e1d1-458d-a99f-bd438c455429",
   "metadata": {},
   "outputs": [
    {
     "data": {
      "text/html": [
       "<ol class=list-inline>\n",
       "\t<li>TRUE</li>\n",
       "\t<li>FALSE</li>\n",
       "</ol>\n"
      ],
      "text/latex": [
       "\\begin{enumerate*}\n",
       "\\item TRUE\n",
       "\\item FALSE\n",
       "\\end{enumerate*}\n"
      ],
      "text/markdown": [
       "1. TRUE\n",
       "2. FALSE\n",
       "\n",
       "\n"
      ],
      "text/plain": [
       "[1]  TRUE FALSE"
      ]
     },
     "metadata": {},
     "output_type": "display_data"
    }
   ],
   "source": [
    "# example 2\n",
    "u <- c(TRUE, TRUE, FALSE)\n",
    "c(any(u), all(u))"
   ]
  },
  {
   "cell_type": "code",
   "execution_count": 86,
   "id": "5e37b77a-506a-4929-808a-331ca677f3e4",
   "metadata": {},
   "outputs": [
    {
     "data": {
      "text/html": [
       "<ol class=list-inline>\n",
       "\t<li>FALSE</li>\n",
       "\t<li>FALSE</li>\n",
       "</ol>\n"
      ],
      "text/latex": [
       "\\begin{enumerate*}\n",
       "\\item FALSE\n",
       "\\item FALSE\n",
       "\\end{enumerate*}\n"
      ],
      "text/markdown": [
       "1. FALSE\n",
       "2. FALSE\n",
       "\n",
       "\n"
      ],
      "text/plain": [
       "[1] FALSE FALSE"
      ]
     },
     "metadata": {},
     "output_type": "display_data"
    }
   ],
   "source": [
    "# example 2\n",
    "u <- c(FALSE, FALSE, FALSE)\n",
    "c(any(u), all(u))"
   ]
  },
  {
   "cell_type": "code",
   "execution_count": 87,
   "id": "0f06f6f0-f1ca-440a-8b22-a0c2bac7a54d",
   "metadata": {},
   "outputs": [
    {
     "data": {
      "text/html": [
       "FALSE"
      ],
      "text/latex": [
       "FALSE"
      ],
      "text/markdown": [
       "FALSE"
      ],
      "text/plain": [
       "[1] FALSE"
      ]
     },
     "metadata": {},
     "output_type": "display_data"
    }
   ],
   "source": [
    "all(u)"
   ]
  },
  {
   "cell_type": "markdown",
   "id": "00cdfd17-825a-4903-af6c-a3ef3827328d",
   "metadata": {},
   "source": [
    "#### Question\n",
    "\n",
    "***If we add 0-length vector (like `logical(0)` or `NULL`) to a vector of logical values `v`, it should not affect the result of `any()` or `all()` applied to `v`.***\n",
    "\n",
    "  - `any(logical(0), v)` should produce the same result as `any(v)`\n",
    "  \n",
    "  - `all(logical(0), v)` should produce the same result as `all(v)`\n",
    "  \n",
    "With these rules in mind:\n",
    "\n",
    "1. What does `any(logical(0))` return?\n",
    "\n",
    "2. What does `all(logical(0))` return?"
   ]
  },
  {
   "cell_type": "code",
   "execution_count": 88,
   "id": "39787726-96ac-4672-8caa-d1c8b2b055d6",
   "metadata": {},
   "outputs": [
    {
     "data": {
      "text/html": [
       "FALSE"
      ],
      "text/latex": [
       "FALSE"
      ],
      "text/markdown": [
       "FALSE"
      ],
      "text/plain": [
       "[1] FALSE"
      ]
     },
     "metadata": {},
     "output_type": "display_data"
    }
   ],
   "source": [
    "# vector 1: x\n",
    "x <- logical(0)\n",
    "# vector 2: u\n",
    "u <- c(TRUE, TRUE, TRUE)\n",
    "# vector 3: v\n",
    "v <- c(TRUE, TRUE, FALSE)\n",
    "# vector 4: w\n",
    "w <- c(FALSE, FALSE, FALSE)\n",
    "########\n",
    "# any()\n",
    "#######\n",
    "any(x)#???"
   ]
  },
  {
   "cell_type": "code",
   "execution_count": 89,
   "id": "3b0b6d97-b657-4dc8-b868-7a46c50e6a10",
   "metadata": {},
   "outputs": [
    {
     "data": {
      "text/html": [
       "<ol class=list-inline>\n",
       "\t<li>TRUE</li>\n",
       "\t<li>TRUE</li>\n",
       "</ol>\n"
      ],
      "text/latex": [
       "\\begin{enumerate*}\n",
       "\\item TRUE\n",
       "\\item TRUE\n",
       "\\end{enumerate*}\n"
      ],
      "text/markdown": [
       "1. TRUE\n",
       "2. TRUE\n",
       "\n",
       "\n"
      ],
      "text/plain": [
       "[1] TRUE TRUE"
      ]
     },
     "metadata": {},
     "output_type": "display_data"
    }
   ],
   "source": [
    "c(any(u), any(x, u))"
   ]
  },
  {
   "cell_type": "code",
   "execution_count": 90,
   "id": "76d85230-4407-4ab5-a96f-973824f41a14",
   "metadata": {},
   "outputs": [
    {
     "data": {
      "text/html": [
       "<ol class=list-inline>\n",
       "\t<li>TRUE</li>\n",
       "\t<li>TRUE</li>\n",
       "</ol>\n"
      ],
      "text/latex": [
       "\\begin{enumerate*}\n",
       "\\item TRUE\n",
       "\\item TRUE\n",
       "\\end{enumerate*}\n"
      ],
      "text/markdown": [
       "1. TRUE\n",
       "2. TRUE\n",
       "\n",
       "\n"
      ],
      "text/plain": [
       "[1] TRUE TRUE"
      ]
     },
     "metadata": {},
     "output_type": "display_data"
    }
   ],
   "source": [
    "c(any(v), any(x, v))"
   ]
  },
  {
   "cell_type": "code",
   "execution_count": 91,
   "id": "7f46cf24-da8b-4026-b486-aafbc527edc4",
   "metadata": {},
   "outputs": [
    {
     "data": {
      "text/html": [
       "<ol class=list-inline>\n",
       "\t<li>FALSE</li>\n",
       "\t<li>FALSE</li>\n",
       "</ol>\n"
      ],
      "text/latex": [
       "\\begin{enumerate*}\n",
       "\\item FALSE\n",
       "\\item FALSE\n",
       "\\end{enumerate*}\n"
      ],
      "text/markdown": [
       "1. FALSE\n",
       "2. FALSE\n",
       "\n",
       "\n"
      ],
      "text/plain": [
       "[1] FALSE FALSE"
      ]
     },
     "metadata": {},
     "output_type": "display_data"
    }
   ],
   "source": [
    "c(any(w), any(x, w)) # if any(logical(0)) were TRUE, this would change"
   ]
  },
  {
   "cell_type": "code",
   "execution_count": 92,
   "id": "d6e23658-a0b0-4522-9154-ed1abec458d2",
   "metadata": {},
   "outputs": [
    {
     "data": {
      "text/html": [
       "TRUE"
      ],
      "text/latex": [
       "TRUE"
      ],
      "text/markdown": [
       "TRUE"
      ],
      "text/plain": [
       "[1] TRUE"
      ]
     },
     "metadata": {},
     "output_type": "display_data"
    }
   ],
   "source": [
    "# vector 1: x\n",
    "x <- logical(0)\n",
    "# vector 2: u\n",
    "u <- c(TRUE, TRUE, TRUE)\n",
    "# vector 3: v\n",
    "v <- c(TRUE, TRUE, FALSE)\n",
    "# vector 4: w\n",
    "w <- c(FALSE, FALSE, FALSE)\n",
    "\n",
    "########\n",
    "# all()\n",
    "#######\n",
    "all(x)#???"
   ]
  },
  {
   "cell_type": "code",
   "execution_count": 93,
   "id": "ce2fa8a4-c9fe-42e3-9f3e-aa86b603bb4a",
   "metadata": {},
   "outputs": [
    {
     "data": {
      "text/html": [
       "<ol class=list-inline>\n",
       "\t<li>TRUE</li>\n",
       "\t<li>TRUE</li>\n",
       "</ol>\n"
      ],
      "text/latex": [
       "\\begin{enumerate*}\n",
       "\\item TRUE\n",
       "\\item TRUE\n",
       "\\end{enumerate*}\n"
      ],
      "text/markdown": [
       "1. TRUE\n",
       "2. TRUE\n",
       "\n",
       "\n"
      ],
      "text/plain": [
       "[1] TRUE TRUE"
      ]
     },
     "metadata": {},
     "output_type": "display_data"
    }
   ],
   "source": [
    "c(all(u), all(x, u))"
   ]
  },
  {
   "cell_type": "code",
   "execution_count": 94,
   "id": "49381e82-0d56-4e07-9305-9c87faae3b4b",
   "metadata": {},
   "outputs": [
    {
     "data": {
      "text/html": [
       "<ol class=list-inline>\n",
       "\t<li>FALSE</li>\n",
       "\t<li>FALSE</li>\n",
       "</ol>\n"
      ],
      "text/latex": [
       "\\begin{enumerate*}\n",
       "\\item FALSE\n",
       "\\item FALSE\n",
       "\\end{enumerate*}\n"
      ],
      "text/markdown": [
       "1. FALSE\n",
       "2. FALSE\n",
       "\n",
       "\n"
      ],
      "text/plain": [
       "[1] FALSE FALSE"
      ]
     },
     "metadata": {},
     "output_type": "display_data"
    }
   ],
   "source": [
    "c(all(v), all(x, v))"
   ]
  },
  {
   "cell_type": "code",
   "execution_count": 95,
   "id": "2c76cfec-13af-4e09-b09c-1e85888efe6f",
   "metadata": {},
   "outputs": [
    {
     "data": {
      "text/html": [
       "<ol class=list-inline>\n",
       "\t<li>FALSE</li>\n",
       "\t<li>FALSE</li>\n",
       "</ol>\n"
      ],
      "text/latex": [
       "\\begin{enumerate*}\n",
       "\\item FALSE\n",
       "\\item FALSE\n",
       "\\end{enumerate*}\n"
      ],
      "text/markdown": [
       "1. FALSE\n",
       "2. FALSE\n",
       "\n",
       "\n"
      ],
      "text/plain": [
       "[1] FALSE FALSE"
      ]
     },
     "metadata": {},
     "output_type": "display_data"
    }
   ],
   "source": [
    "c(all(w), all(x, w))"
   ]
  },
  {
   "cell_type": "markdown",
   "id": "672a4e3d-a3b0-492c-aafd-44b6db4372e4",
   "metadata": {},
   "source": [
    "Skipping slides 13, 14, and 15! Video ~ 11:33 to 14:39"
   ]
  },
  {
   "cell_type": "markdown",
   "id": "edc5f249-70aa-489f-bddb-1bda51acf682",
   "metadata": {},
   "source": [
    "## Section 2: Conditional Statements\n",
    "\n",
    "<https://youtu.be/txnbvLp5v1A?list=PLKR7271tMEmgsp83ZJPMr96xd-8fPq3p1&t=890>"
   ]
  },
  {
   "cell_type": "markdown",
   "id": "bc5cb545-1993-47e2-b8f6-4dc847582cec",
   "metadata": {},
   "source": [
    "### Conditional Statement - `if`\n",
    "\n",
    "Conditional execution of code blocks is achieved via `if()` statements.\n",
    "\n",
    "`if(cond)`: \n",
    "\n",
    "  - The condition in an `if()` statement must be **a length-one logical vector that is not `NA`.**\n",
    "  \n",
    "  - Conditions of length greater than one are accepted with a warning, but only the first element is used. Other types are coerced to logical if possible.\n",
    "  \n",
    "  - If the condition results in `NA`, you will get an error: *\"missing value where TRUE/FALSE needed\"*\n",
    "  \n",
    "  - If the condition is length 0, you will get an error: *\"argument is length zero.\"*\n",
    "  \n",
    "  - Curly braces {} are used to group the expressions that will run when the condition inside the if statement is `TRUE`. If there is only one expression to execute, the curly braces are optional."
   ]
  },
  {
   "cell_type": "markdown",
   "id": "441c6bd1-58bf-4c5b-a2a9-796fdfe27c05",
   "metadata": {},
   "source": [
    "#### Using `if()`"
   ]
  },
  {
   "cell_type": "code",
   "execution_count": 96,
   "id": "690cda02-29c5-4c09-b905-16b0655503bb",
   "metadata": {},
   "outputs": [
    {
     "data": {
      "text/html": [
       "TRUE"
      ],
      "text/latex": [
       "TRUE"
      ],
      "text/markdown": [
       "TRUE"
      ],
      "text/plain": [
       "[1] TRUE"
      ]
     },
     "metadata": {},
     "output_type": "display_data"
    }
   ],
   "source": [
    "# Example 1\n",
    "x <- c(1, 3)\n",
    "1 %in% x"
   ]
  },
  {
   "cell_type": "code",
   "execution_count": 97,
   "id": "f364f758-0a46-45c0-b728-b9c3bd71c3a0",
   "metadata": {},
   "outputs": [
    {
     "name": "stdout",
     "output_type": "stream",
     "text": [
      "[1] \"Hello!\"\n"
     ]
    }
   ],
   "source": [
    "if (1 %in% x){\n",
    "    print(\"Hello!\")\n",
    "}"
   ]
  },
  {
   "cell_type": "code",
   "execution_count": 98,
   "id": "91767112-3b21-421a-85f8-b7b9b5832bbc",
   "metadata": {},
   "outputs": [
    {
     "data": {
      "text/html": [
       "<ol class=list-inline>\n",
       "\t<li>FALSE</li>\n",
       "\t<li>TRUE</li>\n",
       "</ol>\n"
      ],
      "text/latex": [
       "\\begin{enumerate*}\n",
       "\\item FALSE\n",
       "\\item TRUE\n",
       "\\end{enumerate*}\n"
      ],
      "text/markdown": [
       "1. FALSE\n",
       "2. TRUE\n",
       "\n",
       "\n"
      ],
      "text/plain": [
       "[1] FALSE  TRUE"
      ]
     },
     "metadata": {},
     "output_type": "display_data"
    }
   ],
   "source": [
    "# Example 2\n",
    "x <- c(1, 3)\n",
    "x >= 2"
   ]
  },
  {
   "cell_type": "code",
   "execution_count": 99,
   "id": "435c2f69-e534-4e09-9d2f-c496bbdf78eb",
   "metadata": {},
   "outputs": [
    {
     "name": "stderr",
     "output_type": "stream",
     "text": [
      "Warning message in if (x >= 2) {:\n",
      "\"the condition has length > 1 and only the first element will be used\""
     ]
    }
   ],
   "source": [
    "if (x >= 2){ # sees only the first value, FALSE, and does not execute\n",
    "    # we get a warning because the length of the logical vector > 1\n",
    "    print(\"Hello again!\")\n",
    "}"
   ]
  },
  {
   "cell_type": "code",
   "execution_count": 100,
   "id": "4266c208-1c3b-4120-82cf-1ab3e9d47c90",
   "metadata": {},
   "outputs": [
    {
     "name": "stderr",
     "output_type": "stream",
     "text": [
      "Warning message in if (x <= 2) {:\n",
      "\"the condition has length > 1 and only the first element will be used\""
     ]
    },
    {
     "name": "stdout",
     "output_type": "stream",
     "text": [
      "[1] \"Hello again!\"\n"
     ]
    }
   ],
   "source": [
    "if (x <= 2){ # sees only the first value, TRUE\n",
    "    # executes with a warning because the length of the logical vector > 1\n",
    "    print(\"Hello again!\")\n",
    "}"
   ]
  },
  {
   "cell_type": "code",
   "execution_count": 101,
   "id": "f4ac2729-1314-4f3f-a31d-4d50d18238e2",
   "metadata": {},
   "outputs": [
    {
     "data": {
      "text/html": [
       "TRUE"
      ],
      "text/latex": [
       "TRUE"
      ],
      "text/markdown": [
       "TRUE"
      ],
      "text/plain": [
       "[1] TRUE"
      ]
     },
     "metadata": {},
     "output_type": "display_data"
    }
   ],
   "source": [
    "# Example 3\n",
    "x <- c(1, 3)\n",
    "any(x >= 2) # if your logical vector has length > 1, you might use any/all"
   ]
  },
  {
   "cell_type": "code",
   "execution_count": 102,
   "id": "5040fbf6-45b7-44ab-8998-873564683a10",
   "metadata": {},
   "outputs": [
    {
     "name": "stdout",
     "output_type": "stream",
     "text": [
      "[1] \"Can you hear me now?\"\n"
     ]
    }
   ],
   "source": [
    "if (any(x >= 2)){\n",
    "    print(\"Can you hear me now?\")\n",
    "}"
   ]
  },
  {
   "cell_type": "markdown",
   "id": "6a5b4285-12d9-484b-8bba-73338fa7bfb2",
   "metadata": {},
   "source": [
    "#### `if()` errors on `NA`\n",
    "\n",
    "<https://youtu.be/txnbvLp5v1A?list=PLKR7271tMEmgsp83ZJPMr96xd-8fPq3p1&t=1202>"
   ]
  },
  {
   "cell_type": "code",
   "execution_count": null,
   "id": "524ce73d-7fcc-4dbb-bcfa-fb9aaf189e8e",
   "metadata": {},
   "outputs": [],
   "source": []
  }
 ],
 "metadata": {
  "kernelspec": {
   "display_name": "R",
   "language": "R",
   "name": "ir"
  },
  "language_info": {
   "codemirror_mode": "r",
   "file_extension": ".r",
   "mimetype": "text/x-r-source",
   "name": "R",
   "pygments_lexer": "r",
   "version": "3.6.1"
  }
 },
 "nbformat": 4,
 "nbformat_minor": 5
}
