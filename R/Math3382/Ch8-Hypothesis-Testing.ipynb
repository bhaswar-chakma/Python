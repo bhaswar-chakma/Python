{
 "cells": [
  {
   "cell_type": "markdown",
   "id": "38cbbf94-52c2-4f9e-8d7d-6fb2413d71dc",
   "metadata": {},
   "source": [
    "# Chapter 8: Hypothesis Testing\n",
    "\n",
    "<https://sites.google.com/site/chiharahesterberg/chapter-materials-Ed2>\n",
    "\n",
    "https://www.youtube.com/playlist?list=PLNyILlFU1DRdroWjtehtgxS87fK5DwPKa"
   ]
  },
  {
   "cell_type": "markdown",
   "id": "5f944cfe-451a-49a1-a505-77092f8208bc",
   "metadata": {},
   "source": [
    "## Steps of a Hypothesis Test\n",
    "https://www.youtube.com/watch?v=RHu7qPEuhJI&list=PLNyILlFU1DRdroWjtehtgxS87fK5DwPKa&index=1\n",
    "\n",
    "1. State the hypotheses  and identify (from the claim) if it is one or two-tail test.\n",
    "\n",
    "2. Compute the test **statistics**\n",
    "\n",
    "    - The test statistic measures how many standard errors the observed statistic(s) is/are from the null claim\n",
    "    \n",
    "    - The farther the observed sample is from the null claim, the more significant the test result will be\n",
    "    \n",
    "3. Using the null distribution, compute **p-value**.\n",
    "\n",
    "    - The p-value is the probability of getting a sample with a test statistic as more extreme than observed sample assuming $H_0$ is true\n",
    "    \n",
    "    - It is the area in the tail(s) beyond test statistic.\n",
    "    \n",
    "    - The more \"extreme\" the observed sample, the smaller the p-value\n",
    "    \n",
    "4. Based on the **significance level**, $\\alpha$ make a decision to reject or not reject the null hypothesis\n",
    "\n",
    "    - If $\\text{p-value} \\leq{\\alpha}$, we reject $H_0$ \n",
    "    \n",
    "    - If $\\text{p-value} > {\\alpha}$, we do not reject $H_0$ \n",
    "    \n",
    "5. Summarize the results.\n",
    "\n",
    "    - If we reject $H_0$, this means there is enough evidence to support the claim in $H_a$\n",
    "    \n",
    "    - If we do not reject $H_a$, this means there is no evidence to support the claim $H_a$. The test is inconclusive."
   ]
  },
  {
   "cell_type": "markdown",
   "id": "83bcbc9c-c5d3-40d0-9d93-cc9d664f65bb",
   "metadata": {},
   "source": [
    "## Hypothesis Test with one population\n",
    "\n",
    "### Paul the octopus (aka the Oracle Octopus)\n",
    "\n",
    "<div class=\"alert alert-block alert-info\" style=\"margin-top: 20px\">\n",
    "<ol>\n",
    "<img src=\"images/8-ex1.png\" width=\"900\" />\n",
    "</ol>\n",
    "\n",
    "</div>\n",
    "\n"
   ]
  },
  {
   "cell_type": "markdown",
   "id": "f90dd7cb-2347-4ccd-9b6c-955543502094",
   "metadata": {},
   "source": [
    "***(a) Set up the null and alternative hypotheses in terms of the proportion of all correct guesses an octopus makes.***\n",
    "\n",
    "$$H_0: P = \\frac{1}{2} \\text{: Boring claim; Paul is just guessing not psychic} $$\n",
    "$$H_a: P > \\frac{1}{2} \\text{: Paul is psychic!} $$\n",
    "\n",
    "So we have right tail test.\n",
    "\n",
    "***(b) How unusual would this be if Paul was just randomly guessing? Compare the p-value.***\n",
    "\n",
    "- If Paul is guessing, how likely is he to get 8 or more correct?\n",
    "\n",
    "$X \\sim Binom(8, \\frac{1}{2})$ \n",
    "\n",
    "$\\text{p-value} = P(X \\geq 8) = P(X = 8)= (\\frac{1}{2})^8 = .0039$"
   ]
  },
  {
   "cell_type": "code",
   "execution_count": 3,
   "id": "91f17708-35c3-4aa0-8eca-33baaa613cc5",
   "metadata": {},
   "outputs": [
    {
     "data": {
      "text/html": [
       "0.00390625"
      ],
      "text/latex": [
       "0.00390625"
      ],
      "text/markdown": [
       "0.00390625"
      ],
      "text/plain": [
       "[1] 0.00390625"
      ]
     },
     "metadata": {},
     "output_type": "display_data"
    }
   ],
   "source": [
    "dbinom(8, 8, .5)"
   ]
  },
  {
   "cell_type": "markdown",
   "id": "5227c89d-ed6d-4091-8ff6-2043dd15392d",
   "metadata": {},
   "source": [
    "***(c) If a 5% significance level is chosen, what is the result?***\n",
    "\n",
    "$\\text{p-value} = 0.0039 \\leq 0.05 = \\alpha$ \n",
    "\n",
    "Test is significant; we reject $H_0$"
   ]
  },
  {
   "cell_type": "markdown",
   "id": "d4809242-0923-4874-9553-134b5e163c27",
   "metadata": {},
   "source": [
    "### SAT math scores\n",
    "\n",
    "<div class=\"alert alert-block alert-info\" style=\"margin-top: 20px\">\n",
    "<ol>\n",
    "<img src=\"images/8-ex2.png\" width=\"900\" />\n",
    "</ol>\n",
    "\n",
    "</div>"
   ]
  },
  {
   "cell_type": "markdown",
   "id": "e7337e8a-51a2-4351-bf91-d624448e84a9",
   "metadata": {},
   "source": [
    "***(a) Set up the null and alternative hypothesis***\n",
    "\n",
    "$$H_0: \\mu \\text{: Their students are same as national average}$$\n",
    "\n",
    "$$H_a: \\mu > 570 \\text{: Their students scored better than the average}$$"
   ]
  },
  {
   "cell_type": "markdown",
   "id": "f29a9f99-4049-4f0d-8ecd-9ee6fd6ecc01",
   "metadata": {},
   "source": [
    "***(b) Compute the test statistic and interpret the meaning in practical terms*** \n",
    "\n",
    "$$Z = \\frac{\\bar{x} - \\mu}{\\theta_{\\bar{x}}} = \\frac{613-570}{\\theta/\\sqrt n} = \\frac{613-570}{107/\\sqrt {25}} = 2.01$$"
   ]
  },
  {
   "cell_type": "code",
   "execution_count": 23,
   "id": "fc76948f-4ce8-4441-802e-1c365d734829",
   "metadata": {},
   "outputs": [
    {
     "data": {
      "image/png": "[encoded data removed]",
      "text/plain": [
       "plot without title"
      ]
     },
     "metadata": {},
     "output_type": "display_data"
    }
   ],
   "source": [
    "x <- seq(-5, 5, 0.1)\n",
    "plot(x = x, y = dnorm(x), type=\"l\", bty=\"n\")\n",
    "abline(v = 2.01, lwd = 2, col = \"red\")\n"
   ]
  },
  {
   "cell_type": "code",
   "execution_count": 24,
   "id": "a5bbc87f-20a8-4afb-814a-19f647e2bd9b",
   "metadata": {},
   "outputs": [
    {
     "data": {
      "text/html": [
       "0.0222155944294314"
      ],
      "text/latex": [
       "0.0222155944294314"
      ],
      "text/markdown": [
       "0.0222155944294314"
      ],
      "text/plain": [
       "[1] 0.02221559"
      ]
     },
     "metadata": {},
     "output_type": "display_data"
    }
   ],
   "source": [
    "# P(Z>2.01)\n",
    "1 - pnorm(2.01) "
   ]
  },
  {
   "cell_type": "markdown",
   "id": "fbfd8701-cb06-4c6e-839c-4ff3c2f15236",
   "metadata": {},
   "source": [
    "***(d)***\n",
    "\n",
    "  - ***If a 5%  significance level is chosen, what is the result? If a 1%  significance level is chosen, what is the result?***\n",
    "    \n",
    "     - $$\\text{p-value} = 0.0222 \\leq 0.05 = \\alpha \\text{: Reject } H_0$$ \n",
    "     \n",
    "  - ***If a 1%  significance level is chosen, what is the result? If a 1%  significance level is chosen, what is the result?***\n",
    "    \n",
    "     - $$\\text{p-value} = 0.0222 > 0.01 = \\alpha \\text{: Fail to Reject } H_0$$ \n",
    "    "
   ]
  },
  {
   "cell_type": "code",
   "execution_count": null,
   "id": "3e234ce8-8201-4073-958c-57ef3a7389c0",
   "metadata": {},
   "outputs": [],
   "source": []
  }
 ],
 "metadata": {
  "kernelspec": {
   "display_name": "R",
   "language": "R",
   "name": "ir"
  },
  "language_info": {
   "codemirror_mode": "r",
   "file_extension": ".r",
   "mimetype": "text/x-r-source",
   "name": "R",
   "pygments_lexer": "r",
   "version": "3.6.1"
  }
 },
 "nbformat": 4,
 "nbformat_minor": 5
}
