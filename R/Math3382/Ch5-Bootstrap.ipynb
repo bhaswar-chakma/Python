{
 "cells": [
  {
   "cell_type": "markdown",
   "id": "10d2cc5a",
   "metadata": {},
   "source": [
    "# Chapter 5: Introduction to Confidence Intervals: The Bootstrap\n",
    "\n",
    "<https://sites.google.com/site/chiharahesterberg/chapter-materials-Ed2>\n",
    "\n",
    "<https://www.youtube.com/playlist?list=PLNyILlFU1DRfKsEkd5kRR3xb2si2HIwZX>"
   ]
  },
  {
   "cell_type": "markdown",
   "id": "6f4829bc",
   "metadata": {},
   "source": [
    "## Intro to Bootstrap Distributions"
   ]
  },
  {
   "cell_type": "markdown",
   "id": "5a7a5c3d",
   "metadata": {},
   "source": [
    "We have seen how to construct a sampling distribution in several situations:\n",
    "\n",
    "- If we know the population mean and standard deviation, we can use CLT.\n",
    "\n",
    "- When we are performing a hypothesis test, we simulate the sampling distribution\n",
    "\n",
    "**In many situations, we only have one sample, and no claim about about the population. How can we construct a sampling distribution in such scenarios?**"
   ]
  },
  {
   "cell_type": "markdown",
   "id": "8e77f6b2",
   "metadata": {},
   "source": [
    "### Example\n",
    "\n",
    "The dataset `NCBirths2004` from the textbook contains data from a random sample of 1009 babies born in North Carolina in 2004 and contains variables:\n",
    "\n",
    "- `Age`: monther's age\n",
    "\n",
    "- `Tobacco`: mother used tobacco?\n",
    "\n",
    "- `Gender`: gender assigned at birth to baby\n",
    "\n",
    "- `Weight`\n",
    "\n",
    "- `Gestation`: gestation period in weeks when born\n",
    "\n",
    "Open R and using this dataset, give a good estimate for the mean weight (in grams) of all babies born in North Carolina in 2004. **How sure are you with your estimate?**"
   ]
  },
  {
   "cell_type": "code",
   "execution_count": 4,
   "id": "b409d3d1",
   "metadata": {},
   "outputs": [],
   "source": [
    "library(resampledata) # for data\n",
    "library(tidyverse)"
   ]
  },
  {
   "cell_type": "code",
   "execution_count": 5,
   "id": "e350f02f",
   "metadata": {},
   "outputs": [
    {
     "data": {
      "text/html": [
       "<table>\n",
       "<thead><tr><th scope=col>ID</th><th scope=col>MothersAge</th><th scope=col>Tobacco</th><th scope=col>Alcohol</th><th scope=col>Gender</th><th scope=col>Weight</th><th scope=col>Gestation</th><th scope=col>Smoker</th></tr></thead>\n",
       "<tbody>\n",
       "\t<tr><td>1     </td><td>30-34 </td><td>No    </td><td>No    </td><td>Male  </td><td>3827  </td><td>40    </td><td>No    </td></tr>\n",
       "\t<tr><td>2     </td><td>30-34 </td><td>No    </td><td>No    </td><td>Male  </td><td>3629  </td><td>38    </td><td>No    </td></tr>\n",
       "\t<tr><td>3     </td><td>35-39 </td><td>No    </td><td>No    </td><td>Female</td><td>3062  </td><td>37    </td><td>No    </td></tr>\n",
       "\t<tr><td>4     </td><td>20-24 </td><td>No    </td><td>No    </td><td>Female</td><td>3430  </td><td>39    </td><td>No    </td></tr>\n",
       "\t<tr><td>5     </td><td>25-29 </td><td>No    </td><td>No    </td><td>Male  </td><td>3827  </td><td>38    </td><td>No    </td></tr>\n",
       "\t<tr><td>6     </td><td>35-39 </td><td>No    </td><td>No    </td><td>Female</td><td>3119  </td><td>39    </td><td>No    </td></tr>\n",
       "</tbody>\n",
       "</table>\n"
      ],
      "text/latex": [
       "\\begin{tabular}{r|llllllll}\n",
       " ID & MothersAge & Tobacco & Alcohol & Gender & Weight & Gestation & Smoker\\\\\n",
       "\\hline\n",
       "\t 1      & 30-34  & No     & No     & Male   & 3827   & 40     & No    \\\\\n",
       "\t 2      & 30-34  & No     & No     & Male   & 3629   & 38     & No    \\\\\n",
       "\t 3      & 35-39  & No     & No     & Female & 3062   & 37     & No    \\\\\n",
       "\t 4      & 20-24  & No     & No     & Female & 3430   & 39     & No    \\\\\n",
       "\t 5      & 25-29  & No     & No     & Male   & 3827   & 38     & No    \\\\\n",
       "\t 6      & 35-39  & No     & No     & Female & 3119   & 39     & No    \\\\\n",
       "\\end{tabular}\n"
      ],
      "text/markdown": [
       "\n",
       "| ID | MothersAge | Tobacco | Alcohol | Gender | Weight | Gestation | Smoker |\n",
       "|---|---|---|---|---|---|---|---|\n",
       "| 1      | 30-34  | No     | No     | Male   | 3827   | 40     | No     |\n",
       "| 2      | 30-34  | No     | No     | Male   | 3629   | 38     | No     |\n",
       "| 3      | 35-39  | No     | No     | Female | 3062   | 37     | No     |\n",
       "| 4      | 20-24  | No     | No     | Female | 3430   | 39     | No     |\n",
       "| 5      | 25-29  | No     | No     | Male   | 3827   | 38     | No     |\n",
       "| 6      | 35-39  | No     | No     | Female | 3119   | 39     | No     |\n",
       "\n"
      ],
      "text/plain": [
       "  ID MothersAge Tobacco Alcohol Gender Weight Gestation Smoker\n",
       "1 1  30-34      No      No      Male   3827   40        No    \n",
       "2 2  30-34      No      No      Male   3629   38        No    \n",
       "3 3  35-39      No      No      Female 3062   37        No    \n",
       "4 4  20-24      No      No      Female 3430   39        No    \n",
       "5 5  25-29      No      No      Male   3827   38        No    \n",
       "6 6  35-39      No      No      Female 3119   39        No    "
      ]
     },
     "metadata": {},
     "output_type": "display_data"
    }
   ],
   "source": [
    "head(NCBirths2004)"
   ]
  },
  {
   "cell_type": "code",
   "execution_count": 8,
   "id": "adfdb65c",
   "metadata": {},
   "outputs": [
    {
     "name": "stdout",
     "output_type": "stream",
     "text": [
      "Observations: 1,009\n",
      "Variables: 8\n",
      "$ ID         <int> 1, 2, 3, 4, 5, 6, 7, 8, 9, 10, 11, 12, 13, 14, 15, 16, 1...\n",
      "$ MothersAge <fct> 30-34, 30-34, 35-39, 20-24, 25-29, 35-39, 20-24, 20-24, ...\n",
      "$ Tobacco    <fct> No, No, No, No, No, No, No, No, No, No, No, Yes, No, No,...\n",
      "$ Alcohol    <fct> No, No, No, No, No, No, No, No, No, No, No, No, No, No, ...\n",
      "$ Gender     <fct> Male, Male, Female, Female, Male, Female, Female, Male, ...\n",
      "$ Weight     <int> 3827, 3629, 3062, 3430, 3827, 3119, 3260, 3969, 3175, 30...\n",
      "$ Gestation  <int> 40, 38, 37, 39, 38, 39, 40, 40, 39, 39, 41, 39, 38, 39, ...\n",
      "$ Smoker     <fct> No, No, No, No, No, No, No, No, No, No, No, Yes, No, No,...\n"
     ]
    }
   ],
   "source": [
    "glimpse(NCBirths2004)"
   ]
  },
  {
   "cell_type": "code",
   "execution_count": 7,
   "id": "c2fee108",
   "metadata": {},
   "outputs": [
    {
     "data": {
      "text/html": [
       "3448.25966303271"
      ],
      "text/latex": [
       "3448.25966303271"
      ],
      "text/markdown": [
       "3448.25966303271"
      ],
      "text/plain": [
       "[1] 3448.26"
      ]
     },
     "metadata": {},
     "output_type": "display_data"
    }
   ],
   "source": [
    "# Mean weight in grams\n",
    "mean(NCBirths2004$Weight)"
   ]
  },
  {
   "cell_type": "markdown",
   "id": "15d43d97",
   "metadata": {},
   "source": [
    "## Bootstrap Distributions\n",
    "\n",
    "Given an original sample of size n from a population:\n",
    "\n",
    "- Draw a resample of size n with replacement from the original sample. Compute the relevant statistic.\n",
    "\n",
    "- Repeat this many times (say 10,000 times)\n",
    "\n",
    "- Construct the **bootstrap distribution** of the statistic"
   ]
  },
  {
   "cell_type": "markdown",
   "id": "2635e87b",
   "metadata": {},
   "source": [
    "### Example\n",
    "\n",
    "*Consider the a random sample of 4 baby weights: 3800, 3065, 2950, and 4100.\n",
    "Which of the following could be a possible bootrstrap resample? Explain why or why not.*\n",
    "\n",
    "1. 3800, 3065, 4100\n",
    "\n",
    "2. 3800, 3800, 3800, 3800,\n",
    "\n",
    "3. 3800, 3065, 2950, 4100\n",
    "\n",
    "4. 3800, 3065, 2950, 4100, 4100\n",
    "\n",
    "5. 3800, 3065, 2950, 3450\n",
    "\n",
    "\n",
    "**Answer:** We can easily elminiate choices 3 and 4 (sample size should be 4). Choice 5 includes an impossible value i.e. 3450. So, correct choices are **2 and 3**.\n",
    "\n",
    "*How many possible bootstrap resamples can be constructed from an original sample that has n values?*\n",
    "\n",
    "**Answer**: $n^n$"
   ]
  },
  {
   "cell_type": "markdown",
   "id": "c187ba2b",
   "metadata": {},
   "source": [
    "## Constructing Bootstrap Distribution\n",
    "\n",
    "Below is the R code and corresponding output used to create a bootstrap distribution for the sample mean from the North Carolina births dataset:"
   ]
  },
  {
   "cell_type": "markdown",
   "id": "b995f89c",
   "metadata": {},
   "source": [
    "**Task:**\n",
    "\n",
    "Instead of going for $1009^{1009}$ resamples, we will take 10,000 resamples.\n",
    "\n",
    "1. For each bootstrap resample, pick 1009 random numbers with replacement\n",
    "\n",
    "2. Compute mean\n",
    "\n",
    "3. Store it in `result`"
   ]
  },
  {
   "cell_type": "code",
   "execution_count": 25,
   "id": "3452d251",
   "metadata": {},
   "outputs": [],
   "source": [
    "N <- 10^5 # number of bootstrap resamples:100,000\n",
    "result <- numeric(N) # vector where to store sample stats e.g. mean\n",
    "weight <- resampledata::NCBirths2004$Weight\n",
    "for (i in 1:N){\n",
    "    x <- sample(weight, size = 1009, replace = TRUE)\n",
    "    result[i] <- mean(x)\n",
    "}"
   ]
  },
  {
   "cell_type": "code",
   "execution_count": 23,
   "id": "98cd38e8",
   "metadata": {},
   "outputs": [
    {
     "data": {
      "image/png": "[encoded data removed]",
      "text/plain": [
       "Plot with title \"Bootstrap Distribution\""
      ]
     },
     "metadata": {},
     "output_type": "display_data"
    }
   ],
   "source": [
    "# Create a histogram of resulting bootstrap sample means\n",
    "hist(result, xlab = \"x-bar\", main = \"Bootstrap Distribution\")"
   ]
  },
  {
   "cell_type": "code",
   "execution_count": 27,
   "id": "9eede679",
   "metadata": {},
   "outputs": [
    {
     "data": {
      "text/html": [
       "3448.17700371655"
      ],
      "text/latex": [
       "3448.17700371655"
      ],
      "text/markdown": [
       "3448.17700371655"
      ],
      "text/plain": [
       "[1] 3448.177"
      ]
     },
     "metadata": {},
     "output_type": "display_data"
    }
   ],
   "source": [
    "# Calculate center of the bootstrap distribution\n",
    "mean(result)"
   ]
  },
  {
   "cell_type": "code",
   "execution_count": 28,
   "id": "7880f308",
   "metadata": {},
   "outputs": [
    {
     "data": {
      "text/html": [
       "15.3068066698676"
      ],
      "text/latex": [
       "15.3068066698676"
      ],
      "text/markdown": [
       "15.3068066698676"
      ],
      "text/plain": [
       "[1] 15.30681"
      ]
     },
     "metadata": {},
     "output_type": "display_data"
    }
   ],
   "source": [
    "# Calculate standard error of the bootstrap distribution\n",
    "sd(result)"
   ]
  },
  {
   "cell_type": "code",
   "execution_count": null,
   "id": "292f3a28",
   "metadata": {},
   "outputs": [],
   "source": []
  }
 ],
 "metadata": {
  "kernelspec": {
   "display_name": "R",
   "language": "R",
   "name": "ir"
  },
  "language_info": {
   "codemirror_mode": "r",
   "file_extension": ".r",
   "mimetype": "text/x-r-source",
   "name": "R",
   "pygments_lexer": "r",
   "version": "3.6.1"
  }
 },
 "nbformat": 4,
 "nbformat_minor": 5
}
