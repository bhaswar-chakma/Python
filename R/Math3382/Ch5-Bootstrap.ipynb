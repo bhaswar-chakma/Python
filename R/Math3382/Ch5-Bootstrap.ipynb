{
 "cells": [
  {
   "cell_type": "markdown",
   "id": "ea010b51",
   "metadata": {},
   "source": [
    "# Chapter 5: Introduction to Confidence Intervals: The Bootstrap\n",
    "\n",
    "<https://sites.google.com/site/chiharahesterberg/chapter-materials-Ed2>\n",
    "\n",
    "<https://www.youtube.com/playlist?list=PLNyILlFU1DRfKsEkd5kRR3xb2si2HIwZX>"
   ]
  },
  {
   "cell_type": "markdown",
   "id": "b4545ab6",
   "metadata": {},
   "source": [
    "## Intro to Bootstrap Distributions"
   ]
  },
  {
   "cell_type": "markdown",
   "id": "cd60ef6e",
   "metadata": {},
   "source": [
    "We have seen how to construct a sampling distribution in several situations:\n",
    "\n",
    "- If we know the population mean and standard deviation, we can use CLT.\n",
    "\n",
    "- When we are performing a hypothesis test, we simulate the sampling distribution\n",
    "\n",
    "**In many situations, we only have one sample, and no claim about about the population. How can we construct a sampling distribution in such scenarios?**"
   ]
  },
  {
   "cell_type": "markdown",
   "id": "ae152b75",
   "metadata": {},
   "source": [
    "### Example\n",
    "\n",
    "The dataset `NCBirths2004` from the textbook contains data from a random sample of 1009 babies born in North Carolina in 2004 and contains variables:\n",
    "\n",
    "- `Age`: monther's age\n",
    "\n",
    "- `Tobacco`: mother used tobacco?\n",
    "\n",
    "- `Gender`: gender assigned at birth to baby\n",
    "\n",
    "- `Weight`\n",
    "\n",
    "- `Gestation`: gestation period in weeks when born\n",
    "\n",
    "Open R and using this dataset, give a good estimate for the mean weight (in grams) of all babies born in North Carolina in 2004. **How sure are you with your estimate?**"
   ]
  },
  {
   "cell_type": "code",
   "execution_count": 1,
   "id": "f47a86a8",
   "metadata": {},
   "outputs": [
    {
     "name": "stderr",
     "output_type": "stream",
     "text": [
      "\n",
      "Attaching package: 'resampledata'\n",
      "\n",
      "The following object is masked from 'package:datasets':\n",
      "\n",
      "    Titanic\n",
      "\n",
      "Registered S3 methods overwritten by 'ggplot2':\n",
      "  method         from \n",
      "  [.quosures     rlang\n",
      "  c.quosures     rlang\n",
      "  print.quosures rlang\n",
      "Registered S3 method overwritten by 'rvest':\n",
      "  method            from\n",
      "  read_xml.response xml2\n",
      "-- Attaching packages --------------------------------------- tidyverse 1.2.1 --\n",
      "v ggplot2 3.1.1       v purrr   0.3.2  \n",
      "v tibble  2.1.1       v dplyr   0.8.0.1\n",
      "v tidyr   0.8.3       v stringr 1.4.0  \n",
      "v readr   1.3.1       v forcats 0.4.0  \n",
      "-- Conflicts ------------------------------------------ tidyverse_conflicts() --\n",
      "x dplyr::filter() masks stats::filter()\n",
      "x dplyr::lag()    masks stats::lag()\n"
     ]
    }
   ],
   "source": [
    "library(resampledata) # for data\n",
    "library(tidyverse)"
   ]
  },
  {
   "cell_type": "code",
   "execution_count": 2,
   "id": "754221c3",
   "metadata": {},
   "outputs": [
    {
     "data": {
      "text/html": [
       "<table>\n",
       "<thead><tr><th scope=col>ID</th><th scope=col>MothersAge</th><th scope=col>Tobacco</th><th scope=col>Alcohol</th><th scope=col>Gender</th><th scope=col>Weight</th><th scope=col>Gestation</th><th scope=col>Smoker</th></tr></thead>\n",
       "<tbody>\n",
       "\t<tr><td>1     </td><td>30-34 </td><td>No    </td><td>No    </td><td>Male  </td><td>3827  </td><td>40    </td><td>No    </td></tr>\n",
       "\t<tr><td>2     </td><td>30-34 </td><td>No    </td><td>No    </td><td>Male  </td><td>3629  </td><td>38    </td><td>No    </td></tr>\n",
       "\t<tr><td>3     </td><td>35-39 </td><td>No    </td><td>No    </td><td>Female</td><td>3062  </td><td>37    </td><td>No    </td></tr>\n",
       "\t<tr><td>4     </td><td>20-24 </td><td>No    </td><td>No    </td><td>Female</td><td>3430  </td><td>39    </td><td>No    </td></tr>\n",
       "\t<tr><td>5     </td><td>25-29 </td><td>No    </td><td>No    </td><td>Male  </td><td>3827  </td><td>38    </td><td>No    </td></tr>\n",
       "\t<tr><td>6     </td><td>35-39 </td><td>No    </td><td>No    </td><td>Female</td><td>3119  </td><td>39    </td><td>No    </td></tr>\n",
       "</tbody>\n",
       "</table>\n"
      ],
      "text/latex": [
       "\\begin{tabular}{r|llllllll}\n",
       " ID & MothersAge & Tobacco & Alcohol & Gender & Weight & Gestation & Smoker\\\\\n",
       "\\hline\n",
       "\t 1      & 30-34  & No     & No     & Male   & 3827   & 40     & No    \\\\\n",
       "\t 2      & 30-34  & No     & No     & Male   & 3629   & 38     & No    \\\\\n",
       "\t 3      & 35-39  & No     & No     & Female & 3062   & 37     & No    \\\\\n",
       "\t 4      & 20-24  & No     & No     & Female & 3430   & 39     & No    \\\\\n",
       "\t 5      & 25-29  & No     & No     & Male   & 3827   & 38     & No    \\\\\n",
       "\t 6      & 35-39  & No     & No     & Female & 3119   & 39     & No    \\\\\n",
       "\\end{tabular}\n"
      ],
      "text/markdown": [
       "\n",
       "| ID | MothersAge | Tobacco | Alcohol | Gender | Weight | Gestation | Smoker |\n",
       "|---|---|---|---|---|---|---|---|\n",
       "| 1      | 30-34  | No     | No     | Male   | 3827   | 40     | No     |\n",
       "| 2      | 30-34  | No     | No     | Male   | 3629   | 38     | No     |\n",
       "| 3      | 35-39  | No     | No     | Female | 3062   | 37     | No     |\n",
       "| 4      | 20-24  | No     | No     | Female | 3430   | 39     | No     |\n",
       "| 5      | 25-29  | No     | No     | Male   | 3827   | 38     | No     |\n",
       "| 6      | 35-39  | No     | No     | Female | 3119   | 39     | No     |\n",
       "\n"
      ],
      "text/plain": [
       "  ID MothersAge Tobacco Alcohol Gender Weight Gestation Smoker\n",
       "1 1  30-34      No      No      Male   3827   40        No    \n",
       "2 2  30-34      No      No      Male   3629   38        No    \n",
       "3 3  35-39      No      No      Female 3062   37        No    \n",
       "4 4  20-24      No      No      Female 3430   39        No    \n",
       "5 5  25-29      No      No      Male   3827   38        No    \n",
       "6 6  35-39      No      No      Female 3119   39        No    "
      ]
     },
     "metadata": {},
     "output_type": "display_data"
    }
   ],
   "source": [
    "head(NCBirths2004)"
   ]
  },
  {
   "cell_type": "code",
   "execution_count": 3,
   "id": "48dc71f9",
   "metadata": {},
   "outputs": [
    {
     "name": "stdout",
     "output_type": "stream",
     "text": [
      "Observations: 1,009\n",
      "Variables: 8\n",
      "$ ID         <int> 1, 2, 3, 4, 5, 6, 7, 8, 9, 10, 11, 12, 13, 14, 15, 16, 1...\n",
      "$ MothersAge <fct> 30-34, 30-34, 35-39, 20-24, 25-29, 35-39, 20-24, 20-24, ...\n",
      "$ Tobacco    <fct> No, No, No, No, No, No, No, No, No, No, No, Yes, No, No,...\n",
      "$ Alcohol    <fct> No, No, No, No, No, No, No, No, No, No, No, No, No, No, ...\n",
      "$ Gender     <fct> Male, Male, Female, Female, Male, Female, Female, Male, ...\n",
      "$ Weight     <int> 3827, 3629, 3062, 3430, 3827, 3119, 3260, 3969, 3175, 30...\n",
      "$ Gestation  <int> 40, 38, 37, 39, 38, 39, 40, 40, 39, 39, 41, 39, 38, 39, ...\n",
      "$ Smoker     <fct> No, No, No, No, No, No, No, No, No, No, No, Yes, No, No,...\n"
     ]
    }
   ],
   "source": [
    "glimpse(NCBirths2004)"
   ]
  },
  {
   "cell_type": "code",
   "execution_count": 4,
   "id": "034a9924",
   "metadata": {},
   "outputs": [
    {
     "data": {
      "text/html": [
       "3448.25966303271"
      ],
      "text/latex": [
       "3448.25966303271"
      ],
      "text/markdown": [
       "3448.25966303271"
      ],
      "text/plain": [
       "[1] 3448.26"
      ]
     },
     "metadata": {},
     "output_type": "display_data"
    }
   ],
   "source": [
    "# Mean weight in grams\n",
    "mean(NCBirths2004$Weight)"
   ]
  },
  {
   "cell_type": "markdown",
   "id": "095f028f",
   "metadata": {},
   "source": [
    "## Bootstrap Distributions\n",
    "\n",
    "Given an original sample of size n from a population:\n",
    "\n",
    "- Draw a resample of size n with replacement from the original sample. Compute the relevant statistic.\n",
    "\n",
    "- Repeat this many times (say 10,000 times)\n",
    "\n",
    "- Construct the **bootstrap distribution** of the statistic"
   ]
  },
  {
   "cell_type": "markdown",
   "id": "2968730a",
   "metadata": {},
   "source": [
    "### Example\n",
    "\n",
    "*Consider the a random sample of 4 baby weights: 3800, 3065, 2950, and 4100.\n",
    "Which of the following could be a possible bootrstrap resample? Explain why or why not.*\n",
    "\n",
    "1. 3800, 3065, 4100\n",
    "\n",
    "2. 3800, 3800, 3800, 3800,\n",
    "\n",
    "3. 3800, 3065, 2950, 4100\n",
    "\n",
    "4. 3800, 3065, 2950, 4100, 4100\n",
    "\n",
    "5. 3800, 3065, 2950, 3450\n",
    "\n",
    "\n",
    "**Answer:** We can easily elminiate choices 3 and 4 (sample size should be 4). Choice 5 includes an impossible value i.e. 3450. So, correct choices are **2 and 3**.\n",
    "\n",
    "*How many possible bootstrap resamples can be constructed from an original sample that has n values?*\n",
    "\n",
    "**Answer**: $n^n$"
   ]
  },
  {
   "cell_type": "markdown",
   "id": "f39ef25d",
   "metadata": {},
   "source": [
    "## Constructing Bootstrap Distribution\n",
    "\n",
    "Below is the R code and corresponding output used to create a bootstrap distribution for the sample mean from the North Carolina births dataset:"
   ]
  },
  {
   "cell_type": "markdown",
   "id": "2cc1eb9e",
   "metadata": {},
   "source": [
    "**Task:**\n",
    "\n",
    "Instead of going for $1009^{1009}$ resamples, we will take 10,000 resamples.\n",
    "\n",
    "1. For each bootstrap resample, pick 1009 random numbers with replacement\n",
    "\n",
    "2. Compute mean\n",
    "\n",
    "3. Store it in `result`"
   ]
  },
  {
   "cell_type": "code",
   "execution_count": 5,
   "id": "bcf0ee34",
   "metadata": {},
   "outputs": [],
   "source": [
    "N <- 10^5 # number of bootstrap resamples:100,000\n",
    "result <- numeric(N) # vector where to store sample stats e.g. mean\n",
    "weight <- resampledata::NCBirths2004$Weight\n",
    "for (i in 1:N){\n",
    "    x <- sample(weight, size = 1009, replace = TRUE)\n",
    "    result[i] <- mean(x)\n",
    "}"
   ]
  },
  {
   "cell_type": "code",
   "execution_count": 6,
   "id": "da77a919",
   "metadata": {},
   "outputs": [
    {
     "data": {
      "image/png": "[encoded data removed]",
      "text/plain": [
       "Plot with title \"Bootstrap Distribution\""
      ]
     },
     "metadata": {},
     "output_type": "display_data"
    }
   ],
   "source": [
    "# Create a histogram of resulting bootstrap sample means\n",
    "hist(result, xlab = \"x-bar\", main = \"Bootstrap Distribution\")"
   ]
  },
  {
   "cell_type": "code",
   "execution_count": 7,
   "id": "fbbb0f6d",
   "metadata": {},
   "outputs": [
    {
     "data": {
      "text/html": [
       "3448.28808303271"
      ],
      "text/latex": [
       "3448.28808303271"
      ],
      "text/markdown": [
       "3448.28808303271"
      ],
      "text/plain": [
       "[1] 3448.288"
      ]
     },
     "metadata": {},
     "output_type": "display_data"
    }
   ],
   "source": [
    "# Calculate center of the bootstrap distribution\n",
    "mean(result)"
   ]
  },
  {
   "cell_type": "code",
   "execution_count": 8,
   "id": "0f72f397",
   "metadata": {},
   "outputs": [
    {
     "data": {
      "text/html": [
       "15.3100791537504"
      ],
      "text/latex": [
       "15.3100791537504"
      ],
      "text/markdown": [
       "15.3100791537504"
      ],
      "text/plain": [
       "[1] 15.31008"
      ]
     },
     "metadata": {},
     "output_type": "display_data"
    }
   ],
   "source": [
    "# Calculate standard error of the bootstrap distribution\n",
    "sd(result)"
   ]
  },
  {
   "cell_type": "markdown",
   "id": "4b485879",
   "metadata": {},
   "source": [
    "## Approximating Sampling Distribution with a Bootstrap Distribution"
   ]
  },
  {
   "cell_type": "markdown",
   "id": "4469aaf4",
   "metadata": {},
   "source": [
    "<img src=\"images/5-4.png\" width=\"700\" />\n",
    "\n",
    "- Top left plot shows a distribution with mean 23 and variance 49\n",
    "\n",
    "- Lower left plot shows a sample of the above plot\n",
    "\n",
    "- Top right shows the actual sampling distribution\n",
    "\n",
    "- Lower right shows bootstrap distribution\n",
    "\n",
    "The table reveals that sd of the actual distribution and the bootstrap distribution are really close; means differ slightly i.e. there is bias\n",
    "\n",
    "\n",
    "We can use bootstrap distribution as an estimate for the sampling distribution.\n",
    "\n",
    "- The **center** of the bootstrap distribution is NOT an accurate approximation for the center of the sampling distribution.\n",
    "\n",
    "- The **spread** of the bootstrap distribution DOES reflect the spread of the sampling distribution.\n",
    "\n",
    "- The **skewness**  of the bootstrap distribution DOES reflect the skewness of the sampling distribution.\n",
    "\n",
    "- **Shape** will be similar as well."
   ]
  },
  {
   "cell_type": "markdown",
   "id": "c9bbedd2",
   "metadata": {},
   "source": [
    "## The Plug-in Principle\n",
    "\n",
    "To understand the principle, we will use the following example.\n",
    "\n",
    "**Arsenic in Groundwater**\n",
    "\n",
    "Arsenic is naturally occurring element in the groundwater in Bangladesh. Much of this water is used for drinking in rural areas, so arsenic poisoning is a serious health issue. The dataset `Bangladesh` contains measurements on arsenic, chlorine, and cobalt levels (in parts per billion, ppb) present in each of 271 groundwater samples. Using R, calculate the mean and standard deviation of the arsenic level of the sample"
   ]
  },
  {
   "cell_type": "code",
   "execution_count": 9,
   "id": "d605f592",
   "metadata": {},
   "outputs": [
    {
     "data": {
      "text/html": [
       "271"
      ],
      "text/latex": [
       "271"
      ],
      "text/markdown": [
       "271"
      ],
      "text/plain": [
       "[1] 271"
      ]
     },
     "metadata": {},
     "output_type": "display_data"
    },
    {
     "data": {
      "text/html": [
       "125.319926199262"
      ],
      "text/latex": [
       "125.319926199262"
      ],
      "text/markdown": [
       "125.319926199262"
      ],
      "text/plain": [
       "[1] 125.3199"
      ]
     },
     "metadata": {},
     "output_type": "display_data"
    },
    {
     "data": {
      "text/html": [
       "297.975491239219"
      ],
      "text/latex": [
       "297.975491239219"
      ],
      "text/markdown": [
       "297.975491239219"
      ],
      "text/plain": [
       "[1] 297.9755"
      ]
     },
     "metadata": {},
     "output_type": "display_data"
    }
   ],
   "source": [
    "Arsenic <- resampledata::Bangladesh$Arsenic\n",
    "length(Arsenic)\n",
    "mean(Arsenic)\n",
    "sd(Arsenic)"
   ]
  },
  {
   "cell_type": "markdown",
   "id": "c31ce748",
   "metadata": {},
   "source": [
    "The data here is heavily right skewed; see the plot below."
   ]
  },
  {
   "cell_type": "code",
   "execution_count": 10,
   "id": "d19ded9e",
   "metadata": {},
   "outputs": [
    {
     "data": {
      "image/png": "[encoded data removed]",
      "text/plain": [
       "Plot with title \"Histogram of Arsenic\""
      ]
     },
     "metadata": {},
     "output_type": "display_data"
    }
   ],
   "source": [
    "sample_mean <- mean(Arsenic)\n",
    "sample_sd <- sd(Arsenic)\n",
    "hist(Arsenic)"
   ]
  },
  {
   "cell_type": "markdown",
   "id": "26bd800d",
   "metadata": {},
   "source": [
    "<span style=\"color:blue\">**Plug-in Principle**: *To estimate a parameter $\\theta$, use the relevant sample statistic denoted in general with a hat $\\hat{\\theta}$*.</span>"
   ]
  },
  {
   "cell_type": "markdown",
   "id": "6b889d5b-a04d-479e-8227-5e659f877068",
   "metadata": {},
   "source": [
    "## Interval Estimate with Bootstrap Distribution\n",
    "\n",
    "Based on the 271 groundwater samples in Bangladesh, we have $\\mu \\approx \\bar{x} = 125.3199$ ppb. <span style=\"color:red\">*How can we build some error into our estimate to account for the uncertainty due to randomness of the sampling*?</span>"
   ]
  },
  {
   "cell_type": "code",
   "execution_count": 11,
   "id": "928a9d40",
   "metadata": {},
   "outputs": [],
   "source": [
    "n <- length(Arsenic) # number of obs\n",
    "N <- 10^4 # number of bootstrap samples\n",
    "boot_mean <- numeric(N) # means to stored\n",
    "\n",
    "# Pick n values from the original sample with replacement\n",
    "# Calculate mean of each boostrap sample\n",
    "\n",
    "for (i in 1:N){\n",
    "    x <- sample(Arsenic, size = n, replace = TRUE)\n",
    "    boot_mean[i] <- mean(x)\n",
    "}"
   ]
  },
  {
   "cell_type": "code",
   "execution_count": 12,
   "id": "20d417be",
   "metadata": {},
   "outputs": [
    {
     "data": {
      "image/png": "[encoded data removed]",
      "text/plain": [
       "Plot with title \"Histogram of boot_mean\""
      ]
     },
     "metadata": {},
     "output_type": "display_data"
    }
   ],
   "source": [
    "# Show bootstrap sample\n",
    "hist(boot_mean)\n",
    "abline(v = sample_mean, # sample_mean was previously created\n",
    "       col = \"red\", lwd = 2, lty = 2) "
   ]
  },
  {
   "cell_type": "markdown",
   "id": "cbde6c1d",
   "metadata": {},
   "source": [
    "- Let $\\mu$ denote the mean amount of arsenic (in all) groundwater in Bangladesh\n",
    "\n",
    "- Using the **Plug-in Principle**, we get a **point estimate** $\\mu \\approx \\bar{x} = 125.3199$ ppb.\n",
    "\n",
    "- Let's build some error into our estimate to account for the randomness in sampling\n",
    "\n",
    "- Usually when estimating an unknown population parameter, we give an **interval estimate** that gives range of plausible values for the parameter.\n"
   ]
  },
  {
   "cell_type": "code",
   "execution_count": 13,
   "id": "84714428",
   "metadata": {},
   "outputs": [
    {
     "data": {
      "text/html": [
       "17.9311946103943"
      ],
      "text/latex": [
       "17.9311946103943"
      ],
      "text/markdown": [
       "17.9311946103943"
      ],
      "text/plain": [
       "[1] 17.93119"
      ]
     },
     "metadata": {},
     "output_type": "display_data"
    }
   ],
   "source": [
    "# Using empirical rule, we can construct the 95% interval\n",
    "\n",
    "#calculate standard error\n",
    "sd_error <- sd(boot_mean)\n",
    "sd_error"
   ]
  },
  {
   "cell_type": "code",
   "execution_count": 14,
   "id": "08fc9e93",
   "metadata": {},
   "outputs": [
    {
     "data": {
      "text/html": [
       "161.105185567652"
      ],
      "text/latex": [
       "161.105185567652"
      ],
      "text/markdown": [
       "161.105185567652"
      ],
      "text/plain": [
       "[1] 161.1052"
      ]
     },
     "metadata": {},
     "output_type": "display_data"
    }
   ],
   "source": [
    "# upper interval\n",
    "mean(boot_mean) + 2*sd_error"
   ]
  },
  {
   "cell_type": "code",
   "execution_count": 15,
   "id": "d41f6f94",
   "metadata": {},
   "outputs": [
    {
     "data": {
      "text/html": [
       "89.3804071260748"
      ],
      "text/latex": [
       "89.3804071260748"
      ],
      "text/markdown": [
       "89.3804071260748"
      ],
      "text/plain": [
       "[1] 89.38041"
      ]
     },
     "metadata": {},
     "output_type": "display_data"
    }
   ],
   "source": [
    "# lower interval\n",
    "mean(boot_mean) - 2*sd_error"
   ]
  },
  {
   "cell_type": "code",
   "execution_count": 16,
   "id": "c9abda0d",
   "metadata": {},
   "outputs": [
    {
     "data": {
      "text/html": [
       "<dl class=dl-horizontal>\n",
       "\t<dt>2.5%</dt>\n",
       "\t\t<dd>91.9958763837638</dd>\n",
       "\t<dt>97.5%</dt>\n",
       "\t\t<dd>162.63405904059</dd>\n",
       "</dl>\n"
      ],
      "text/latex": [
       "\\begin{description*}\n",
       "\\item[2.5\\textbackslash{}\\%] 91.9958763837638\n",
       "\\item[97.5\\textbackslash{}\\%] 162.63405904059\n",
       "\\end{description*}\n"
      ],
      "text/markdown": [
       "2.5%\n",
       ":   91.995876383763897.5%\n",
       ":   162.63405904059\n",
       "\n"
      ],
      "text/plain": [
       "     2.5%     97.5% \n",
       " 91.99588 162.63406 "
      ]
     },
     "metadata": {},
     "output_type": "display_data"
    }
   ],
   "source": [
    "# direct calculation\n",
    "quantile(boot_mean, c(0.025, .975))"
   ]
  },
  {
   "cell_type": "markdown",
   "id": "a07f118f",
   "metadata": {},
   "source": [
    "<div class=\"alert alert-block alert-info\" style=\"margin-top: 20px\">\n",
    "<ol>\n",
    "The interval between the 2.5 and 97.5 percentiles of the bootstrap distribution of a statistic is a 95% bootstrap percentile confidence interval for the coresponding parameter.\n",
    "\n",
    "- There is a 95% chance the interval contains the actual value of the population parameter.\n",
    "\n",
    "- The success rate, 95%, is called the confidence interval.\n",
    "\n",
    "Note that **the uncertainty is attached to the interval**, not the population parameter -- \"it is what it is\". \n",
    "\n",
    "**DO NOT SAY**: ~\"95% chance the population parameter is in the interval\"~\n",
    "</ol>\n",
    "\n",
    "</div>\n",
    "\n"
   ]
  },
  {
   "cell_type": "markdown",
   "id": "f4f3b2e7-834a-4f91-9f49-b59eb5971598",
   "metadata": {},
   "source": [
    "## Two Sample Bootstrap Distribution\n",
    "\n",
    "### Example: Length of Commercials\n",
    "What is the difference between the length of commercials of basic cable channels and on extended cable channels? The table shows the total number of minutes devoted to commercials during randomly selected half-hour periods on basic and extended cable TV channels.\n",
    "\n",
    "\n",
    "|        |   |    |    |    |   |   |   |    |    |  |  |  |\n",
    "|:-----------|---:|----:|----:|----:|---:|---:|---:|----:|----:|---:|---:|---:|\n",
    "|times_basic | 7.0| 10.0| 10.6| 10.2| 8.6| 7.6| 8.2| 10.4| 11.0| 8.5|  NA|  NA|\n",
    "|times_ext   | 3.4|  7.8|  9.4|  4.7| 5.4| 7.6| 5.0|  8.0|  7.8| 9.6| 6.2| 8.1|\n"
   ]
  },
  {
   "cell_type": "code",
   "execution_count": 17,
   "id": "e13fd51e-9393-427a-b085-d4cbbf2c5023",
   "metadata": {},
   "outputs": [],
   "source": [
    "times_basic <- c(7, 10,  10.6, 10.2, 8.6, 7.6, 8.2, 10.4, 11, 8.5)\n",
    "times_ext <- c(3.4, 7.8, 9.4,  4.7, 5.4, 7.6, 5, 8, 7.8, 9.6, 6.2, 8.1)"
   ]
  },
  {
   "cell_type": "code",
   "execution_count": 18,
   "id": "74f5befa-56cb-4af5-8114-7ac1bde375bf",
   "metadata": {},
   "outputs": [
    {
     "data": {
      "image/png": "[encoded data removed]",
      "text/plain": [
       "plot without title"
      ]
     },
     "metadata": {},
     "output_type": "display_data"
    }
   ],
   "source": [
    "boxplot(times_basic, times_ext, names = c(\"Basic\", \"Extended\"))"
   ]
  },
  {
   "cell_type": "code",
   "execution_count": 19,
   "id": "6e54b5d5-eda7-4a6b-b3f5-4e271c22cd7f",
   "metadata": {},
   "outputs": [
    {
     "data": {
      "text/html": [
       "9.21"
      ],
      "text/latex": [
       "9.21"
      ],
      "text/markdown": [
       "9.21"
      ],
      "text/plain": [
       "[1] 9.21"
      ]
     },
     "metadata": {},
     "output_type": "display_data"
    },
    {
     "data": {
      "text/html": [
       "1.39558828694808"
      ],
      "text/latex": [
       "1.39558828694808"
      ],
      "text/markdown": [
       "1.39558828694808"
      ],
      "text/plain": [
       "[1] 1.395588"
      ]
     },
     "metadata": {},
     "output_type": "display_data"
    },
    {
     "data": {
      "text/html": [
       "10"
      ],
      "text/latex": [
       "10"
      ],
      "text/markdown": [
       "10"
      ],
      "text/plain": [
       "[1] 10"
      ]
     },
     "metadata": {},
     "output_type": "display_data"
    }
   ],
   "source": [
    "# mean basic\n",
    "(mean_basic <- mean(times_basic))\n",
    "\n",
    "# sd basic\n",
    "(sd_basic <- sd(times_basic))\n",
    "\n",
    "# n basic\n",
    "(n_basic <- length(times_basic))"
   ]
  },
  {
   "cell_type": "code",
   "execution_count": 20,
   "id": "925d746a-d8b1-47b2-a049-52689b5d1e24",
   "metadata": {},
   "outputs": [
    {
     "data": {
      "text/html": [
       "6.91666666666667"
      ],
      "text/latex": [
       "6.91666666666667"
      ],
      "text/markdown": [
       "6.91666666666667"
      ],
      "text/plain": [
       "[1] 6.916667"
      ]
     },
     "metadata": {},
     "output_type": "display_data"
    },
    {
     "data": {
      "text/html": [
       "1.94788152212665"
      ],
      "text/latex": [
       "1.94788152212665"
      ],
      "text/markdown": [
       "1.94788152212665"
      ],
      "text/plain": [
       "[1] 1.947882"
      ]
     },
     "metadata": {},
     "output_type": "display_data"
    },
    {
     "data": {
      "text/html": [
       "12"
      ],
      "text/latex": [
       "12"
      ],
      "text/markdown": [
       "12"
      ],
      "text/plain": [
       "[1] 12"
      ]
     },
     "metadata": {},
     "output_type": "display_data"
    }
   ],
   "source": [
    "# mean extended\n",
    "(mean_ext <- mean(times_ext))\n",
    "\n",
    "# sd extended\n",
    "(sd_ext <- sd(times_ext))\n",
    "\n",
    "# n extended\n",
    "(n_ext <- length(times_ext))"
   ]
  },
  {
   "cell_type": "markdown",
   "id": "7b0d899d-b46b-4337-8656-95cd6435172c",
   "metadata": {},
   "source": [
    "<div class=\"alert alert-block alert-info\" style=\"margin-top: 20px\">\n",
    "<ol>\n",
    "Given independent samples of sizes m and n from two populations:\n",
    "\n",
    "- Draw a resample of size m with replacement from the first sample\n",
    "\n",
    "- Draw a resample for size  with replacement fromt he second sample\n",
    "    \n",
    "- Compute a statistic that compares the two groups, such as a difference in the two sample means\n",
    "    \n",
    "- Repeat resampling many times over\n",
    "    \n",
    "- Construct a bootstrap distribution of the statistic\n",
    "    \n",
    "Notice **we do not pool the two samples together** since there is no claim that there is no difference between the two populations.\n",
    "\n",
    "</ol>\n",
    "\n",
    "</div>\n",
    "\n",
    "Give a **90% bootstrap percentile confidence interval** to estimate the difference between the length of commercial times and interpret your answer."
   ]
  },
  {
   "cell_type": "code",
   "execution_count": 21,
   "id": "d0a99b88-d07e-4be6-919d-a8db9f689224",
   "metadata": {},
   "outputs": [],
   "source": [
    "N <- 1e4 # number of resamples\n",
    "mean_diff <- numeric(N)\n",
    "for (i in 1:N){\n",
    "    basic_boot <- sample(times_basic, size = n_basic, replace = TRUE)\n",
    "    ext_boot <- sample(times_ext, size = n_ext, replace = TRUE)\n",
    "    mean_diff[i] <- mean(basic_boot) - mean(ext_boot)\n",
    "}"
   ]
  },
  {
   "cell_type": "code",
   "execution_count": 22,
   "id": "dcea304e-c8b0-4c7f-bfea-3bbad3298d0e",
   "metadata": {},
   "outputs": [
    {
     "data": {
      "text/html": [
       "2.29333333333333"
      ],
      "text/latex": [
       "2.29333333333333"
      ],
      "text/markdown": [
       "2.29333333333333"
      ],
      "text/plain": [
       "[1] 2.293333"
      ]
     },
     "metadata": {},
     "output_type": "display_data"
    },
    {
     "data": {
      "text/html": [
       "<strong>5%:</strong> 1.20325"
      ],
      "text/latex": [
       "\\textbf{5\\textbackslash{}\\%:} 1.20325"
      ],
      "text/markdown": [
       "**5%:** 1.20325"
      ],
      "text/plain": [
       "     5% \n",
       "1.20325 "
      ]
     },
     "metadata": {},
     "output_type": "display_data"
    },
    {
     "data": {
      "text/html": [
       "<strong>95%:</strong> 3.435"
      ],
      "text/latex": [
       "\\textbf{95\\textbackslash{}\\%:} 3.435"
      ],
      "text/markdown": [
       "**95%:** 3.435"
      ],
      "text/plain": [
       "  95% \n",
       "3.435 "
      ]
     },
     "metadata": {},
     "output_type": "display_data"
    }
   ],
   "source": [
    "# Observed Difference\n",
    "(observed_diff <- mean(times_basic) - mean(times_ext))\n",
    "# Confidence Interval\n",
    "(lower <- quantile(mean_diff, probs = .05))\n",
    "(upper <- quantile(mean_diff, probs = .95))"
   ]
  },
  {
   "cell_type": "code",
   "execution_count": 23,
   "id": "cebb3acf-5625-4b1c-aa59-210280d9a513",
   "metadata": {},
   "outputs": [
    {
     "data": {
      "image/png": "[encoded data removed]",
      "text/plain": [
       "Plot with title \"Histogram of mean_diff\""
      ]
     },
     "metadata": {},
     "output_type": "display_data"
    }
   ],
   "source": [
    "hist(mean_diff)\n",
    "abline(v = observed_diff, col = \"red\", lwd = 2)\n",
    "abline(v = lower, col = \"blue\", lwd = 2, lty = 2)\n",
    "abline(v = upper, col = \"blue\", lwd = 2, lty = 2)"
   ]
  },
  {
   "cell_type": "markdown",
   "id": "b1b6c237-9e8d-4680-aabe-18bd29d93a77",
   "metadata": {},
   "source": [
    "## Matched-Pair Bootstrapping\n",
    "\n",
    "<div class=\"alert alert-block alert-info\" style=\"margin-top: 20px\">\n",
    "<ol>\n",
    "\n",
    "Given matched samples each size n:\n",
    "    \n",
    "    \n",
    "- For each pair calculate the difference\n",
    "    \n",
    "- Consider the collection of n differences as your original sample\n",
    "    \n",
    "- Draw a resample of size n with replacement fromt the sample of differences. Compute the relevant statistic.\n",
    "    \n",
    "- Repeat this many times.\n",
    "    \n",
    "- Construct the bootstrap distribution of the statistic.\n",
    "\n",
    "</ol>\n",
    "\n",
    "</div>\n",
    "\n",
    "\n",
    "### Example: Wetsuit\n",
    "\n",
    "Recall the wetsuit example where we compared the maximum velocity of 12 swimmers each with a wetsuit and with a normal bathing suit. If instead of hypothesis test, suppose we have no claim and wanto to estimate what is the average difference between maximum velocities of all swimmers with and without the wetsuit. The mean of the differences of sample is $\\bar{x}_{dff} = 0.0755$ m/sec.\n",
    "\n",
    "|Swimmer    |    1|    2|    3|    4|    5|    6|    7|    8|    9|   10|   11|   12|\n",
    "|:----------|----:|----:|----:|----:|----:|----:|----:|----:|----:|----:|----:|----:|\n",
    "|wetsuit    | 1.57| 1.47| 1.42| 1.35| 1.22| 1.75| 1.64| 1.57| 1.56| 1.53| 1.49| 1.51|\n",
    "|no_wetsuit | 1.49| 1.37| 1.35| 1.27| 1.12| 1.64| 1.59| 1.52| 1.50| 1.45| 1.44| 1.41|\n",
    "|<span style=\"color:green\">**difference**</span> | 0.08| 0.10| 0.07| 0.08| 0.10| 0.11| 0.05| 0.05| 0.06| 0.08| 0.05| 0.10|"
   ]
  },
  {
   "cell_type": "code",
   "execution_count": 24,
   "id": "080c62a6-2171-4cad-8b91-4963984f7a41",
   "metadata": {},
   "outputs": [
    {
     "data": {
      "text/html": [
       "0.0775"
      ],
      "text/latex": [
       "0.0775"
      ],
      "text/markdown": [
       "0.0775"
      ],
      "text/plain": [
       "[1] 0.0775"
      ]
     },
     "metadata": {},
     "output_type": "display_data"
    }
   ],
   "source": [
    "wetsuit <- c(1.57, 1.47, 1.42, 1.35, 1.22, 1.75,\n",
    "             1.64, 1.57, 1.56, 1.53, 1.49, 1.51)\n",
    "no_wetsuit <- c(1.49, 1.37, 1.35, 1.27, 1.12, 1.64,\n",
    "                 1.59, 1.52, 1.5, 1.45, 1.44, 1.41)\n",
    "# pairwise differences\n",
    "pair_diff <- wetsuit - no_wetsuit\n",
    "# mean difference\n",
    "(mean_diff <- mean(pair_diff))"
   ]
  },
  {
   "cell_type": "markdown",
   "id": "9b106c47-5c36-4f4c-be5d-fc9695662c3d",
   "metadata": {},
   "source": [
    "**Construct a 95% bootstrap percentile confidence interval to estimate this difference and interpret your answer.**"
   ]
  },
  {
   "cell_type": "code",
   "execution_count": 25,
   "id": "2c3211b0-0568-4bb2-97d7-2a53eac0fd8f",
   "metadata": {},
   "outputs": [],
   "source": [
    "sample_size <- length(pair_diff) \n",
    "number_of_resamples <- 1e5 \n",
    "boot_mean_diff <- numeric(number_of_resamples) # where to be stored\n",
    "for (i in 1:number_of_resamples){\n",
    "    result  <- sample(pair_diff, size = sample_size, replace = TRUE)\n",
    "    boot_mean_diff[i] <- mean(result)\n",
    "}"
   ]
  },
  {
   "cell_type": "code",
   "execution_count": 26,
   "id": "ea568275-298f-47ab-b6a4-b195fb42e459",
   "metadata": {},
   "outputs": [
    {
     "data": {
      "text/html": [
       "<strong>2.5%:</strong> 0.0658333333333333"
      ],
      "text/latex": [
       "\\textbf{2.5\\textbackslash{}\\%:} 0.0658333333333333"
      ],
      "text/markdown": [
       "**2.5%:** 0.0658333333333333"
      ],
      "text/plain": [
       "      2.5% \n",
       "0.06583333 "
      ]
     },
     "metadata": {},
     "output_type": "display_data"
    },
    {
     "data": {
      "text/html": [
       "<strong>97.5%:</strong> 0.0891666666666667"
      ],
      "text/latex": [
       "\\textbf{97.5\\textbackslash{}\\%:} 0.0891666666666667"
      ],
      "text/markdown": [
       "**97.5%:** 0.0891666666666667"
      ],
      "text/plain": [
       "     97.5% \n",
       "0.08916667 "
      ]
     },
     "metadata": {},
     "output_type": "display_data"
    }
   ],
   "source": [
    "(lower <- quantile(boot_mean_diff, probs = .025))\n",
    "(upper <- quantile(boot_mean_diff, probs = 0.975))"
   ]
  },
  {
   "cell_type": "code",
   "execution_count": 27,
   "id": "9c0c6219-ab47-484d-b91d-4ba209119eb8",
   "metadata": {},
   "outputs": [
    {
     "data": {
      "image/png": "[encoded data removed]",
      "text/plain": [
       "Plot with title \"Histogram of boot_mean_diff\""
      ]
     },
     "metadata": {},
     "output_type": "display_data"
    }
   ],
   "source": [
    "hist(boot_mean_diff)\n",
    "abline(v = lower, col = \"blue\", lwd = 2, lty = 2)\n",
    "abline(v = upper, col = \"blue\", lwd = 2, lty = 2)"
   ]
  },
  {
   "cell_type": "markdown",
   "id": "7d0ba8c7-f624-42c7-8e80-794353f80a03",
   "metadata": {},
   "source": [
    "## Bootstrap Distributions with Other Statistics\n",
    "\n",
    "<https://www.youtube.com/watch?v=HLYZz2IzU4s&list=PLNyILlFU1DRfKsEkd5kRR3xb2si2HIwZX&index=11>\n",
    "\n",
    "<https://www.youtube.com/watch?v=GyZJzlQUQ40&list=PLNyILlFU1DRfKsEkd5kRR3xb2si2HIwZX&index=12>\n",
    "\n",
    "\n",
    "Verizon is the incumbent local exchange carreir (ILEC) for a large part of the Eastern US. When there is an emergency Verizon is responsible for making repairs for the customers of telephone companies in the region known as competing local exchange carriers (CLEC's). Verizon is subject to fines if repair times for CLEC customers are substantially worse than the times for Verizon customers. The dataset `Verizon` contains a sample of repair times (`Time`) for 1664 ILEC and 23 CLEC customers (`Group`).\n",
    "\n",
    "1. Calculate the mean repair time for the sample of the ILEC customers.\n",
    "\n",
    "2. Calculate the mean repair time for the sample of the CLEC customers.\n",
    "\n",
    "3. Calculate the ration of $\\frac{\\bar{x}_{ILEC}}{\\bar{x}_{CLEC}}$ and interpret the meaning of this value.\n",
    "\n",
    "4. Why might regulators be more interested in comparing the ratio of the means rather than the difference of the means?"
   ]
  },
  {
   "cell_type": "code",
   "execution_count": 28,
   "id": "95b45b43-8d9c-4ac6-8c4d-b1eda6d3f012",
   "metadata": {},
   "outputs": [
    {
     "data": {
      "text/html": [
       "<table>\n",
       "<thead><tr><th scope=col>Time</th><th scope=col>Group</th></tr></thead>\n",
       "<tbody>\n",
       "\t<tr><td>17.50</td><td>ILEC </td></tr>\n",
       "\t<tr><td> 2.40</td><td>ILEC </td></tr>\n",
       "\t<tr><td> 0.00</td><td>ILEC </td></tr>\n",
       "\t<tr><td> 0.65</td><td>ILEC </td></tr>\n",
       "\t<tr><td>22.23</td><td>ILEC </td></tr>\n",
       "\t<tr><td> 1.20</td><td>ILEC </td></tr>\n",
       "</tbody>\n",
       "</table>\n"
      ],
      "text/latex": [
       "\\begin{tabular}{r|ll}\n",
       " Time & Group\\\\\n",
       "\\hline\n",
       "\t 17.50 & ILEC \\\\\n",
       "\t  2.40 & ILEC \\\\\n",
       "\t  0.00 & ILEC \\\\\n",
       "\t  0.65 & ILEC \\\\\n",
       "\t 22.23 & ILEC \\\\\n",
       "\t  1.20 & ILEC \\\\\n",
       "\\end{tabular}\n"
      ],
      "text/markdown": [
       "\n",
       "| Time | Group |\n",
       "|---|---|\n",
       "| 17.50 | ILEC  |\n",
       "|  2.40 | ILEC  |\n",
       "|  0.00 | ILEC  |\n",
       "|  0.65 | ILEC  |\n",
       "| 22.23 | ILEC  |\n",
       "|  1.20 | ILEC  |\n",
       "\n"
      ],
      "text/plain": [
       "  Time  Group\n",
       "1 17.50 ILEC \n",
       "2  2.40 ILEC \n",
       "3  0.00 ILEC \n",
       "4  0.65 ILEC \n",
       "5 22.23 ILEC \n",
       "6  1.20 ILEC "
      ]
     },
     "metadata": {},
     "output_type": "display_data"
    }
   ],
   "source": [
    "head(resampledata::Verizon)"
   ]
  },
  {
   "cell_type": "code",
   "execution_count": 29,
   "id": "a5e89b82-739c-46d7-9f29-6994500cd14a",
   "metadata": {},
   "outputs": [
    {
     "data": {
      "text/plain": [
       "\n",
       "CLEC ILEC \n",
       "  23 1664 "
      ]
     },
     "metadata": {},
     "output_type": "display_data"
    }
   ],
   "source": [
    "table(resampledata::Verizon$Group)"
   ]
  },
  {
   "cell_type": "code",
   "execution_count": 30,
   "id": "ccc7bed5-fb35-4592-a86e-d998a45032f2",
   "metadata": {},
   "outputs": [
    {
     "data": {
      "text/html": [
       "0.509512636668065"
      ],
      "text/latex": [
       "0.509512636668065"
      ],
      "text/markdown": [
       "0.509512636668065"
      ],
      "text/plain": [
       "[1] 0.5095126"
      ]
     },
     "metadata": {},
     "output_type": "display_data"
    }
   ],
   "source": [
    "# Get vectors of data by Group\n",
    "time_ilec <- subset(resampledata::Verizon, select = Time,\n",
    "                    Group == \"ILEC\", drop = TRUE) # TRUE drops var names\n",
    "time_clec <- subset(resampledata::Verizon, select = Time,\n",
    "                    Group == \"CLEC\", drop = TRUE) # TRUE drops var names\n",
    "\n",
    "# Find ratio: x-bar-ilac/x-bar-clec\n",
    "(sample_ratio_mean <- mean(time_ilec)/mean(time_clec))"
   ]
  },
  {
   "cell_type": "markdown",
   "id": "24a757ee-c7cf-499c-91cc-87a655699a25",
   "metadata": {},
   "source": [
    "This ratio indicates that Verizon takes double time for other customers. This is suspicious!\n",
    "\n",
    "**Construct a 95% bootstrap confidence interval for the ratio of the two means.**"
   ]
  },
  {
   "cell_type": "code",
   "execution_count": 31,
   "id": "020bd293-bb48-432a-bbfc-71b26b0f53ae",
   "metadata": {},
   "outputs": [],
   "source": [
    "number_of_resamples <- 10^4\n",
    "boot_ratio_mean <- numeric(number_of_resamples)\n",
    "for (i in 1:number_of_resamples){\n",
    "    ilec_sample <- sample(time_ilec, size = length(time_ilec), replace = TRUE)\n",
    "    clec_sample <- sample(time_clec, size = length(time_clec), replace = TRUE)\n",
    "    boot_ratio_mean[i] <- mean(ilec_sample)/mean(clec_sample)\n",
    "}"
   ]
  },
  {
   "cell_type": "code",
   "execution_count": 32,
   "id": "e272960b-f1e1-4e90-87be-28028e724732",
   "metadata": {},
   "outputs": [
    {
     "data": {
      "text/html": [
       "<strong>2.5%:</strong> 0.326765420747592"
      ],
      "text/latex": [
       "\\textbf{2.5\\textbackslash{}\\%:} 0.326765420747592"
      ],
      "text/markdown": [
       "**2.5%:** 0.326765420747592"
      ],
      "text/plain": [
       "     2.5% \n",
       "0.3267654 "
      ]
     },
     "metadata": {},
     "output_type": "display_data"
    },
    {
     "data": {
      "text/html": [
       "<strong>97.5%:</strong> 0.831593196006796"
      ],
      "text/latex": [
       "\\textbf{97.5\\textbackslash{}\\%:} 0.831593196006796"
      ],
      "text/markdown": [
       "**97.5%:** 0.831593196006796"
      ],
      "text/plain": [
       "    97.5% \n",
       "0.8315932 "
      ]
     },
     "metadata": {},
     "output_type": "display_data"
    }
   ],
   "source": [
    "(lower <- quantile(boot_ratio_mean, probs = .025))\n",
    "(upper <- quantile(boot_ratio_mean, probs = .975))"
   ]
  },
  {
   "cell_type": "code",
   "execution_count": 33,
   "id": "0b7d53b6-007e-4992-a7a5-85289d42cc89",
   "metadata": {},
   "outputs": [
    {
     "ename": "ERROR",
     "evalue": "Error in hist(time_ratio_mean): object 'time_ratio_mean' not found\n",
     "output_type": "error",
     "traceback": [
      "Error in hist(time_ratio_mean): object 'time_ratio_mean' not found\nTraceback:\n",
      "1. hist(time_ratio_mean)"
     ]
    }
   ],
   "source": [
    "hist(time_ratio_mean)\n",
    "abline(v = lower, col = \"grey\", lwd = 2, lty = 2)\n",
    "abline(v = upper, col = \"grey\", lwd = 2, lty = 2)\n",
    "abline(v = sample_ratio_mean, col = \"blue\", lwd = 2, lty = 2) # sample\n",
    "abline(v = mean(boot_ratio_mean), col = \"red\", lwd = 2, lty = 2) # boot "
   ]
  },
  {
   "cell_type": "code",
   "execution_count": null,
   "id": "3f14233a-424e-4df6-9495-e0fced0ca89a",
   "metadata": {},
   "outputs": [],
   "source": [
    "qqnorm(boot_ratio_mean)\n",
    "qqline(time_ratio_mean)"
   ]
  },
  {
   "cell_type": "code",
   "execution_count": null,
   "id": "5ad1ab02-01ce-413d-b93f-5d6068dee268",
   "metadata": {},
   "outputs": [],
   "source": [
    "sample_ratio_mean\n",
    "mean(boot_ratio_mean) # Bias! The bootstrap ratio is slightly bigger due to the right skewed distribution"
   ]
  },
  {
   "cell_type": "markdown",
   "id": "02e4069e-e3d0-488e-a587-7590f946a82b",
   "metadata": {},
   "source": [
    "**We can construct confidence interval estimates for statistics even if there is no theoretical formula for the corresponding sampling distribution.**"
   ]
  },
  {
   "cell_type": "markdown",
   "id": "52ce7450-03d1-47f9-944a-0b6c18103fe3",
   "metadata": {},
   "source": [
    "## Bias\n",
    "\n",
    "<div class=\"alert alert-block alert-info\" style=\"margin-top: 20px\">\n",
    "<ol>\n",
    "\n",
    "- An estimator $\\hat{\\theta}$ is **biased** if on average it tends to be too high or too low relative to the true value of $\\theta$. The bias of an estimator is\n",
    "\n",
    "$$\\text{Bias}[\\hat{\\theta}] = \\text{E}[\\hat{\\theta}] - \\theta $$\n",
    "\n",
    "\n",
    "- The bootstrap estimate of bias is\n",
    "$$\\text{Bias}_{boot}[\\hat{\\theta}^*] = \\text{E}[\\hat{\\theta}^*] -\\hat{\\theta}$$\n",
    "\n",
    "  - $\\text{E}[\\hat{\\theta}^*]$ denotes the center of the bootstrap distribution\n",
    "  \n",
    "  - $\\hat{\\theta}$ denotes the sample statistic\n",
    "  \n",
    "- An estimator is unbiased if the bias is zero\n",
    "\n",
    "</ol>\n",
    "\n",
    "</div>\n",
    "\n",
    "<img src=\"images/bias.png\" width=\"700\" />"
   ]
  },
  {
   "cell_type": "markdown",
   "id": "980db24d-ee40-4ea6-ba45-50cb5282e676",
   "metadata": {},
   "source": [
    "<div class=\"alert alert-block alert-info\" style=\"margin-top: 20px\">\n",
    "<ol>\n",
    "\n",
    "- We can measure how extreme is the bias of an estimator using the ratio:\n",
    "\n",
    "$$\\frac{Bias}{SE} \\approx \\frac{\\text{Bootstrap Bias}}{\\text{Bootstrap SE}}$$\n",
    "\n",
    "- *Rule of Thumb*: If the ratio of $\\frac{Bias}{SE}$ exceeds $\\pm 0.02$, then the bias is large enough to have a substantial effect on the accuracy of the estimate\n",
    "\n",
    "</ol>\n",
    "\n",
    "</div>\n",
    "\n"
   ]
  },
  {
   "cell_type": "markdown",
   "id": "8e8fdbb7-aca3-4eff-ad8b-8637df5b741a",
   "metadata": {},
   "source": [
    "- In the arsenic example, we used a bootstrap distribution to estimate the mean arsenic level present in groundwater in Bangladesh. The mean of the original sample is $\\bar{x} = 125.320$. The mean of the bootstrap distribution is 125.229. A bootstrap standard error is $17.9$.\n",
    "\n",
    "- In the Verizon example, the Boostrap estimate of bias was $0.03$ and the bootstrap standard error was $0.133$.\n",
    "\n",
    "- Which bias is more extreme, the bias in the arsenic or Verizon example?\n",
    "\n",
    "  - arsenic $-.005$ : small\n",
    "  \n",
    "  - Verizon $.226$ : big"
   ]
  },
  {
   "cell_type": "markdown",
   "id": "54ce73b2-c5dd-43c3-bc5f-d527a4d9632f",
   "metadata": {},
   "source": [
    "## Implementation and Accuracy\n",
    "\n",
    "How accurate are estimates obtained using bootstraped distributions?\n",
    "\n",
    "Bootstrapping includes two sources of randomness\n",
    "\n",
    "- The original sample is chosen at random from the population\n",
    "\n",
    "- The bootstrap resamples are chosen at random from the original sample\n",
    "\n",
    "In the Verizon example, there are at most $1664^{1664}$.$23^{23}$ different bootstrap samples. We randomly selected $N = 10,000$ bootstrap resamples in our bootstrap distribution.\n",
    "\n",
    "- We have not been ensuring we generate all possible bootstrap samples while avoiding repeats.\n",
    "\n",
    "- The larger the number of bootstrap samples, the better the estimate. As a rule, $N = 10^4$ bootstrap samples or more is sufficient."
   ]
  },
  {
   "cell_type": "code",
   "execution_count": null,
   "id": "0ecc2f20-c4a4-4c96-8940-806d6db3c4c7",
   "metadata": {},
   "outputs": [],
   "source": []
  }
 ],
 "metadata": {
  "kernelspec": {
   "display_name": "R",
   "language": "R",
   "name": "ir"
  },
  "language_info": {
   "codemirror_mode": "r",
   "file_extension": ".r",
   "mimetype": "text/x-r-source",
   "name": "R",
   "pygments_lexer": "r",
   "version": "3.6.1"
  }
 },
 "nbformat": 4,
 "nbformat_minor": 5
}
